{
  "nbformat": 4,
  "nbformat_minor": 0,
  "metadata": {
    "colab": {
      "name": "TParcial.ipynb",
      "provenance": [],
      "collapsed_sections": [
        "S20uBveBEeq2",
        "UW24exUxh8TN"
      ],
      "authorship_tag": "ABX9TyNYEOsyTe4GKFMnq95vUbbM",
      "include_colab_link": true
    },
    "kernelspec": {
      "name": "python3",
      "display_name": "Python 3"
    },
    "language_info": {
      "name": "python"
    }
  },
  "cells": [
    {
      "cell_type": "markdown",
      "metadata": {
        "id": "view-in-github",
        "colab_type": "text"
      },
      "source": [
        "<a href=\"https://colab.research.google.com/github/NightBright/TSP/blob/main/TParcial.ipynb\" target=\"_parent\"><img src=\"https://colab.research.google.com/assets/colab-badge.svg\" alt=\"Open In Colab\"/></a>"
      ]
    },
    {
      "cell_type": "code",
      "metadata": {
        "id": "xC0VvA9_sUo7"
      },
      "source": [
        "import pandas as pd\n",
        "import networkx as nx\n",
        "import heapq as hq\n",
        "import math\n",
        "import numpy as np\n",
        "import matplotlib.pyplot as plt"
      ],
      "execution_count": null,
      "outputs": []
    },
    {
      "cell_type": "code",
      "metadata": {
        "id": "JuNNQo3LstY6"
      },
      "source": [
        "df= pd.read_excel(\"/content/sample_data/población_expuesta_a_inundaciones_-_inei_2017.xlsx\")"
      ],
      "execution_count": null,
      "outputs": []
    },
    {
      "cell_type": "code",
      "metadata": {
        "colab": {
          "base_uri": "https://localhost:8080/",
          "height": 636
        },
        "id": "Gj_xnGEbuvZ0",
        "outputId": "c586672d-bd46-49af-9d4d-8dab1a6bcc90"
      },
      "source": [
        "df"
      ],
      "execution_count": null,
      "outputs": [
        {
          "output_type": "execute_result",
          "data": {
            "text/html": [
              "<div>\n",
              "<style scoped>\n",
              "    .dataframe tbody tr th:only-of-type {\n",
              "        vertical-align: middle;\n",
              "    }\n",
              "\n",
              "    .dataframe tbody tr th {\n",
              "        vertical-align: top;\n",
              "    }\n",
              "\n",
              "    .dataframe thead th {\n",
              "        text-align: right;\n",
              "    }\n",
              "</style>\n",
              "<table border=\"1\" class=\"dataframe\">\n",
              "  <thead>\n",
              "    <tr style=\"text-align: right;\">\n",
              "      <th></th>\n",
              "      <th>INSTITUTO NACIONAL DE DEFENSA CIVIL\\nDIRECCIÓN DE PREPARACIÓN\\nSubdirección de Sistematización de Información sobre Escenarios de Riesgos de Desastres SD - SIERD</th>\n",
              "      <th>Unnamed: 1</th>\n",
              "      <th>Unnamed: 2</th>\n",
              "      <th>Unnamed: 3</th>\n",
              "      <th>Unnamed: 4</th>\n",
              "      <th>Unnamed: 5</th>\n",
              "      <th>Unnamed: 6</th>\n",
              "      <th>Unnamed: 7</th>\n",
              "    </tr>\n",
              "  </thead>\n",
              "  <tbody>\n",
              "    <tr>\n",
              "      <th>0</th>\n",
              "      <td>POBLACIÓN EXPUESTA A PELIGRO MUY ALTO DE INUND...</td>\n",
              "      <td>NaN</td>\n",
              "      <td>NaN</td>\n",
              "      <td>NaN</td>\n",
              "      <td>NaN</td>\n",
              "      <td>NaN</td>\n",
              "      <td>NaN</td>\n",
              "      <td>NaN</td>\n",
              "    </tr>\n",
              "    <tr>\n",
              "      <th>1</th>\n",
              "      <td>DEPARTAMENTO</td>\n",
              "      <td>PROVINCIA</td>\n",
              "      <td>DISTRITO</td>\n",
              "      <td>CENTRO POBLADO</td>\n",
              "      <td>LATITUD</td>\n",
              "      <td>LONGITUD</td>\n",
              "      <td>VIVIENDAS</td>\n",
              "      <td>POBLACIÓN</td>\n",
              "    </tr>\n",
              "    <tr>\n",
              "      <th>2</th>\n",
              "      <td>AMAZONAS</td>\n",
              "      <td>BONGARA</td>\n",
              "      <td>JAZAN</td>\n",
              "      <td>PEDRO RUIZ GALLO</td>\n",
              "      <td>-5.94139</td>\n",
              "      <td>-77.9771</td>\n",
              "      <td>1365</td>\n",
              "      <td>5361</td>\n",
              "    </tr>\n",
              "    <tr>\n",
              "      <th>3</th>\n",
              "      <td>AMAZONAS</td>\n",
              "      <td>UTCUBAMBA</td>\n",
              "      <td>LONYA GRANDE</td>\n",
              "      <td>LONYA GRANDE</td>\n",
              "      <td>-6.09637</td>\n",
              "      <td>-78.4225</td>\n",
              "      <td>698</td>\n",
              "      <td>2896</td>\n",
              "    </tr>\n",
              "    <tr>\n",
              "      <th>4</th>\n",
              "      <td>AMAZONAS</td>\n",
              "      <td>BAGUA</td>\n",
              "      <td>ARAMANGO</td>\n",
              "      <td>EL MUYO (C.P.L.)</td>\n",
              "      <td>-5.42255</td>\n",
              "      <td>-78.453</td>\n",
              "      <td>311</td>\n",
              "      <td>1206</td>\n",
              "    </tr>\n",
              "    <tr>\n",
              "      <th>...</th>\n",
              "      <td>...</td>\n",
              "      <td>...</td>\n",
              "      <td>...</td>\n",
              "      <td>...</td>\n",
              "      <td>...</td>\n",
              "      <td>...</td>\n",
              "      <td>...</td>\n",
              "      <td>...</td>\n",
              "    </tr>\n",
              "    <tr>\n",
              "      <th>4004</th>\n",
              "      <td>UCAYALI</td>\n",
              "      <td>CORONEL PORTILLO</td>\n",
              "      <td>NUEVA REQUENA</td>\n",
              "      <td>NUEVO UNION DE JUANTIA TIPISHCA</td>\n",
              "      <td>-8.25023</td>\n",
              "      <td>-74.8314</td>\n",
              "      <td>2</td>\n",
              "      <td>2</td>\n",
              "    </tr>\n",
              "    <tr>\n",
              "      <th>4005</th>\n",
              "      <td>UCAYALI</td>\n",
              "      <td>CORONEL PORTILLO</td>\n",
              "      <td>CALLERIA</td>\n",
              "      <td>NUEVO SAN ANTONIO</td>\n",
              "      <td>-8.16975</td>\n",
              "      <td>-74.6099</td>\n",
              "      <td>1</td>\n",
              "      <td>1</td>\n",
              "    </tr>\n",
              "    <tr>\n",
              "      <th>4006</th>\n",
              "      <td>UCAYALI</td>\n",
              "      <td>CORONEL PORTILLO</td>\n",
              "      <td>CALLERIA</td>\n",
              "      <td>NUEVA FORTUNA</td>\n",
              "      <td>-8.48764</td>\n",
              "      <td>-74.3898</td>\n",
              "      <td>1</td>\n",
              "      <td>1</td>\n",
              "    </tr>\n",
              "    <tr>\n",
              "      <th>4007</th>\n",
              "      <td>UCAYALI</td>\n",
              "      <td>CORONEL PORTILLO</td>\n",
              "      <td>MASISEA</td>\n",
              "      <td>MONTE DE LOS OLIVOS</td>\n",
              "      <td>-8.55119</td>\n",
              "      <td>-74.3493</td>\n",
              "      <td>1</td>\n",
              "      <td>1</td>\n",
              "    </tr>\n",
              "    <tr>\n",
              "      <th>4008</th>\n",
              "      <td>UCAYALI</td>\n",
              "      <td>CORONEL PORTILLO</td>\n",
              "      <td>MANANTAY</td>\n",
              "      <td>NUEVO ORIENTE DE CHAMAJAO</td>\n",
              "      <td>-8.47671</td>\n",
              "      <td>-74.4886</td>\n",
              "      <td>0</td>\n",
              "      <td>0</td>\n",
              "    </tr>\n",
              "  </tbody>\n",
              "</table>\n",
              "<p>4009 rows × 8 columns</p>\n",
              "</div>"
            ],
            "text/plain": [
              "     INSTITUTO NACIONAL DE DEFENSA CIVIL\\nDIRECCIÓN DE PREPARACIÓN\\nSubdirección de Sistematización de Información sobre Escenarios de Riesgos de Desastres SD - SIERD  ... Unnamed: 7\n",
              "0     POBLACIÓN EXPUESTA A PELIGRO MUY ALTO DE INUND...                                                                                                                 ...        NaN\n",
              "1                                          DEPARTAMENTO                                                                                                                 ...  POBLACIÓN\n",
              "2                                              AMAZONAS                                                                                                                 ...       5361\n",
              "3                                              AMAZONAS                                                                                                                 ...       2896\n",
              "4                                              AMAZONAS                                                                                                                 ...       1206\n",
              "...                                                 ...                                                                                                                 ...        ...\n",
              "4004                                            UCAYALI                                                                                                                 ...          2\n",
              "4005                                            UCAYALI                                                                                                                 ...          1\n",
              "4006                                            UCAYALI                                                                                                                 ...          1\n",
              "4007                                            UCAYALI                                                                                                                 ...          1\n",
              "4008                                            UCAYALI                                                                                                                 ...          0\n",
              "\n",
              "[4009 rows x 8 columns]"
            ]
          },
          "metadata": {
            "tags": []
          },
          "execution_count": 3
        }
      ]
    },
    {
      "cell_type": "markdown",
      "metadata": {
        "id": "q7GbF8RbvAtQ"
      },
      "source": [
        "Normalizacion de datos"
      ]
    },
    {
      "cell_type": "code",
      "metadata": {
        "id": "qTjSm-wvK8z7"
      },
      "source": [
        "df_mask=df['INSTITUTO NACIONAL DE DEFENSA CIVIL\\nDIRECCIÓN DE PREPARACIÓN\\nSubdirección de Sistematización de Información sobre Escenarios de Riesgos de Desastres SD - SIERD']!='DEPARTAMENTO'\n",
        "df = df[df_mask]"
      ],
      "execution_count": null,
      "outputs": []
    },
    {
      "cell_type": "code",
      "metadata": {
        "id": "tcKBCGSiNdUy"
      },
      "source": [
        "df_mask=df['INSTITUTO NACIONAL DE DEFENSA CIVIL\\nDIRECCIÓN DE PREPARACIÓN\\nSubdirección de Sistematización de Información sobre Escenarios de Riesgos de Desastres SD - SIERD']!='POBLACIÓN EXPUESTA A PELIGRO MUY ALTO DE INUNDACIÓN'\n",
        "df = df[df_mask]"
      ],
      "execution_count": null,
      "outputs": []
    },
    {
      "cell_type": "code",
      "metadata": {
        "colab": {
          "base_uri": "https://localhost:8080/",
          "height": 602
        },
        "id": "PeF3lkM3vFmY",
        "outputId": "93782216-ec53-43c0-fb72-ad976aa2ec51"
      },
      "source": [
        "df"
      ],
      "execution_count": null,
      "outputs": [
        {
          "output_type": "execute_result",
          "data": {
            "text/html": [
              "<div>\n",
              "<style scoped>\n",
              "    .dataframe tbody tr th:only-of-type {\n",
              "        vertical-align: middle;\n",
              "    }\n",
              "\n",
              "    .dataframe tbody tr th {\n",
              "        vertical-align: top;\n",
              "    }\n",
              "\n",
              "    .dataframe thead th {\n",
              "        text-align: right;\n",
              "    }\n",
              "</style>\n",
              "<table border=\"1\" class=\"dataframe\">\n",
              "  <thead>\n",
              "    <tr style=\"text-align: right;\">\n",
              "      <th></th>\n",
              "      <th>INSTITUTO NACIONAL DE DEFENSA CIVIL\\nDIRECCIÓN DE PREPARACIÓN\\nSubdirección de Sistematización de Información sobre Escenarios de Riesgos de Desastres SD - SIERD</th>\n",
              "      <th>Unnamed: 1</th>\n",
              "      <th>Unnamed: 2</th>\n",
              "      <th>Unnamed: 3</th>\n",
              "      <th>Unnamed: 4</th>\n",
              "      <th>Unnamed: 5</th>\n",
              "      <th>Unnamed: 6</th>\n",
              "      <th>Unnamed: 7</th>\n",
              "    </tr>\n",
              "  </thead>\n",
              "  <tbody>\n",
              "    <tr>\n",
              "      <th>2</th>\n",
              "      <td>AMAZONAS</td>\n",
              "      <td>BONGARA</td>\n",
              "      <td>JAZAN</td>\n",
              "      <td>PEDRO RUIZ GALLO</td>\n",
              "      <td>-5.94139</td>\n",
              "      <td>-77.9771</td>\n",
              "      <td>1365</td>\n",
              "      <td>5361</td>\n",
              "    </tr>\n",
              "    <tr>\n",
              "      <th>3</th>\n",
              "      <td>AMAZONAS</td>\n",
              "      <td>UTCUBAMBA</td>\n",
              "      <td>LONYA GRANDE</td>\n",
              "      <td>LONYA GRANDE</td>\n",
              "      <td>-6.09637</td>\n",
              "      <td>-78.4225</td>\n",
              "      <td>698</td>\n",
              "      <td>2896</td>\n",
              "    </tr>\n",
              "    <tr>\n",
              "      <th>4</th>\n",
              "      <td>AMAZONAS</td>\n",
              "      <td>BAGUA</td>\n",
              "      <td>ARAMANGO</td>\n",
              "      <td>EL MUYO (C.P.L.)</td>\n",
              "      <td>-5.42255</td>\n",
              "      <td>-78.453</td>\n",
              "      <td>311</td>\n",
              "      <td>1206</td>\n",
              "    </tr>\n",
              "    <tr>\n",
              "      <th>5</th>\n",
              "      <td>AMAZONAS</td>\n",
              "      <td>UTCUBAMBA</td>\n",
              "      <td>CAJARURO</td>\n",
              "      <td>NARANJITOS</td>\n",
              "      <td>-5.8149</td>\n",
              "      <td>-78.2774</td>\n",
              "      <td>177</td>\n",
              "      <td>577</td>\n",
              "    </tr>\n",
              "    <tr>\n",
              "      <th>6</th>\n",
              "      <td>AMAZONAS</td>\n",
              "      <td>UTCUBAMBA</td>\n",
              "      <td>CUMBA</td>\n",
              "      <td>TAGTAGO</td>\n",
              "      <td>-5.98102</td>\n",
              "      <td>-78.6302</td>\n",
              "      <td>202</td>\n",
              "      <td>562</td>\n",
              "    </tr>\n",
              "    <tr>\n",
              "      <th>...</th>\n",
              "      <td>...</td>\n",
              "      <td>...</td>\n",
              "      <td>...</td>\n",
              "      <td>...</td>\n",
              "      <td>...</td>\n",
              "      <td>...</td>\n",
              "      <td>...</td>\n",
              "      <td>...</td>\n",
              "    </tr>\n",
              "    <tr>\n",
              "      <th>4004</th>\n",
              "      <td>UCAYALI</td>\n",
              "      <td>CORONEL PORTILLO</td>\n",
              "      <td>NUEVA REQUENA</td>\n",
              "      <td>NUEVO UNION DE JUANTIA TIPISHCA</td>\n",
              "      <td>-8.25023</td>\n",
              "      <td>-74.8314</td>\n",
              "      <td>2</td>\n",
              "      <td>2</td>\n",
              "    </tr>\n",
              "    <tr>\n",
              "      <th>4005</th>\n",
              "      <td>UCAYALI</td>\n",
              "      <td>CORONEL PORTILLO</td>\n",
              "      <td>CALLERIA</td>\n",
              "      <td>NUEVO SAN ANTONIO</td>\n",
              "      <td>-8.16975</td>\n",
              "      <td>-74.6099</td>\n",
              "      <td>1</td>\n",
              "      <td>1</td>\n",
              "    </tr>\n",
              "    <tr>\n",
              "      <th>4006</th>\n",
              "      <td>UCAYALI</td>\n",
              "      <td>CORONEL PORTILLO</td>\n",
              "      <td>CALLERIA</td>\n",
              "      <td>NUEVA FORTUNA</td>\n",
              "      <td>-8.48764</td>\n",
              "      <td>-74.3898</td>\n",
              "      <td>1</td>\n",
              "      <td>1</td>\n",
              "    </tr>\n",
              "    <tr>\n",
              "      <th>4007</th>\n",
              "      <td>UCAYALI</td>\n",
              "      <td>CORONEL PORTILLO</td>\n",
              "      <td>MASISEA</td>\n",
              "      <td>MONTE DE LOS OLIVOS</td>\n",
              "      <td>-8.55119</td>\n",
              "      <td>-74.3493</td>\n",
              "      <td>1</td>\n",
              "      <td>1</td>\n",
              "    </tr>\n",
              "    <tr>\n",
              "      <th>4008</th>\n",
              "      <td>UCAYALI</td>\n",
              "      <td>CORONEL PORTILLO</td>\n",
              "      <td>MANANTAY</td>\n",
              "      <td>NUEVO ORIENTE DE CHAMAJAO</td>\n",
              "      <td>-8.47671</td>\n",
              "      <td>-74.4886</td>\n",
              "      <td>0</td>\n",
              "      <td>0</td>\n",
              "    </tr>\n",
              "  </tbody>\n",
              "</table>\n",
              "<p>3785 rows × 8 columns</p>\n",
              "</div>"
            ],
            "text/plain": [
              "     INSTITUTO NACIONAL DE DEFENSA CIVIL\\nDIRECCIÓN DE PREPARACIÓN\\nSubdirección de Sistematización de Información sobre Escenarios de Riesgos de Desastres SD - SIERD  ... Unnamed: 7\n",
              "2                                              AMAZONAS                                                                                                                 ...       5361\n",
              "3                                              AMAZONAS                                                                                                                 ...       2896\n",
              "4                                              AMAZONAS                                                                                                                 ...       1206\n",
              "5                                              AMAZONAS                                                                                                                 ...        577\n",
              "6                                              AMAZONAS                                                                                                                 ...        562\n",
              "...                                                 ...                                                                                                                 ...        ...\n",
              "4004                                            UCAYALI                                                                                                                 ...          2\n",
              "4005                                            UCAYALI                                                                                                                 ...          1\n",
              "4006                                            UCAYALI                                                                                                                 ...          1\n",
              "4007                                            UCAYALI                                                                                                                 ...          1\n",
              "4008                                            UCAYALI                                                                                                                 ...          0\n",
              "\n",
              "[3785 rows x 8 columns]"
            ]
          },
          "metadata": {
            "tags": []
          },
          "execution_count": 6
        }
      ]
    },
    {
      "cell_type": "code",
      "metadata": {
        "id": "vp7JxIu9kcyz"
      },
      "source": [
        "#Renombramos las columnas\n",
        "df.columns=['DEPARTAMENTO','PROVINCIA','DISTRITO','CENTRO POBLADO','LATITUD','LONGITUD','VIVIENDAS','POBLACIÓN']"
      ],
      "execution_count": null,
      "outputs": []
    },
    {
      "cell_type": "code",
      "metadata": {
        "colab": {
          "base_uri": "https://localhost:8080/",
          "height": 399
        },
        "id": "3jlgGxOevaDn",
        "outputId": "3f2103b1-b09b-48dc-dcab-3c79b8b5fe87"
      },
      "source": [
        "df"
      ],
      "execution_count": null,
      "outputs": [
        {
          "output_type": "execute_result",
          "data": {
            "text/html": [
              "<div>\n",
              "<style scoped>\n",
              "    .dataframe tbody tr th:only-of-type {\n",
              "        vertical-align: middle;\n",
              "    }\n",
              "\n",
              "    .dataframe tbody tr th {\n",
              "        vertical-align: top;\n",
              "    }\n",
              "\n",
              "    .dataframe thead th {\n",
              "        text-align: right;\n",
              "    }\n",
              "</style>\n",
              "<table border=\"1\" class=\"dataframe\">\n",
              "  <thead>\n",
              "    <tr style=\"text-align: right;\">\n",
              "      <th></th>\n",
              "      <th>DEPARTAMENTO</th>\n",
              "      <th>PROVINCIA</th>\n",
              "      <th>DISTRITO</th>\n",
              "      <th>CENTRO POBLADO</th>\n",
              "      <th>LATITUD</th>\n",
              "      <th>LONGITUD</th>\n",
              "      <th>VIVIENDAS</th>\n",
              "      <th>POBLACIÓN</th>\n",
              "    </tr>\n",
              "  </thead>\n",
              "  <tbody>\n",
              "    <tr>\n",
              "      <th>2</th>\n",
              "      <td>AMAZONAS</td>\n",
              "      <td>BONGARA</td>\n",
              "      <td>JAZAN</td>\n",
              "      <td>PEDRO RUIZ GALLO</td>\n",
              "      <td>-5.94139</td>\n",
              "      <td>-77.9771</td>\n",
              "      <td>1365</td>\n",
              "      <td>5361</td>\n",
              "    </tr>\n",
              "    <tr>\n",
              "      <th>3</th>\n",
              "      <td>AMAZONAS</td>\n",
              "      <td>UTCUBAMBA</td>\n",
              "      <td>LONYA GRANDE</td>\n",
              "      <td>LONYA GRANDE</td>\n",
              "      <td>-6.09637</td>\n",
              "      <td>-78.4225</td>\n",
              "      <td>698</td>\n",
              "      <td>2896</td>\n",
              "    </tr>\n",
              "    <tr>\n",
              "      <th>4</th>\n",
              "      <td>AMAZONAS</td>\n",
              "      <td>BAGUA</td>\n",
              "      <td>ARAMANGO</td>\n",
              "      <td>EL MUYO (C.P.L.)</td>\n",
              "      <td>-5.42255</td>\n",
              "      <td>-78.453</td>\n",
              "      <td>311</td>\n",
              "      <td>1206</td>\n",
              "    </tr>\n",
              "    <tr>\n",
              "      <th>5</th>\n",
              "      <td>AMAZONAS</td>\n",
              "      <td>UTCUBAMBA</td>\n",
              "      <td>CAJARURO</td>\n",
              "      <td>NARANJITOS</td>\n",
              "      <td>-5.8149</td>\n",
              "      <td>-78.2774</td>\n",
              "      <td>177</td>\n",
              "      <td>577</td>\n",
              "    </tr>\n",
              "    <tr>\n",
              "      <th>6</th>\n",
              "      <td>AMAZONAS</td>\n",
              "      <td>UTCUBAMBA</td>\n",
              "      <td>CUMBA</td>\n",
              "      <td>TAGTAGO</td>\n",
              "      <td>-5.98102</td>\n",
              "      <td>-78.6302</td>\n",
              "      <td>202</td>\n",
              "      <td>562</td>\n",
              "    </tr>\n",
              "    <tr>\n",
              "      <th>...</th>\n",
              "      <td>...</td>\n",
              "      <td>...</td>\n",
              "      <td>...</td>\n",
              "      <td>...</td>\n",
              "      <td>...</td>\n",
              "      <td>...</td>\n",
              "      <td>...</td>\n",
              "      <td>...</td>\n",
              "    </tr>\n",
              "    <tr>\n",
              "      <th>4004</th>\n",
              "      <td>UCAYALI</td>\n",
              "      <td>CORONEL PORTILLO</td>\n",
              "      <td>NUEVA REQUENA</td>\n",
              "      <td>NUEVO UNION DE JUANTIA TIPISHCA</td>\n",
              "      <td>-8.25023</td>\n",
              "      <td>-74.8314</td>\n",
              "      <td>2</td>\n",
              "      <td>2</td>\n",
              "    </tr>\n",
              "    <tr>\n",
              "      <th>4005</th>\n",
              "      <td>UCAYALI</td>\n",
              "      <td>CORONEL PORTILLO</td>\n",
              "      <td>CALLERIA</td>\n",
              "      <td>NUEVO SAN ANTONIO</td>\n",
              "      <td>-8.16975</td>\n",
              "      <td>-74.6099</td>\n",
              "      <td>1</td>\n",
              "      <td>1</td>\n",
              "    </tr>\n",
              "    <tr>\n",
              "      <th>4006</th>\n",
              "      <td>UCAYALI</td>\n",
              "      <td>CORONEL PORTILLO</td>\n",
              "      <td>CALLERIA</td>\n",
              "      <td>NUEVA FORTUNA</td>\n",
              "      <td>-8.48764</td>\n",
              "      <td>-74.3898</td>\n",
              "      <td>1</td>\n",
              "      <td>1</td>\n",
              "    </tr>\n",
              "    <tr>\n",
              "      <th>4007</th>\n",
              "      <td>UCAYALI</td>\n",
              "      <td>CORONEL PORTILLO</td>\n",
              "      <td>MASISEA</td>\n",
              "      <td>MONTE DE LOS OLIVOS</td>\n",
              "      <td>-8.55119</td>\n",
              "      <td>-74.3493</td>\n",
              "      <td>1</td>\n",
              "      <td>1</td>\n",
              "    </tr>\n",
              "    <tr>\n",
              "      <th>4008</th>\n",
              "      <td>UCAYALI</td>\n",
              "      <td>CORONEL PORTILLO</td>\n",
              "      <td>MANANTAY</td>\n",
              "      <td>NUEVO ORIENTE DE CHAMAJAO</td>\n",
              "      <td>-8.47671</td>\n",
              "      <td>-74.4886</td>\n",
              "      <td>0</td>\n",
              "      <td>0</td>\n",
              "    </tr>\n",
              "  </tbody>\n",
              "</table>\n",
              "<p>3785 rows × 8 columns</p>\n",
              "</div>"
            ],
            "text/plain": [
              "     DEPARTAMENTO         PROVINCIA       DISTRITO  ... LONGITUD VIVIENDAS POBLACIÓN\n",
              "2        AMAZONAS           BONGARA          JAZAN  ... -77.9771      1365      5361\n",
              "3        AMAZONAS         UTCUBAMBA   LONYA GRANDE  ... -78.4225       698      2896\n",
              "4        AMAZONAS             BAGUA       ARAMANGO  ...  -78.453       311      1206\n",
              "5        AMAZONAS         UTCUBAMBA       CAJARURO  ... -78.2774       177       577\n",
              "6        AMAZONAS         UTCUBAMBA          CUMBA  ... -78.6302       202       562\n",
              "...           ...               ...            ...  ...      ...       ...       ...\n",
              "4004      UCAYALI  CORONEL PORTILLO  NUEVA REQUENA  ... -74.8314         2         2\n",
              "4005      UCAYALI  CORONEL PORTILLO       CALLERIA  ... -74.6099         1         1\n",
              "4006      UCAYALI  CORONEL PORTILLO       CALLERIA  ... -74.3898         1         1\n",
              "4007      UCAYALI  CORONEL PORTILLO        MASISEA  ... -74.3493         1         1\n",
              "4008      UCAYALI  CORONEL PORTILLO       MANANTAY  ... -74.4886         0         0\n",
              "\n",
              "[3785 rows x 8 columns]"
            ]
          },
          "metadata": {
            "tags": []
          },
          "execution_count": 8
        }
      ]
    },
    {
      "cell_type": "code",
      "metadata": {
        "id": "dCKENDSngDMn"
      },
      "source": [
        "#Reindexamos\n",
        "df=df.reset_index()"
      ],
      "execution_count": null,
      "outputs": []
    },
    {
      "cell_type": "code",
      "metadata": {
        "id": "c-b9S8Hkg6so"
      },
      "source": [
        "#Borramos la columna index que ha sido generada\n",
        "df.drop('index', inplace=True, axis=1)"
      ],
      "execution_count": null,
      "outputs": []
    },
    {
      "cell_type": "code",
      "metadata": {
        "colab": {
          "base_uri": "https://localhost:8080/",
          "height": 399
        },
        "id": "nEC4pOPalFRR",
        "outputId": "824cb88c-cf3c-47bf-f3c7-f60fb2e07cd7"
      },
      "source": [
        "df"
      ],
      "execution_count": null,
      "outputs": [
        {
          "output_type": "execute_result",
          "data": {
            "text/html": [
              "<div>\n",
              "<style scoped>\n",
              "    .dataframe tbody tr th:only-of-type {\n",
              "        vertical-align: middle;\n",
              "    }\n",
              "\n",
              "    .dataframe tbody tr th {\n",
              "        vertical-align: top;\n",
              "    }\n",
              "\n",
              "    .dataframe thead th {\n",
              "        text-align: right;\n",
              "    }\n",
              "</style>\n",
              "<table border=\"1\" class=\"dataframe\">\n",
              "  <thead>\n",
              "    <tr style=\"text-align: right;\">\n",
              "      <th></th>\n",
              "      <th>DEPARTAMENTO</th>\n",
              "      <th>PROVINCIA</th>\n",
              "      <th>DISTRITO</th>\n",
              "      <th>CENTRO POBLADO</th>\n",
              "      <th>LATITUD</th>\n",
              "      <th>LONGITUD</th>\n",
              "      <th>VIVIENDAS</th>\n",
              "      <th>POBLACIÓN</th>\n",
              "    </tr>\n",
              "  </thead>\n",
              "  <tbody>\n",
              "    <tr>\n",
              "      <th>0</th>\n",
              "      <td>AMAZONAS</td>\n",
              "      <td>BONGARA</td>\n",
              "      <td>JAZAN</td>\n",
              "      <td>PEDRO RUIZ GALLO</td>\n",
              "      <td>-5.94139</td>\n",
              "      <td>-77.9771</td>\n",
              "      <td>1365</td>\n",
              "      <td>5361</td>\n",
              "    </tr>\n",
              "    <tr>\n",
              "      <th>1</th>\n",
              "      <td>AMAZONAS</td>\n",
              "      <td>UTCUBAMBA</td>\n",
              "      <td>LONYA GRANDE</td>\n",
              "      <td>LONYA GRANDE</td>\n",
              "      <td>-6.09637</td>\n",
              "      <td>-78.4225</td>\n",
              "      <td>698</td>\n",
              "      <td>2896</td>\n",
              "    </tr>\n",
              "    <tr>\n",
              "      <th>2</th>\n",
              "      <td>AMAZONAS</td>\n",
              "      <td>BAGUA</td>\n",
              "      <td>ARAMANGO</td>\n",
              "      <td>EL MUYO (C.P.L.)</td>\n",
              "      <td>-5.42255</td>\n",
              "      <td>-78.453</td>\n",
              "      <td>311</td>\n",
              "      <td>1206</td>\n",
              "    </tr>\n",
              "    <tr>\n",
              "      <th>3</th>\n",
              "      <td>AMAZONAS</td>\n",
              "      <td>UTCUBAMBA</td>\n",
              "      <td>CAJARURO</td>\n",
              "      <td>NARANJITOS</td>\n",
              "      <td>-5.8149</td>\n",
              "      <td>-78.2774</td>\n",
              "      <td>177</td>\n",
              "      <td>577</td>\n",
              "    </tr>\n",
              "    <tr>\n",
              "      <th>4</th>\n",
              "      <td>AMAZONAS</td>\n",
              "      <td>UTCUBAMBA</td>\n",
              "      <td>CUMBA</td>\n",
              "      <td>TAGTAGO</td>\n",
              "      <td>-5.98102</td>\n",
              "      <td>-78.6302</td>\n",
              "      <td>202</td>\n",
              "      <td>562</td>\n",
              "    </tr>\n",
              "    <tr>\n",
              "      <th>...</th>\n",
              "      <td>...</td>\n",
              "      <td>...</td>\n",
              "      <td>...</td>\n",
              "      <td>...</td>\n",
              "      <td>...</td>\n",
              "      <td>...</td>\n",
              "      <td>...</td>\n",
              "      <td>...</td>\n",
              "    </tr>\n",
              "    <tr>\n",
              "      <th>3780</th>\n",
              "      <td>UCAYALI</td>\n",
              "      <td>CORONEL PORTILLO</td>\n",
              "      <td>NUEVA REQUENA</td>\n",
              "      <td>NUEVO UNION DE JUANTIA TIPISHCA</td>\n",
              "      <td>-8.25023</td>\n",
              "      <td>-74.8314</td>\n",
              "      <td>2</td>\n",
              "      <td>2</td>\n",
              "    </tr>\n",
              "    <tr>\n",
              "      <th>3781</th>\n",
              "      <td>UCAYALI</td>\n",
              "      <td>CORONEL PORTILLO</td>\n",
              "      <td>CALLERIA</td>\n",
              "      <td>NUEVO SAN ANTONIO</td>\n",
              "      <td>-8.16975</td>\n",
              "      <td>-74.6099</td>\n",
              "      <td>1</td>\n",
              "      <td>1</td>\n",
              "    </tr>\n",
              "    <tr>\n",
              "      <th>3782</th>\n",
              "      <td>UCAYALI</td>\n",
              "      <td>CORONEL PORTILLO</td>\n",
              "      <td>CALLERIA</td>\n",
              "      <td>NUEVA FORTUNA</td>\n",
              "      <td>-8.48764</td>\n",
              "      <td>-74.3898</td>\n",
              "      <td>1</td>\n",
              "      <td>1</td>\n",
              "    </tr>\n",
              "    <tr>\n",
              "      <th>3783</th>\n",
              "      <td>UCAYALI</td>\n",
              "      <td>CORONEL PORTILLO</td>\n",
              "      <td>MASISEA</td>\n",
              "      <td>MONTE DE LOS OLIVOS</td>\n",
              "      <td>-8.55119</td>\n",
              "      <td>-74.3493</td>\n",
              "      <td>1</td>\n",
              "      <td>1</td>\n",
              "    </tr>\n",
              "    <tr>\n",
              "      <th>3784</th>\n",
              "      <td>UCAYALI</td>\n",
              "      <td>CORONEL PORTILLO</td>\n",
              "      <td>MANANTAY</td>\n",
              "      <td>NUEVO ORIENTE DE CHAMAJAO</td>\n",
              "      <td>-8.47671</td>\n",
              "      <td>-74.4886</td>\n",
              "      <td>0</td>\n",
              "      <td>0</td>\n",
              "    </tr>\n",
              "  </tbody>\n",
              "</table>\n",
              "<p>3785 rows × 8 columns</p>\n",
              "</div>"
            ],
            "text/plain": [
              "     DEPARTAMENTO         PROVINCIA       DISTRITO  ... LONGITUD VIVIENDAS POBLACIÓN\n",
              "0        AMAZONAS           BONGARA          JAZAN  ... -77.9771      1365      5361\n",
              "1        AMAZONAS         UTCUBAMBA   LONYA GRANDE  ... -78.4225       698      2896\n",
              "2        AMAZONAS             BAGUA       ARAMANGO  ...  -78.453       311      1206\n",
              "3        AMAZONAS         UTCUBAMBA       CAJARURO  ... -78.2774       177       577\n",
              "4        AMAZONAS         UTCUBAMBA          CUMBA  ... -78.6302       202       562\n",
              "...           ...               ...            ...  ...      ...       ...       ...\n",
              "3780      UCAYALI  CORONEL PORTILLO  NUEVA REQUENA  ... -74.8314         2         2\n",
              "3781      UCAYALI  CORONEL PORTILLO       CALLERIA  ... -74.6099         1         1\n",
              "3782      UCAYALI  CORONEL PORTILLO       CALLERIA  ... -74.3898         1         1\n",
              "3783      UCAYALI  CORONEL PORTILLO        MASISEA  ... -74.3493         1         1\n",
              "3784      UCAYALI  CORONEL PORTILLO       MANANTAY  ... -74.4886         0         0\n",
              "\n",
              "[3785 rows x 8 columns]"
            ]
          },
          "metadata": {
            "tags": []
          },
          "execution_count": 11
        }
      ]
    },
    {
      "cell_type": "code",
      "metadata": {
        "id": "-uYjSHbzyKoa"
      },
      "source": [
        "df"
      ],
      "execution_count": null,
      "outputs": []
    },
    {
      "cell_type": "markdown",
      "metadata": {
        "id": "OPikhzEkmIHS"
      },
      "source": [
        "Comienzo de Busqueda"
      ]
    },
    {
      "cell_type": "code",
      "metadata": {
        "colab": {
          "base_uri": "https://localhost:8080/"
        },
        "id": "zsVTAUUD751s",
        "outputId": "97ce40fe-aa3f-4cad-b2bc-063a218a6a30"
      },
      "source": [
        "print(\"Escoja un Departamento donde comenzará su ruta de viaje\")\n",
        "dep=input()\n",
        "df_Q3 = df['DEPARTAMENTO']==dep\n",
        "df_Q3 = df[df_Q3]\n",
        "print(\"En cual de las siguientes provincias comenzará su ruta de viaje\")\n",
        "print(df_Q3['PROVINCIA'])\n",
        "pro=input()\n",
        "df_Q3 = df['PROVINCIA']==pro\n",
        "df_Q3 = df[df_Q3]\n",
        "###\n",
        "print(\"¿Desea recorrer todos los distritos de la provincia escogida?\")\n",
        "print(df_Q3['PROVINCIA'])\n",
        "pre=input()\n",
        "if pre=='si':\n",
        "  df_Q3\n",
        "else:\n",
        "  ###\n",
        "  print(\"En cual de los siguientes distritos comenzará su ruta de viaje\")\n",
        "  print(df_Q3['DISTRITO'])\n",
        "  dis=input()\n",
        "  df_Q3 = df['DISTRITO']==dis\n",
        "  df_Q3 = df[df_Q3]\n",
        "  print(\"¿Desea recorrer todos los centros poblados de esta provincia?\")\n",
        "  asw=input()\n",
        "  if asw == 'si':\n",
        "    print(\"Estos son los centros poblados a donde va a recorrer\")\n",
        "    print(df_Q3)\n",
        "  else:\n",
        "    print(\"¿Cuantos centros poblados que quiere visitar?\")\n",
        "    nun=input()\n",
        "    print(\"¿Cuales son los poblados que quiere visitar?-Escriba los nombres\")\n",
        "    print(df_Q3['CENTRO POBLADO'])\n",
        "    pob=[input() for _ in range(int(nun))]\n",
        "    df_Q3=df_Q3[(df_Q3['CENTRO POBLADO'].isin(pob))]\n",
        "    df_Q3  \n"
      ],
      "execution_count": null,
      "outputs": [
        {
          "output_type": "stream",
          "text": [
            "Escoja un Departamento donde comenzará su ruta de viaje\n",
            "AMAZONAS\n",
            "En cual de las siguientes provincias comenzará su ruta de viaje\n",
            "0         BONGARA\n",
            "1       UTCUBAMBA\n",
            "2           BAGUA\n",
            "3       UTCUBAMBA\n",
            "4       UTCUBAMBA\n",
            "5       UTCUBAMBA\n",
            "6           BAGUA\n",
            "7           BAGUA\n",
            "8         BONGARA\n",
            "9       UTCUBAMBA\n",
            "10        BONGARA\n",
            "11          BAGUA\n",
            "12        BONGARA\n",
            "13        BONGARA\n",
            "14      UTCUBAMBA\n",
            "15        BONGARA\n",
            "16    CHACHAPOYAS\n",
            "17        BONGARA\n",
            "18      UTCUBAMBA\n",
            "19      UTCUBAMBA\n",
            "20      UTCUBAMBA\n",
            "21      UTCUBAMBA\n",
            "22      UTCUBAMBA\n",
            "23        BONGARA\n",
            "24      UTCUBAMBA\n",
            "Name: PROVINCIA, dtype: object\n",
            "UTCUBAMBA\n",
            "¿Desea recorrer todos los distritos de la provincia escogida?\n",
            "1     UTCUBAMBA\n",
            "3     UTCUBAMBA\n",
            "4     UTCUBAMBA\n",
            "5     UTCUBAMBA\n",
            "9     UTCUBAMBA\n",
            "14    UTCUBAMBA\n",
            "18    UTCUBAMBA\n",
            "19    UTCUBAMBA\n",
            "20    UTCUBAMBA\n",
            "21    UTCUBAMBA\n",
            "22    UTCUBAMBA\n",
            "24    UTCUBAMBA\n",
            "Name: PROVINCIA, dtype: object\n",
            "no\n",
            "En cual de los siguientes distritos comenzará su ruta de viaje\n",
            "1     LONYA GRANDE\n",
            "3         CAJARURO\n",
            "4            CUMBA\n",
            "5          JAMALCA\n",
            "9       EL MILAGRO\n",
            "14           CUMBA\n",
            "18           CUMBA\n",
            "19    LONYA GRANDE\n",
            "20    LONYA GRANDE\n",
            "21           CUMBA\n",
            "22    LONYA GRANDE\n",
            "24    LONYA GRANDE\n",
            "Name: DISTRITO, dtype: object\n",
            "LONYA GRANDE\n",
            "¿Desea recorrer todos los centros poblados de esta provincia?\n",
            "si\n",
            "Estos son los centros poblados a donde va a recorrer\n",
            "   DEPARTAMENTO  PROVINCIA      DISTRITO  ... LONGITUD VIVIENDAS POBLACIÓN\n",
            "1      AMAZONAS  UTCUBAMBA  LONYA GRANDE  ... -78.4225       698      2896\n",
            "19     AMAZONAS  UTCUBAMBA  LONYA GRANDE  ... -78.4285         2         4\n",
            "20     AMAZONAS  UTCUBAMBA  LONYA GRANDE  ... -78.4278         1         3\n",
            "22     AMAZONAS  UTCUBAMBA  LONYA GRANDE  ... -78.4169         1         1\n",
            "24     AMAZONAS  UTCUBAMBA  LONYA GRANDE  ... -78.4175         0         0\n",
            "\n",
            "[5 rows x 8 columns]\n"
          ],
          "name": "stdout"
        }
      ]
    },
    {
      "cell_type": "code",
      "metadata": {
        "colab": {
          "base_uri": "https://localhost:8080/",
          "height": 194
        },
        "id": "Vs5ppgje9Bco",
        "outputId": "8fdd5245-c5dd-4444-e144-845a4aea3c9c"
      },
      "source": [
        "df_Q3"
      ],
      "execution_count": null,
      "outputs": [
        {
          "output_type": "execute_result",
          "data": {
            "text/html": [
              "<div>\n",
              "<style scoped>\n",
              "    .dataframe tbody tr th:only-of-type {\n",
              "        vertical-align: middle;\n",
              "    }\n",
              "\n",
              "    .dataframe tbody tr th {\n",
              "        vertical-align: top;\n",
              "    }\n",
              "\n",
              "    .dataframe thead th {\n",
              "        text-align: right;\n",
              "    }\n",
              "</style>\n",
              "<table border=\"1\" class=\"dataframe\">\n",
              "  <thead>\n",
              "    <tr style=\"text-align: right;\">\n",
              "      <th></th>\n",
              "      <th>DEPARTAMENTO</th>\n",
              "      <th>PROVINCIA</th>\n",
              "      <th>DISTRITO</th>\n",
              "      <th>CENTRO POBLADO</th>\n",
              "      <th>LATITUD</th>\n",
              "      <th>LONGITUD</th>\n",
              "      <th>VIVIENDAS</th>\n",
              "      <th>POBLACIÓN</th>\n",
              "    </tr>\n",
              "  </thead>\n",
              "  <tbody>\n",
              "    <tr>\n",
              "      <th>1</th>\n",
              "      <td>AMAZONAS</td>\n",
              "      <td>UTCUBAMBA</td>\n",
              "      <td>LONYA GRANDE</td>\n",
              "      <td>LONYA GRANDE</td>\n",
              "      <td>-6.09637</td>\n",
              "      <td>-78.4225</td>\n",
              "      <td>698</td>\n",
              "      <td>2896</td>\n",
              "    </tr>\n",
              "    <tr>\n",
              "      <th>19</th>\n",
              "      <td>AMAZONAS</td>\n",
              "      <td>UTCUBAMBA</td>\n",
              "      <td>LONYA GRANDE</td>\n",
              "      <td>MANCARRON</td>\n",
              "      <td>-6.09659</td>\n",
              "      <td>-78.4285</td>\n",
              "      <td>2</td>\n",
              "      <td>4</td>\n",
              "    </tr>\n",
              "    <tr>\n",
              "      <th>20</th>\n",
              "      <td>AMAZONAS</td>\n",
              "      <td>UTCUBAMBA</td>\n",
              "      <td>LONYA GRANDE</td>\n",
              "      <td>BOLIVIA</td>\n",
              "      <td>-6.10133</td>\n",
              "      <td>-78.4278</td>\n",
              "      <td>1</td>\n",
              "      <td>3</td>\n",
              "    </tr>\n",
              "    <tr>\n",
              "      <th>22</th>\n",
              "      <td>AMAZONAS</td>\n",
              "      <td>UTCUBAMBA</td>\n",
              "      <td>LONYA GRANDE</td>\n",
              "      <td>MATULI</td>\n",
              "      <td>-6.10633</td>\n",
              "      <td>-78.4169</td>\n",
              "      <td>1</td>\n",
              "      <td>1</td>\n",
              "    </tr>\n",
              "    <tr>\n",
              "      <th>24</th>\n",
              "      <td>AMAZONAS</td>\n",
              "      <td>UTCUBAMBA</td>\n",
              "      <td>LONYA GRANDE</td>\n",
              "      <td>ARCURCO</td>\n",
              "      <td>-6.10101</td>\n",
              "      <td>-78.4175</td>\n",
              "      <td>0</td>\n",
              "      <td>0</td>\n",
              "    </tr>\n",
              "  </tbody>\n",
              "</table>\n",
              "</div>"
            ],
            "text/plain": [
              "   DEPARTAMENTO  PROVINCIA      DISTRITO  ... LONGITUD VIVIENDAS POBLACIÓN\n",
              "1      AMAZONAS  UTCUBAMBA  LONYA GRANDE  ... -78.4225       698      2896\n",
              "19     AMAZONAS  UTCUBAMBA  LONYA GRANDE  ... -78.4285         2         4\n",
              "20     AMAZONAS  UTCUBAMBA  LONYA GRANDE  ... -78.4278         1         3\n",
              "22     AMAZONAS  UTCUBAMBA  LONYA GRANDE  ... -78.4169         1         1\n",
              "24     AMAZONAS  UTCUBAMBA  LONYA GRANDE  ... -78.4175         0         0\n",
              "\n",
              "[5 rows x 8 columns]"
            ]
          },
          "metadata": {
            "tags": []
          },
          "execution_count": 39
        }
      ]
    },
    {
      "cell_type": "markdown",
      "metadata": {
        "id": "Q8Uv2q9fLH7M"
      },
      "source": [
        "Sacamos la latitud y la longitud de cada dato"
      ]
    },
    {
      "cell_type": "code",
      "metadata": {
        "id": "djYrWwBFLCOu",
        "colab": {
          "base_uri": "https://localhost:8080/",
          "height": 194
        },
        "outputId": "75b66439-547b-48bf-b571-23524f018587"
      },
      "source": [
        "df_Q3"
      ],
      "execution_count": null,
      "outputs": [
        {
          "output_type": "execute_result",
          "data": {
            "text/html": [
              "<div>\n",
              "<style scoped>\n",
              "    .dataframe tbody tr th:only-of-type {\n",
              "        vertical-align: middle;\n",
              "    }\n",
              "\n",
              "    .dataframe tbody tr th {\n",
              "        vertical-align: top;\n",
              "    }\n",
              "\n",
              "    .dataframe thead th {\n",
              "        text-align: right;\n",
              "    }\n",
              "</style>\n",
              "<table border=\"1\" class=\"dataframe\">\n",
              "  <thead>\n",
              "    <tr style=\"text-align: right;\">\n",
              "      <th></th>\n",
              "      <th>DEPARTAMENTO</th>\n",
              "      <th>PROVINCIA</th>\n",
              "      <th>DISTRITO</th>\n",
              "      <th>CENTRO POBLADO</th>\n",
              "      <th>LATITUD</th>\n",
              "      <th>LONGITUD</th>\n",
              "      <th>VIVIENDAS</th>\n",
              "      <th>POBLACIÓN</th>\n",
              "    </tr>\n",
              "  </thead>\n",
              "  <tbody>\n",
              "    <tr>\n",
              "      <th>1</th>\n",
              "      <td>AMAZONAS</td>\n",
              "      <td>UTCUBAMBA</td>\n",
              "      <td>LONYA GRANDE</td>\n",
              "      <td>LONYA GRANDE</td>\n",
              "      <td>-6.09637</td>\n",
              "      <td>-78.4225</td>\n",
              "      <td>698</td>\n",
              "      <td>2896</td>\n",
              "    </tr>\n",
              "    <tr>\n",
              "      <th>19</th>\n",
              "      <td>AMAZONAS</td>\n",
              "      <td>UTCUBAMBA</td>\n",
              "      <td>LONYA GRANDE</td>\n",
              "      <td>MANCARRON</td>\n",
              "      <td>-6.09659</td>\n",
              "      <td>-78.4285</td>\n",
              "      <td>2</td>\n",
              "      <td>4</td>\n",
              "    </tr>\n",
              "    <tr>\n",
              "      <th>20</th>\n",
              "      <td>AMAZONAS</td>\n",
              "      <td>UTCUBAMBA</td>\n",
              "      <td>LONYA GRANDE</td>\n",
              "      <td>BOLIVIA</td>\n",
              "      <td>-6.10133</td>\n",
              "      <td>-78.4278</td>\n",
              "      <td>1</td>\n",
              "      <td>3</td>\n",
              "    </tr>\n",
              "    <tr>\n",
              "      <th>22</th>\n",
              "      <td>AMAZONAS</td>\n",
              "      <td>UTCUBAMBA</td>\n",
              "      <td>LONYA GRANDE</td>\n",
              "      <td>MATULI</td>\n",
              "      <td>-6.10633</td>\n",
              "      <td>-78.4169</td>\n",
              "      <td>1</td>\n",
              "      <td>1</td>\n",
              "    </tr>\n",
              "    <tr>\n",
              "      <th>24</th>\n",
              "      <td>AMAZONAS</td>\n",
              "      <td>UTCUBAMBA</td>\n",
              "      <td>LONYA GRANDE</td>\n",
              "      <td>ARCURCO</td>\n",
              "      <td>-6.10101</td>\n",
              "      <td>-78.4175</td>\n",
              "      <td>0</td>\n",
              "      <td>0</td>\n",
              "    </tr>\n",
              "  </tbody>\n",
              "</table>\n",
              "</div>"
            ],
            "text/plain": [
              "   DEPARTAMENTO  PROVINCIA      DISTRITO  ... LONGITUD VIVIENDAS POBLACIÓN\n",
              "1      AMAZONAS  UTCUBAMBA  LONYA GRANDE  ... -78.4225       698      2896\n",
              "19     AMAZONAS  UTCUBAMBA  LONYA GRANDE  ... -78.4285         2         4\n",
              "20     AMAZONAS  UTCUBAMBA  LONYA GRANDE  ... -78.4278         1         3\n",
              "22     AMAZONAS  UTCUBAMBA  LONYA GRANDE  ... -78.4169         1         1\n",
              "24     AMAZONAS  UTCUBAMBA  LONYA GRANDE  ... -78.4175         0         0\n",
              "\n",
              "[5 rows x 8 columns]"
            ]
          },
          "metadata": {
            "tags": []
          },
          "execution_count": 40
        }
      ]
    },
    {
      "cell_type": "markdown",
      "metadata": {
        "id": "dSNMZK4sgOow"
      },
      "source": [
        "Almacen de coordenadas X y Y de la seleccion"
      ]
    },
    {
      "cell_type": "code",
      "metadata": {
        "id": "Px_mexV2fUjH"
      },
      "source": [
        "cord_x=[]\n",
        "for i in df_Q3['LATITUD']:\n",
        "  cord_x.append(abs(i))"
      ],
      "execution_count": null,
      "outputs": []
    },
    {
      "cell_type": "code",
      "metadata": {
        "colab": {
          "base_uri": "https://localhost:8080/"
        },
        "id": "x2M2As7M_mkl",
        "outputId": "a2c56d1c-3517-4559-db5d-4fcd6707d1f9"
      },
      "source": [
        "cord_x"
      ],
      "execution_count": null,
      "outputs": [
        {
          "output_type": "execute_result",
          "data": {
            "text/plain": [
              "[6.096373, 6.096585, 6.101328, 6.106335, 6.101007]"
            ]
          },
          "metadata": {
            "tags": []
          },
          "execution_count": 42
        }
      ]
    },
    {
      "cell_type": "code",
      "metadata": {
        "id": "gmVlpjS9f_7M"
      },
      "source": [
        "cord_y=[]\n",
        "for i in df_Q3['LONGITUD']:\n",
        "  cord_y.append(abs(i))"
      ],
      "execution_count": null,
      "outputs": []
    },
    {
      "cell_type": "code",
      "metadata": {
        "colab": {
          "base_uri": "https://localhost:8080/"
        },
        "id": "ed7UYKLX_0te",
        "outputId": "584a7c8f-3bf0-412e-f5ee-571c437f5c81"
      },
      "source": [
        "cord_y"
      ],
      "execution_count": null,
      "outputs": [
        {
          "output_type": "execute_result",
          "data": {
            "text/plain": [
              "[78.422516, 78.428543, 78.427833, 78.416907, 78.417463]"
            ]
          },
          "metadata": {
            "tags": []
          },
          "execution_count": 44
        }
      ]
    },
    {
      "cell_type": "markdown",
      "metadata": {
        "id": "QdnSmUsht64L"
      },
      "source": [
        "Obteniendo los datos del nombre de cada selección por indice"
      ]
    },
    {
      "cell_type": "code",
      "metadata": {
        "id": "jjsCCYjhekzS"
      },
      "source": [
        "nameQ=[]\n",
        "for i,value in enumerate(df_Q3['CENTRO POBLADO']):\n",
        "  nameQ.append((i,value))\n"
      ],
      "execution_count": null,
      "outputs": []
    },
    {
      "cell_type": "code",
      "metadata": {
        "colab": {
          "base_uri": "https://localhost:8080/"
        },
        "id": "6YEd0J4ZfhkM",
        "outputId": "754fe139-4578-47cb-ccd6-6a3749479dde"
      },
      "source": [
        "nameQ"
      ],
      "execution_count": null,
      "outputs": [
        {
          "output_type": "execute_result",
          "data": {
            "text/plain": [
              "[(0, 'LONYA GRANDE'),\n",
              " (1, 'MANCARRON'),\n",
              " (2, 'BOLIVIA'),\n",
              " (3, 'MATULI'),\n",
              " (4, 'ARCURCO')]"
            ]
          },
          "metadata": {
            "tags": []
          },
          "execution_count": 46
        }
      ]
    },
    {
      "cell_type": "markdown",
      "metadata": {
        "id": "glziLzGD6uwF"
      },
      "source": [
        "Obtencion de arcos"
      ]
    },
    {
      "cell_type": "code",
      "metadata": {
        "colab": {
          "base_uri": "https://localhost:8080/"
        },
        "id": "YjE-5Ip96w2I",
        "outputId": "8ffd55db-7760-4f78-82a6-f160f263c5da"
      },
      "source": [
        "arc=[(i,j) for i in range(len(df_Q3)) for j in range(len(df_Q3)) if i!=j]\n",
        "arc"
      ],
      "execution_count": null,
      "outputs": [
        {
          "output_type": "execute_result",
          "data": {
            "text/plain": [
              "[(0, 1),\n",
              " (0, 2),\n",
              " (0, 3),\n",
              " (0, 4),\n",
              " (1, 0),\n",
              " (1, 2),\n",
              " (1, 3),\n",
              " (1, 4),\n",
              " (2, 0),\n",
              " (2, 1),\n",
              " (2, 3),\n",
              " (2, 4),\n",
              " (3, 0),\n",
              " (3, 1),\n",
              " (3, 2),\n",
              " (3, 4),\n",
              " (4, 0),\n",
              " (4, 1),\n",
              " (4, 2),\n",
              " (4, 3)]"
            ]
          },
          "metadata": {
            "tags": []
          },
          "execution_count": 47
        }
      ]
    },
    {
      "cell_type": "markdown",
      "metadata": {
        "id": "QXVh6kWGv1tM"
      },
      "source": [
        "Dibujando las coordenadas"
      ]
    },
    {
      "cell_type": "code",
      "metadata": {
        "colab": {
          "base_uri": "https://localhost:8080/",
          "height": 730
        },
        "id": "U-MvTXGlqdbK",
        "outputId": "5e07a3a6-c204-4bd6-a1a9-424eae3ceeaa"
      },
      "source": [
        "plt.figure(figsize=(12,12))\n",
        "plt.scatter(cord_x,cord_y, color='green')\n",
        "\n",
        "plt.title(\"PUNTOS DE VIAJE\")#Le damos un titulo al grafico\n",
        "plt.xlabel(\"LATITUD\")\n",
        "plt.ylabel(\"LONGITUD\")\n",
        "plt.show\n",
        "\n",
        "#Colocamos las coordenadas encima de los puntos\n",
        "V=[]\n",
        "for i in range(len(cord_x)):\n",
        "  #almacenamos en una lista temporal las coordenadas por cada iteracion, ya que se reiniciará en 0 \n",
        "  temp=[]\n",
        "  temp.append(\"%.2f\"%cord_x[i])\n",
        "  temp.append(\"%.2f\"%cord_y[i])\n",
        "  #Luego lo colocamos en una matriz para tener almacenado cada cordenada por lista \n",
        "  V.append(temp)\n",
        "\n",
        "#Mostramos las posiciones\n",
        "for i in range(len(cord_x)):\n",
        "  plt.annotate(str(V[i]), xy=(cord_x[i], cord_y[i]), xytext=(cord_x[i],cord_y[i]+0.0004),color='blue')\n",
        "\n",
        "#Mostramos el indice de las ciudades\n",
        "for i in range(len(cord_x)):\n",
        "  plt.annotate(str(i), xy=(cord_x[i], cord_y[i]), xytext=(cord_x[i],cord_y[i]),color='blue')\n",
        "\n"
      ],
      "execution_count": null,
      "outputs": [
        {
          "output_type": "display_data",
          "data": {
            "image/png": "[encoded data removed]",
            "text/plain": [
              "<Figure size 864x864 with 1 Axes>"
            ]
          },
          "metadata": {
            "tags": [],
            "needs_background": "light"
          }
        }
      ]
    },
    {
      "cell_type": "markdown",
      "metadata": {
        "id": "EtQI8YF09Ma7"
      },
      "source": [
        "Calculamos las distancias euclidianas de cada punto"
      ]
    },
    {
      "cell_type": "code",
      "metadata": {
        "id": "Qf-07VVR2j_y"
      },
      "source": [
        "DEucli={(i,j,np.hypot(cord_x[i]-cord_x[j],cord_y[i]-cord_y[j])) for i,j in arc}"
      ],
      "execution_count": null,
      "outputs": []
    },
    {
      "cell_type": "code",
      "metadata": {
        "colab": {
          "base_uri": "https://localhost:8080/"
        },
        "id": "JP44jpn3AgFK",
        "outputId": "07d9deea-2917-4932-b24b-a6c13fe2f184"
      },
      "source": [
        "DEucli"
      ],
      "execution_count": null,
      "outputs": [
        {
          "output_type": "execute_result",
          "data": {
            "text/plain": [
              "{(0, 1, 0.006030727402232475),\n",
              " (0, 2, 0.00726790987836618),\n",
              " (0, 3, 0.011432511753769293),\n",
              " (0, 4, 0.006856147970984888),\n",
              " (1, 0, 0.006030727402232475),\n",
              " (1, 2, 0.004795847057610614),\n",
              " (1, 3, 0.015180875995812032),\n",
              " (1, 4, 0.011929814918939498),\n",
              " (2, 0, 0.00726790987836618),\n",
              " (2, 1, 0.004795847057610614),\n",
              " (2, 3, 0.012018632409732052),\n",
              " (2, 4, 0.010374967036101065),\n",
              " (3, 0, 0.011432511753769293),\n",
              " (3, 1, 0.015180875995812032),\n",
              " (3, 2, 0.012018632409732052),\n",
              " (3, 4, 0.005356931957753311),\n",
              " (4, 0, 0.006856147970984888),\n",
              " (4, 1, 0.011929814918939498),\n",
              " (4, 2, 0.010374967036101065),\n",
              " (4, 3, 0.005356931957753311)}"
            ]
          },
          "metadata": {
            "tags": []
          },
          "execution_count": 50
        }
      ]
    },
    {
      "cell_type": "markdown",
      "metadata": {
        "id": "TP5YmoBZDbUP"
      },
      "source": [
        "Almacenamos el resultado en un csv para poder leerlo como grafo"
      ]
    },
    {
      "cell_type": "code",
      "metadata": {
        "id": "IykelDXC0LzE"
      },
      "source": [
        "df_edges=pd.DataFrame(DEucli)\n",
        "df_edges.to_csv(r'/content/sample_data/Edges.csv', index = False)"
      ],
      "execution_count": null,
      "outputs": []
    },
    {
      "cell_type": "markdown",
      "metadata": {
        "id": "lL3F1pBrDZj_"
      },
      "source": [
        "Almacenamos el csv"
      ]
    },
    {
      "cell_type": "code",
      "metadata": {
        "id": "eJRbNYDMDptL"
      },
      "source": [
        "G= pd.read_csv(\"/content/sample_data/Edges.csv\")"
      ],
      "execution_count": null,
      "outputs": []
    },
    {
      "cell_type": "markdown",
      "metadata": {
        "id": "S20uBveBEeq2"
      },
      "source": [
        "#GRAPH STUFF"
      ]
    },
    {
      "cell_type": "code",
      "metadata": {
        "id": "93Ex7cAsEhZ1"
      },
      "source": [
        "import graphviz as gv\n",
        "import networkx as nx\n",
        "\n",
        "def nx2gv(G, weighted=False, params={'rankdir': 'LR', 'size': '6'},\n",
        "          path=None, pathparams={'color':'orangered'}, nodeinfo=False):\n",
        "  if G.is_directed():\n",
        "    g = gv.Digraph('G')\n",
        "  else:\n",
        "    g = gv.Graph('G')\n",
        "  g.attr(**params)\n",
        "\n",
        "  for u in G.nodes:\n",
        "    if nodeinfo:\n",
        "      g.node(str(u), **dict(G.nodes[u]))\n",
        "    else:\n",
        "      g.node(str(u))\n",
        "\n",
        "  for u, v in G.edges():\n",
        "    pp = pathparams if path and path[v] == u else {}\n",
        "\n",
        "    if weighted:\n",
        "      g.edge(str(u), str(v), f\"{G.edges[u, v]['weight']}\", **pp)\n",
        "    else:\n",
        "      g.edge(str(u), str(v), **pp)\n",
        "      \n",
        "  return g\n",
        "\n",
        "def adjmatrix2gv(G, weighted=False, params={'rankdir': 'LR', 'size': '5'}):\n",
        "  return nx2gv(nx.from_numpy_matrix(G), weighted, params)\n",
        "             \n",
        "def adjlist2gv(G, type='digraph', weighted=False, params={'rankdir': 'LR'}):\n",
        "  digraph = type == 'digraph'\n",
        "  if digraph:\n",
        "    g = gv.Digraph('G')\n",
        "  else:\n",
        "    g = gv.Graph('G')\n",
        "  Gv.attr(**params)\n",
        "\n",
        "  n = len(G)\n",
        "  for i in range(n):\n",
        "    g.node(str(i))\n",
        "             \n",
        "  for u in range(n):\n",
        "    if weighted:\n",
        "      for v, w in range(n):\n",
        "        g.edge(str(u), str(v), str(w))\n",
        "        if digraph:\n",
        "          g.edge(str(v), str(u), str(w))\n",
        "    else:\n",
        "      for v in range(n):\n",
        "        g.edge(str(u), str(v))\n",
        "        if digraph:\n",
        "          g.edge(str(v), str(u))\n",
        "\n",
        "  return g\n",
        "      \n",
        "def path2gv(path, params={'rankdir': 'LR', 'size': '5'}):\n",
        "  g = gv.Digraph('G')\n",
        "  g.attr(**params)\n",
        "              \n",
        "  n = len(path)\n",
        "  for i in range(n):\n",
        "    g.node(str(i))\n",
        "\n",
        "  for v, u in enumerate(path):\n",
        "    if u != -1:\n",
        "      g.edge(str(u), str(v))\n",
        "\n",
        "  return g\n",
        "              \n",
        "def wedges2adjlist(filename: str, type='graph'):\n",
        "  with open(filename) as file:\n",
        "    data = []\n",
        "    n = 0\n",
        "    for line in file:\n",
        "      if line[0] != '#':\n",
        "        data.append([int(x) for x in line.strip().split(',')])\n",
        "        if data[-1][0] > n: n = data[-1][0]\n",
        "        if data[-1][1] > n: n = data[-1][1]\n",
        "\n",
        "  n += 1\n",
        "  G = [[] for _ in range(n)]\n",
        "  for u, v, w in data:\n",
        "    G[u].append((v, w))\n",
        "    if type == 'graph':\n",
        "      G[v].append((u, w))\n",
        "              \n",
        "  return G"
      ],
      "execution_count": null,
      "outputs": []
    },
    {
      "cell_type": "markdown",
      "metadata": {
        "id": "7-BN_mEIDsbn"
      },
      "source": [
        "#Segunda Parte"
      ]
    },
    {
      "cell_type": "markdown",
      "metadata": {
        "id": "ZGtz3kelEuHe"
      },
      "source": [
        "Dibujamos el grafo"
      ]
    },
    {
      "cell_type": "code",
      "metadata": {
        "colab": {
          "base_uri": "https://localhost:8080/",
          "height": 269
        },
        "id": "MnIqvz1aDt4s",
        "outputId": "acd2bf42-9483-4102-8cc2-1f40f509e7ac"
      },
      "source": [
        "G = nx.read_weighted_edgelist('/content/sample_data/Edges.csv', create_using=nx.Graph, delimiter=',', nodetype=int)\n",
        "nx2gv(G,params={'rankdir': 'LR', 'size': '13'}, weighted=True)"
      ],
      "execution_count": null,
      "outputs": [
        {
          "output_type": "execute_result",
          "data": {
            "text/plain": [
              "<graphviz.dot.Graph at 0x7fb51338f690>"
            ],
            "image/svg+xml": "<?xml version=\"1.0\" encoding=\"UTF-8\" standalone=\"no\"?>\n<!DOCTYPE svg PUBLIC \"-//W3C//DTD SVG 1.1//EN\"\n \"http://www.w3.org/Graphics/SVG/1.1/DTD/svg11.dtd\">\n<!-- Generated by graphviz version 2.40.1 (20161225.0304)\n -->\n<!-- Title: G Pages: 1 -->\n<svg width=\"936pt\" height=\"171pt\"\n viewBox=\"0.00 0.00 936.00 170.96\" xmlns=\"http://www.w3.org/2000/svg\" xmlns:xlink=\"http://www.w3.org/1999/xlink\">\n<g id=\"graph0\" class=\"graph\" transform=\"scale(.7318 .7318) rotate(0) translate(4 229.6041)\">\n<title>G</title>\n<polygon fill=\"#ffffff\" stroke=\"transparent\" points=\"-4,4 -4,-229.6041 1275,-229.6041 1275,4 -4,4\"/>\n<!-- 0 -->\n<g id=\"node1\" class=\"node\">\n<title>0</title>\n<ellipse fill=\"none\" stroke=\"#000000\" cx=\"27\" cy=\"-105.6041\" rx=\"27\" ry=\"18\"/>\n<text text-anchor=\"middle\" x=\"27\" y=\"-101.9041\" font-family=\"Times,serif\" font-size=\"14.00\" fill=\"#000000\">0</text>\n</g>\n<!-- 1 -->\n<g id=\"node2\" class=\"node\">\n<title>1</title>\n<ellipse fill=\"none\" stroke=\"#000000\" cx=\"306.5\" cy=\"-131.6041\" rx=\"27\" ry=\"18\"/>\n<text text-anchor=\"middle\" x=\"306.5\" y=\"-127.9041\" font-family=\"Times,serif\" font-size=\"14.00\" fill=\"#000000\">1</text>\n</g>\n<!-- 0&#45;&#45;1 -->\n<g id=\"edge1\" class=\"edge\">\n<title>0&#45;&#45;1</title>\n<path fill=\"none\" stroke=\"#000000\" d=\"M53.7996,-108.0971C107.0869,-113.0541 225.815,-124.0986 279.3708,-129.0805\"/>\n<text text-anchor=\"middle\" x=\"145.5\" y=\"-126.4041\" font-family=\"Times,serif\" font-size=\"14.00\" fill=\"#000000\">0.006030727402232475</text>\n</g>\n<!-- 2 -->\n<g id=\"node3\" class=\"node\">\n<title>2</title>\n<ellipse fill=\"none\" stroke=\"#000000\" cx=\"632\" cy=\"-28.6041\" rx=\"27\" ry=\"18\"/>\n<text text-anchor=\"middle\" x=\"632\" y=\"-24.9041\" font-family=\"Times,serif\" font-size=\"14.00\" fill=\"#000000\">2</text>\n</g>\n<!-- 0&#45;&#45;2 -->\n<g id=\"edge2\" class=\"edge\">\n<title>0&#45;&#45;2</title>\n<path fill=\"none\" stroke=\"#000000\" d=\"M37.8397,-88.8187C45.8647,-77.9275 57.8345,-64.5196 72,-57.6041 258.56,33.472 522.8933,-7.063 605.9739,-23.1408\"/>\n<text text-anchor=\"middle\" x=\"306.5\" y=\"-13.4041\" font-family=\"Times,serif\" font-size=\"14.00\" fill=\"#000000\">0.00726790987836618</text>\n</g>\n<!-- 4 -->\n<g id=\"node4\" class=\"node\">\n<title>4</title>\n<ellipse fill=\"none\" stroke=\"#000000\" cx=\"961.5\" cy=\"-85.6041\" rx=\"27\" ry=\"18\"/>\n<text text-anchor=\"middle\" x=\"961.5\" y=\"-81.9041\" font-family=\"Times,serif\" font-size=\"14.00\" fill=\"#000000\">4</text>\n</g>\n<!-- 0&#45;&#45;4 -->\n<g id=\"edge4\" class=\"edge\">\n<title>0&#45;&#45;4</title>\n<path fill=\"none\" stroke=\"#000000\" d=\"M53.6386,-101.9905C114.0382,-94.001 266.0851,-75.0359 394,-68.6041 601.9632,-58.1475 853.1435,-76.5245 934.6038,-83.2688\"/>\n<text text-anchor=\"middle\" x=\"467.5\" y=\"-72.4041\" font-family=\"Times,serif\" font-size=\"14.00\" fill=\"#000000\">0.006856147970984888</text>\n</g>\n<!-- 3 -->\n<g id=\"node5\" class=\"node\">\n<title>3</title>\n<ellipse fill=\"none\" stroke=\"#000000\" cx=\"1244\" cy=\"-152.6041\" rx=\"27\" ry=\"18\"/>\n<text text-anchor=\"middle\" x=\"1244\" y=\"-148.9041\" font-family=\"Times,serif\" font-size=\"14.00\" fill=\"#000000\">3</text>\n</g>\n<!-- 0&#45;&#45;3 -->\n<g id=\"edge3\" class=\"edge\">\n<title>0&#45;&#45;3</title>\n<path fill=\"none\" stroke=\"#000000\" d=\"M42.5924,-120.5913C50.8003,-127.7983 61.3534,-136.0553 72,-141.6041 168.3406,-191.8157 197.8597,-210.6041 306.5,-210.6041 306.5,-210.6041 306.5,-210.6041 961.5,-210.6041 1058.8825,-210.6041 1171.3606,-177.124 1219.7827,-161.0378\"/>\n<text text-anchor=\"middle\" x=\"632\" y=\"-214.4041\" font-family=\"Times,serif\" font-size=\"14.00\" fill=\"#000000\">0.011432511753769293</text>\n</g>\n<!-- 1&#45;&#45;2 -->\n<g id=\"edge5\" class=\"edge\">\n<title>1&#45;&#45;2</title>\n<path fill=\"none\" stroke=\"#000000\" d=\"M331.6535,-124.9998C349.0771,-120.5648 372.8513,-114.7894 394,-110.6041 458.8701,-97.7664 479.233,-111.2215 541,-87.6041 569.1389,-76.8449 597.6511,-56.4878 615.0781,-42.733\"/>\n<text text-anchor=\"middle\" x=\"467.5\" y=\"-114.4041\" font-family=\"Times,serif\" font-size=\"14.00\" fill=\"#000000\">0.004795847057610614</text>\n</g>\n<!-- 1&#45;&#45;4 -->\n<g id=\"edge6\" class=\"edge\">\n<title>1&#45;&#45;4</title>\n<path fill=\"none\" stroke=\"#000000\" d=\"M333.6077,-131.5196C377.3022,-131.2462 465.9983,-130.1255 541,-125.6041 689.9623,-116.6243 867.8121,-96.645 934.4934,-88.828\"/>\n<text text-anchor=\"middle\" x=\"632\" y=\"-127.4041\" font-family=\"Times,serif\" font-size=\"14.00\" fill=\"#000000\">0.011929814918939498</text>\n</g>\n<!-- 1&#45;&#45;3 -->\n<g id=\"edge7\" class=\"edge\">\n<title>1&#45;&#45;3</title>\n<path fill=\"none\" stroke=\"#000000\" d=\"M333.2449,-135.3639C350.5378,-137.6207 373.5532,-140.2994 394,-141.6041 686.3217,-160.2573 760.1051,-147.0706 1053,-150.6041 1111.3601,-151.3082 1179.7524,-151.9895 1216.7984,-152.3465\"/>\n<text text-anchor=\"middle\" x=\"796.5\" y=\"-155.4041\" font-family=\"Times,serif\" font-size=\"14.00\" fill=\"#000000\">0.015180875995812032</text>\n</g>\n<!-- 2&#45;&#45;4 -->\n<g id=\"edge8\" class=\"edge\">\n<title>2&#45;&#45;4</title>\n<path fill=\"none\" stroke=\"#000000\" d=\"M659.2332,-27.5769C703.9428,-26.5472 795.3911,-27.2104 870,-45.6041 895.2495,-51.8291 922.3238,-64.4921 940.4157,-73.9114\"/>\n<text text-anchor=\"middle\" x=\"796.5\" y=\"-49.4041\" font-family=\"Times,serif\" font-size=\"14.00\" fill=\"#000000\">0.010374967036101065</text>\n</g>\n<!-- 2&#45;&#45;3 -->\n<g id=\"edge9\" class=\"edge\">\n<title>2&#45;&#45;3</title>\n<path fill=\"none\" stroke=\"#000000\" d=\"M658.8067,-26.3967C724.0786,-21.7102 896.0953,-13.5073 1035,-43.6041 1109.9982,-59.8542 1135.7334,-54.1745 1199,-97.6041 1213.5452,-107.5888 1225.8819,-123.5802 1233.9389,-135.7522\"/>\n<text text-anchor=\"middle\" x=\"961.5\" y=\"-47.4041\" font-family=\"Times,serif\" font-size=\"14.00\" fill=\"#000000\">0.012018632409732052</text>\n</g>\n<!-- 4&#45;&#45;3 -->\n<g id=\"edge10\" class=\"edge\">\n<title>4&#45;&#45;3</title>\n<path fill=\"none\" stroke=\"#000000\" d=\"M987.8313,-89.7842C1031.9949,-97.0973 1123.5711,-113.5585 1199,-135.6041 1206.2144,-137.7127 1213.9181,-140.4398 1220.8752,-143.09\"/>\n<text text-anchor=\"middle\" x=\"1126\" y=\"-139.4041\" font-family=\"Times,serif\" font-size=\"14.00\" fill=\"#000000\">0.005356931957753311</text>\n</g>\n</g>\n</svg>\n"
          },
          "metadata": {
            "tags": []
          },
          "execution_count": 53
        }
      ]
    },
    {
      "cell_type": "markdown",
      "metadata": {
        "id": "6Th-IvTVrHz5"
      },
      "source": [
        "#Dijkstra todos los caminos"
      ]
    },
    {
      "cell_type": "code",
      "metadata": {
        "id": "jDwcLtq1reeW"
      },
      "source": [
        "def calculatePath(G):\n",
        "  path = [0]*G.number_of_nodes()\n",
        "  for v, info in G.nodes.data():\n",
        "    path[v] = info['path']\n",
        "\n",
        "  return path"
      ],
      "execution_count": null,
      "outputs": []
    },
    {
      "cell_type": "code",
      "metadata": {
        "id": "kq2o6yhBrlcX"
      },
      "source": [
        "\n",
        "cont_hop=[0]\n",
        "all_path=[]\n",
        "weights=[]\n",
        "def _dijkstra(G,s,q):\n",
        "  if len(q)!=0:\n",
        "    g_u, u = hq.heappop(q) \n",
        "    if not G.nodes[u]['visited']: \n",
        "      G.nodes[u]['visited'] = True \n",
        "      if cont_hop[0]==(len(G.nodes())-1):\n",
        "        G.nodes[0]['visited'] = False\n",
        "      for v in G.neighbors(u): \n",
        "        if not G.nodes[v]['visited']: \n",
        "          if G.nodes[v]['prime']==True and cont_hop[0]==(len(G.nodes())-1):\n",
        "            w_uv = G.edges[u, v]['weight']\n",
        "            f_v  = g_u + w_uv \n",
        "            weights.append(f_v)\n",
        "            G.nodes[v]['path'] = u \n",
        "            pathTotal=calculatePath(G)\n",
        "            all_path.append(pathTotal)\n",
        "            G.nodes[v]['path'] = -1\n",
        "            G.nodes[v]['cost'] = math.inf\n",
        "            G.nodes[v]['visited'] = True \n",
        "          \n",
        "          elif not G.nodes[v]['prime']:\n",
        "            cont_hop[0]=cont_hop[0]+1  \n",
        "            w_uv = G.edges[u, v]['weight'] \n",
        "            f_v  = g_u + w_uv \n",
        "            g_v  = G.nodes[v]['cost']\n",
        "            if f_v < g_v:         \n",
        "              G.nodes[v]['cost'] = f_v \n",
        "              G.nodes[v]['path'] = u \n",
        "              hq.heappush(q, (f_v, v)) \n",
        "              _dijkstra(G,s,q)\n",
        "              cont_hop[0]=cont_hop[0]-1\n",
        "              G.nodes[v]['path'] = -1\n",
        "              G.nodes[v]['cost'] = math.inf\n",
        "              G.nodes[v]['visited'] = False\n",
        "\n",
        "              \n",
        "      \n",
        "        \n",
        "  \n",
        "\n",
        "def dijkstra(G, s):\n",
        "  for u in G.nodes:\n",
        "    G.nodes[u]['visited'] = False      \n",
        "    G.nodes[u]['path']    = -1         \n",
        "    G.nodes[u]['cost']    = math.inf   \n",
        "    #\n",
        "    G.nodes[u]['prime'] = False\n",
        "\n",
        "  G.nodes[s]['cost'] = 0\n",
        "  G.nodes[s]['prime']= True \n",
        "  q = [(0, s)] \n",
        "  \n",
        "  _dijkstra(G,s,q)\n",
        "\n",
        "  return all_path\n",
        "\n"
      ],
      "execution_count": null,
      "outputs": []
    },
    {
      "cell_type": "code",
      "metadata": {
        "id": "Gtc7jnZgo6Ds"
      },
      "source": [
        "#Buscador de nombres de la consulta realizada\n",
        "def nameNode(value):\n",
        "  for i,j in nameQ:\n",
        "    if value == i:\n",
        "      return j"
      ],
      "execution_count": null,
      "outputs": []
    },
    {
      "cell_type": "code",
      "metadata": {
        "id": "3UJ_plHkQlWO"
      },
      "source": [
        "#Guardamos la lista de caminos posibles\n",
        "lstPth=dijkstra(G, 0)"
      ],
      "execution_count": null,
      "outputs": []
    },
    {
      "cell_type": "code",
      "metadata": {
        "colab": {
          "base_uri": "https://localhost:8080/"
        },
        "id": "vuaEpHScpiix",
        "outputId": "8046bf60-9773-4b63-9242-dd0caf3fb89f"
      },
      "source": [
        "#Mostramos la lista de caminos posibles#(n-1)!\n",
        "print(\"TODAS LAS POSIBLES RUTAS SON LAS SIGUIENTES\")\n",
        "lstPth"
      ],
      "execution_count": null,
      "outputs": [
        {
          "output_type": "stream",
          "text": [
            "TODAS LAS POSIBLES RUTAS SON LAS SIGUIENTES\n"
          ],
          "name": "stdout"
        },
        {
          "output_type": "execute_result",
          "data": {
            "text/plain": [
              "[[3, 0, 1, 4, 2],\n",
              " [4, 0, 1, 2, 3],\n",
              " [3, 0, 4, 2, 1],\n",
              " [2, 0, 3, 4, 1],\n",
              " [4, 0, 3, 1, 2],\n",
              " [2, 0, 4, 1, 3],\n",
              " [3, 2, 0, 4, 1],\n",
              " [4, 2, 0, 1, 3],\n",
              " [3, 4, 0, 1, 2],\n",
              " [1, 3, 0, 4, 2],\n",
              " [4, 3, 0, 2, 1],\n",
              " [1, 4, 0, 2, 3],\n",
              " [4, 2, 3, 0, 1],\n",
              " [1, 4, 3, 0, 2],\n",
              " [4, 3, 1, 0, 2],\n",
              " [2, 3, 4, 0, 1],\n",
              " [1, 2, 4, 0, 3],\n",
              " [2, 4, 1, 0, 3],\n",
              " [3, 2, 4, 1, 0],\n",
              " [1, 3, 4, 2, 0],\n",
              " [3, 4, 1, 2, 0],\n",
              " [2, 4, 3, 1, 0],\n",
              " [1, 2, 3, 4, 0],\n",
              " [2, 3, 1, 4, 0]]"
            ]
          },
          "metadata": {
            "tags": []
          },
          "execution_count": 77
        }
      ]
    },
    {
      "cell_type": "code",
      "metadata": {
        "colab": {
          "base_uri": "https://localhost:8080/",
          "height": 71
        },
        "id": "tD5aSUVbL2c6",
        "outputId": "53f3a31c-333f-4973-ab52-2493f4690057"
      },
      "source": [
        "#Elija el camino que desee dibujar\n",
        "G_n = nx.DiGraph()\n",
        "for i,value in enumerate(lstPth[2]): #<---Elija \n",
        "  G_n.add_edge(nameNode(value) ,nameNode(i))\n",
        "\n",
        "nx2gv(G_n)"
      ],
      "execution_count": null,
      "outputs": [
        {
          "output_type": "execute_result",
          "data": {
            "text/plain": [
              "<graphviz.dot.Digraph at 0x7fb5134434d0>"
            ],
            "image/svg+xml": "<?xml version=\"1.0\" encoding=\"UTF-8\" standalone=\"no\"?>\n<!DOCTYPE svg PUBLIC \"-//W3C//DTD SVG 1.1//EN\"\n \"http://www.w3.org/Graphics/SVG/1.1/DTD/svg11.dtd\">\n<!-- Generated by graphviz version 2.40.1 (20161225.0304)\n -->\n<!-- Title: G Pages: 1 -->\n<svg width=\"432pt\" height=\"38pt\"\n viewBox=\"0.00 0.00 432.00 37.62\" xmlns=\"http://www.w3.org/2000/svg\" xmlns:xlink=\"http://www.w3.org/1999/xlink\">\n<g id=\"graph0\" class=\"graph\" transform=\"scale(.5614 .5614) rotate(0) translate(4 63)\">\n<title>G</title>\n<polygon fill=\"#ffffff\" stroke=\"transparent\" points=\"-4,4 -4,-63 765.4452,-63 765.4452,4 -4,4\"/>\n<!-- MATULI -->\n<g id=\"node1\" class=\"node\">\n<title>MATULI</title>\n<ellipse fill=\"none\" stroke=\"#000000\" cx=\"46.1459\" cy=\"-18\" rx=\"46.2923\" ry=\"18\"/>\n<text text-anchor=\"middle\" x=\"46.1459\" y=\"-14.3\" font-family=\"Times,serif\" font-size=\"14.00\" fill=\"#000000\">MATULI</text>\n</g>\n<!-- LONYA GRANDE -->\n<g id=\"node2\" class=\"node\">\n<title>LONYA GRANDE</title>\n<ellipse fill=\"none\" stroke=\"#000000\" cx=\"212.7843\" cy=\"-41\" rx=\"84.485\" ry=\"18\"/>\n<text text-anchor=\"middle\" x=\"212.7843\" y=\"-37.3\" font-family=\"Times,serif\" font-size=\"14.00\" fill=\"#000000\">LONYA GRANDE</text>\n</g>\n<!-- MATULI&#45;&gt;LONYA GRANDE -->\n<g id=\"edge1\" class=\"edge\">\n<title>MATULI&#45;&gt;LONYA GRANDE</title>\n<path fill=\"none\" stroke=\"#000000\" d=\"M89.9282,-24.043C102.7775,-25.8165 117.2599,-27.8154 131.6551,-29.8023\"/>\n<polygon fill=\"#000000\" stroke=\"#000000\" points=\"131.2013,-33.2727 141.5859,-31.173 132.1584,-26.3385 131.2013,-33.2727\"/>\n</g>\n<!-- MANCARRON -->\n<g id=\"node3\" class=\"node\">\n<title>MANCARRON</title>\n<ellipse fill=\"none\" stroke=\"#000000\" cx=\"405.4204\" cy=\"-41\" rx=\"72.2875\" ry=\"18\"/>\n<text text-anchor=\"middle\" x=\"405.4204\" y=\"-37.3\" font-family=\"Times,serif\" font-size=\"14.00\" fill=\"#000000\">MANCARRON</text>\n</g>\n<!-- LONYA GRANDE&#45;&gt;MANCARRON -->\n<g id=\"edge2\" class=\"edge\">\n<title>LONYA GRANDE&#45;&gt;MANCARRON</title>\n<path fill=\"none\" stroke=\"#000000\" d=\"M297.2773,-41C305.758,-41 314.3628,-41 322.8234,-41\"/>\n<polygon fill=\"#000000\" stroke=\"#000000\" points=\"323.054,-44.5001 333.0539,-41 323.0539,-37.5001 323.054,-44.5001\"/>\n</g>\n<!-- ARCURCO -->\n<g id=\"node4\" class=\"node\">\n<title>ARCURCO</title>\n<ellipse fill=\"none\" stroke=\"#000000\" cx=\"570.109\" cy=\"-41\" rx=\"56.59\" ry=\"18\"/>\n<text text-anchor=\"middle\" x=\"570.109\" y=\"-37.3\" font-family=\"Times,serif\" font-size=\"14.00\" fill=\"#000000\">ARCURCO</text>\n</g>\n<!-- MANCARRON&#45;&gt;ARCURCO -->\n<g id=\"edge3\" class=\"edge\">\n<title>MANCARRON&#45;&gt;ARCURCO</title>\n<path fill=\"none\" stroke=\"#000000\" d=\"M477.6552,-41C486.1344,-41 494.7587,-41 503.1612,-41\"/>\n<polygon fill=\"#000000\" stroke=\"#000000\" points=\"503.2758,-44.5001 513.2758,-41 503.2758,-37.5001 503.2758,-44.5001\"/>\n</g>\n<!-- BOLIVIA -->\n<g id=\"node5\" class=\"node\">\n<title>BOLIVIA</title>\n<ellipse fill=\"none\" stroke=\"#000000\" cx=\"712.0496\" cy=\"-18\" rx=\"49.2915\" ry=\"18\"/>\n<text text-anchor=\"middle\" x=\"712.0496\" y=\"-14.3\" font-family=\"Times,serif\" font-size=\"14.00\" fill=\"#000000\">BOLIVIA</text>\n</g>\n<!-- ARCURCO&#45;&gt;BOLIVIA -->\n<g id=\"edge4\" class=\"edge\">\n<title>ARCURCO&#45;&gt;BOLIVIA</title>\n<path fill=\"none\" stroke=\"#000000\" d=\"M620.5516,-32.8263C632.138,-30.9488 644.5231,-28.942 656.3188,-27.0306\"/>\n<polygon fill=\"#000000\" stroke=\"#000000\" points=\"657.1866,-30.4357 666.498,-25.3812 656.0669,-23.5258 657.1866,-30.4357\"/>\n</g>\n<!-- BOLIVIA&#45;&gt;MATULI -->\n<g id=\"edge5\" class=\"edge\">\n<title>BOLIVIA&#45;&gt;MATULI</title>\n<path fill=\"none\" stroke=\"#000000\" d=\"M662.8422,-15.3012C650.9954,-14.7603 638.3759,-14.2744 626.654,-14 405.2203,-8.8168 349.7206,-8.6121 128.2918,-14 119.879,-14.2047 110.9859,-14.5272 102.2795,-14.9023\"/>\n<polygon fill=\"#000000\" stroke=\"#000000\" points=\"102.0146,-11.4107 92.1846,-15.363 102.3338,-18.4034 102.0146,-11.4107\"/>\n</g>\n</g>\n</svg>\n"
          },
          "metadata": {
            "tags": []
          },
          "execution_count": 64
        }
      ]
    },
    {
      "cell_type": "markdown",
      "metadata": {
        "id": "0M6WQe-prvlT"
      },
      "source": [
        "#Dijkstra menor camino"
      ]
    },
    {
      "cell_type": "code",
      "metadata": {
        "id": "hD2_jtQwsVmT"
      },
      "source": [
        "\n",
        "cont_hop=[0]\n",
        "all_path=[]\n",
        "weights=[]\n",
        "def _dijkstra_for_shorter(G,s,q):\n",
        "  if len(q)!=0:\n",
        "    g_u, u = hq.heappop(q) \n",
        "    if not G.nodes[u]['visited']: \n",
        "      G.nodes[u]['visited'] = True \n",
        "      if cont_hop[0]==(len(G.nodes())-1):\n",
        "        G.nodes[0]['visited'] = False\n",
        "      for v in G.neighbors(u): \n",
        "        if not G.nodes[v]['visited']: \n",
        "          if G.nodes[v]['prime']==True and cont_hop[0]==(len(G.nodes())-1):\n",
        "            w_uv = G.edges[u, v]['weight']\n",
        "            f_v  = g_u + w_uv \n",
        "            weights.append(f_v)\n",
        "            G.nodes[v]['path'] = u \n",
        "            pathTotal=calculatePath(G)\n",
        "            all_path.append(pathTotal)\n",
        "            G.nodes[v]['path'] = -1\n",
        "            G.nodes[v]['cost'] = math.inf\n",
        "            G.nodes[v]['visited'] = True \n",
        "          \n",
        "          elif not G.nodes[v]['prime']:\n",
        "            cont_hop[0]=cont_hop[0]+1  \n",
        "            w_uv = G.edges[u, v]['weight'] \n",
        "            f_v  = g_u + w_uv \n",
        "            g_v  = G.nodes[v]['cost']\n",
        "            if f_v < g_v:         \n",
        "              G.nodes[v]['cost'] = f_v \n",
        "              G.nodes[v]['path'] = u \n",
        "              hq.heappush(q, (f_v, v)) \n",
        "              _dijkstra_for_shorter(G,s,q)\n",
        "              cont_hop[0]=cont_hop[0]-1\n",
        "              G.nodes[v]['path'] = -1\n",
        "              G.nodes[v]['cost'] = math.inf\n",
        "              G.nodes[v]['visited'] = False\n",
        "\n",
        "              \n",
        "      \n",
        "        \n",
        "  \n",
        "\n",
        "def dijkstra_for_shorter(G, s):\n",
        "  for u in G.nodes:\n",
        "    G.nodes[u]['visited'] = False      \n",
        "    G.nodes[u]['path']    = -1         \n",
        "    G.nodes[u]['cost']    = math.inf   \n",
        "    #\n",
        "    G.nodes[u]['prime'] = False\n",
        "\n",
        "  G.nodes[s]['cost'] = 0\n",
        "  G.nodes[s]['prime']= True \n",
        "  q = [(0, s)] \n",
        "  \n",
        "  _dijkstra(G,s,q)\n",
        "  return min(weights)\n",
        "\n"
      ],
      "execution_count": null,
      "outputs": []
    },
    {
      "cell_type": "code",
      "metadata": {
        "id": "zLBBbe3CsJMf"
      },
      "source": [
        "cont_hop=[0]\n",
        "#all_path=[]\n",
        "paths_min=[]\n",
        "weights=[]\n",
        "def _dijkstraFindShorter(G,s,q,min_path):\n",
        "  if len(q)!=0:\n",
        "    g_u, u = hq.heappop(q) \n",
        "    if not G.nodes[u]['visited']: \n",
        "      G.nodes[u]['visited'] = True \n",
        "      if cont_hop[0]==(len(G.nodes())-1):\n",
        "        G.nodes[0]['visited'] = False\n",
        "      for v in G.neighbors(u): \n",
        "        if not G.nodes[v]['visited']: \n",
        "          if G.nodes[v]['prime']==True and cont_hop[0]==(len(G.nodes())-1):\n",
        "            w_uv = G.edges[u, v]['weight']\n",
        "            f_v  = g_u + w_uv \n",
        "            weights.append(f_v)\n",
        "            G.nodes[v]['path'] = u \n",
        "            pathTotal=calculatePath(G)\n",
        "            #all_path.append(pathTotal)\n",
        "            G.nodes[v]['path'] = -1\n",
        "            G.nodes[v]['cost'] = math.inf\n",
        "            G.nodes[v]['visited'] = True\n",
        "            if min_path == f_v:\n",
        "              print(\"EL PESO DE ESTE CAMINO ES \",min_path)\n",
        "              paths_min.append(pathTotal)\n",
        "\n",
        "          elif not G.nodes[v]['prime']:\n",
        "            cont_hop[0]=cont_hop[0]+1  \n",
        "            w_uv = G.edges[u, v]['weight'] \n",
        "            f_v  = g_u + w_uv \n",
        "            g_v  = G.nodes[v]['cost']\n",
        "            if f_v < g_v:         \n",
        "              G.nodes[v]['cost'] = f_v \n",
        "              G.nodes[v]['path'] = u \n",
        "              hq.heappush(q, (f_v, v)) \n",
        "              _dijkstraFindShorter(G,s,q,min_path)\n",
        "              cont_hop[0]=cont_hop[0]-1\n",
        "              G.nodes[v]['path'] = -1\n",
        "              G.nodes[v]['cost'] = math.inf\n",
        "              G.nodes[v]['visited'] = False\n",
        "\n",
        "              \n",
        "      \n",
        "        \n",
        "  \n",
        "\n",
        "def dijkstra2(G, s, min_path):\n",
        "  for u in G.nodes:\n",
        "    G.nodes[u]['visited'] = False      \n",
        "    G.nodes[u]['path']    = -1         \n",
        "    G.nodes[u]['cost']    = math.inf   \n",
        "    #\n",
        "    G.nodes[u]['prime'] = False\n",
        "\n",
        "  G.nodes[s]['cost'] = 0\n",
        "  G.nodes[s]['prime']= True \n",
        "  q = [(0, s)] \n",
        "  \n",
        "  _dijkstraFindShorter(G,s,q,min_path)\n",
        "  #print(\"hola\")\n",
        "  return paths_min"
      ],
      "execution_count": null,
      "outputs": []
    },
    {
      "cell_type": "code",
      "metadata": {
        "id": "c6dvbMgEsK2S"
      },
      "source": [
        "def shorterPath(G,s):\n",
        "  #Para que mini se llene del minimo tiene que pasarle el minimo de la lista de pesos que esta en la funcion dijkstra\n",
        "  Mini=dijkstra_for_shorter(G, s)\n",
        "  return dijkstra2(G, s, Mini)\n"
      ],
      "execution_count": null,
      "outputs": []
    },
    {
      "cell_type": "code",
      "metadata": {
        "colab": {
          "base_uri": "https://localhost:8080/"
        },
        "id": "C8DtV7YdA-ll",
        "outputId": "a656004f-fc64-4154-fe4a-faea5d91aac4"
      },
      "source": [
        "#Le pasamos a una lista el camino mas corto encontrado\n",
        "print(\"LOS CAMINOS MÁS CORTOS DEL GRAFO\")\n",
        "lstShort=shorterPath(G,0)"
      ],
      "execution_count": null,
      "outputs": [
        {
          "output_type": "stream",
          "text": [
            "EL PESO DE ESTE CAMINO ES  0.03505828679831334\n",
            "EL PESO DE ESTE CAMINO ES  0.03505828679831334\n"
          ],
          "name": "stdout"
        }
      ]
    },
    {
      "cell_type": "code",
      "metadata": {
        "colab": {
          "base_uri": "https://localhost:8080/"
        },
        "id": "VUbcGJNoEt2j",
        "outputId": "245a327c-07ae-4a0d-8817-c7332a0ee1fb"
      },
      "source": [
        "print(lstShort)"
      ],
      "execution_count": null,
      "outputs": [
        {
          "output_type": "stream",
          "text": [
            "[[4, 0, 1, 2, 3], [1, 2, 3, 4, 0]]\n"
          ],
          "name": "stdout"
        }
      ]
    },
    {
      "cell_type": "code",
      "metadata": {
        "id": "ZBo2omBdsfS4"
      },
      "source": [
        "#Creamos una lista donde se almacenen los arcos\n",
        "lstTupla=[]\n",
        "for i,value in enumerate(lstShort[0]):#<---primer camino\n",
        "  lstTupla.append((value,i))"
      ],
      "execution_count": null,
      "outputs": []
    },
    {
      "cell_type": "code",
      "metadata": {
        "colab": {
          "base_uri": "https://localhost:8080/"
        },
        "id": "sMVF2_iFxtNp",
        "outputId": "17f0adee-4c36-4ead-e1f3-98cac7711ed9"
      },
      "source": [
        "lstTupla"
      ],
      "execution_count": null,
      "outputs": [
        {
          "output_type": "execute_result",
          "data": {
            "text/plain": [
              "[(4, 0), (0, 1), (1, 2), (2, 3), (3, 4)]"
            ]
          },
          "metadata": {
            "tags": []
          },
          "execution_count": 71
        }
      ]
    },
    {
      "cell_type": "code",
      "metadata": {
        "id": "0dnT_ltgkUdu"
      },
      "source": [
        "#Buscador de nombres de la consulta realizada\n",
        "def nameNode(value):\n",
        "  for i,j in nameQ:\n",
        "    if value == i:\n",
        "      return j"
      ],
      "execution_count": null,
      "outputs": []
    },
    {
      "cell_type": "code",
      "metadata": {
        "id": "n9XcvvCtCuZZ"
      },
      "source": [
        "#Graficamos el punto más corto\n",
        "G_s = nx.DiGraph()\n",
        "for i,value in enumerate(lstShort[1]):\n",
        "  G_s.add_edge(nameNode(value) ,nameNode(i))"
      ],
      "execution_count": null,
      "outputs": []
    },
    {
      "cell_type": "code",
      "metadata": {
        "colab": {
          "base_uri": "https://localhost:8080/",
          "height": 89
        },
        "id": "PY8Lsj9sGs9v",
        "outputId": "dec87ec2-10b6-408e-f05c-deddd3ef51a6"
      },
      "source": [
        "print(\"LA RUTA MÁS CORTA QUE SE PUEDE REALIZAR\")\n",
        "nx2gv(G_s)"
      ],
      "execution_count": null,
      "outputs": [
        {
          "output_type": "stream",
          "text": [
            "LA RUTA MÁS CORTA QUE SE PUEDE REALIZAR\n"
          ],
          "name": "stdout"
        },
        {
          "output_type": "execute_result",
          "data": {
            "text/plain": [
              "<graphviz.dot.Digraph at 0x7fb5133a3610>"
            ],
            "image/svg+xml": "<?xml version=\"1.0\" encoding=\"UTF-8\" standalone=\"no\"?>\n<!DOCTYPE svg PUBLIC \"-//W3C//DTD SVG 1.1//EN\"\n \"http://www.w3.org/Graphics/SVG/1.1/DTD/svg11.dtd\">\n<!-- Generated by graphviz version 2.40.1 (20161225.0304)\n -->\n<!-- Title: G Pages: 1 -->\n<svg width=\"432pt\" height=\"38pt\"\n viewBox=\"0.00 0.00 432.00 37.62\" xmlns=\"http://www.w3.org/2000/svg\" xmlns:xlink=\"http://www.w3.org/1999/xlink\">\n<g id=\"graph0\" class=\"graph\" transform=\"scale(.5614 .5614) rotate(0) translate(4 63)\">\n<title>G</title>\n<polygon fill=\"#ffffff\" stroke=\"transparent\" points=\"-4,4 -4,-63 765.4452,-63 765.4452,4 -4,4\"/>\n<!-- MANCARRON -->\n<g id=\"node1\" class=\"node\">\n<title>MANCARRON</title>\n<ellipse fill=\"none\" stroke=\"#000000\" cx=\"72.1436\" cy=\"-18\" rx=\"72.2875\" ry=\"18\"/>\n<text text-anchor=\"middle\" x=\"72.1436\" y=\"-14.3\" font-family=\"Times,serif\" font-size=\"14.00\" fill=\"#000000\">MANCARRON</text>\n</g>\n<!-- LONYA GRANDE -->\n<g id=\"node2\" class=\"node\">\n<title>LONYA GRANDE</title>\n<ellipse fill=\"none\" stroke=\"#000000\" cx=\"264.7797\" cy=\"-41\" rx=\"84.485\" ry=\"18\"/>\n<text text-anchor=\"middle\" x=\"264.7797\" y=\"-37.3\" font-family=\"Times,serif\" font-size=\"14.00\" fill=\"#000000\">LONYA GRANDE</text>\n</g>\n<!-- MANCARRON&#45;&gt;LONYA GRANDE -->\n<g id=\"edge1\" class=\"edge\">\n<title>MANCARRON&#45;&gt;LONYA GRANDE</title>\n<path fill=\"none\" stroke=\"#000000\" d=\"M137.3614,-25.7868C151.3736,-27.4598 166.3696,-29.2502 180.9751,-30.9941\"/>\n<polygon fill=\"#000000\" stroke=\"#000000\" points=\"180.6629,-34.4816 191.0073,-32.1919 181.4928,-27.5309 180.6629,-34.4816\"/>\n</g>\n<!-- ARCURCO -->\n<g id=\"node5\" class=\"node\">\n<title>ARCURCO</title>\n<ellipse fill=\"none\" stroke=\"#000000\" cx=\"441.8172\" cy=\"-41\" rx=\"56.59\" ry=\"18\"/>\n<text text-anchor=\"middle\" x=\"441.8172\" y=\"-37.3\" font-family=\"Times,serif\" font-size=\"14.00\" fill=\"#000000\">ARCURCO</text>\n</g>\n<!-- LONYA GRANDE&#45;&gt;ARCURCO -->\n<g id=\"edge2\" class=\"edge\">\n<title>LONYA GRANDE&#45;&gt;ARCURCO</title>\n<path fill=\"none\" stroke=\"#000000\" d=\"M349.4096,-41C358.0051,-41 366.6496,-41 375.0181,-41\"/>\n<polygon fill=\"#000000\" stroke=\"#000000\" points=\"375.0671,-44.5001 385.0671,-41 375.0671,-37.5001 375.0671,-44.5001\"/>\n</g>\n<!-- BOLIVIA -->\n<g id=\"node3\" class=\"node\">\n<title>BOLIVIA</title>\n<ellipse fill=\"none\" stroke=\"#000000\" cx=\"712.0496\" cy=\"-18\" rx=\"49.2915\" ry=\"18\"/>\n<text text-anchor=\"middle\" x=\"712.0496\" y=\"-14.3\" font-family=\"Times,serif\" font-size=\"14.00\" fill=\"#000000\">BOLIVIA</text>\n</g>\n<!-- BOLIVIA&#45;&gt;MANCARRON -->\n<g id=\"edge3\" class=\"edge\">\n<title>BOLIVIA&#45;&gt;MANCARRON</title>\n<path fill=\"none\" stroke=\"#000000\" d=\"M662.8422,-15.3012C650.9954,-14.7603 638.3759,-14.2744 626.654,-14 428.3231,-9.3576 378.6385,-10.333 180.2872,-14 171.6206,-14.1602 162.5654,-14.3926 153.543,-14.666\"/>\n<polygon fill=\"#000000\" stroke=\"#000000\" points=\"153.276,-11.1726 143.393,-14.9903 153.4997,-18.169 153.276,-11.1726\"/>\n</g>\n<!-- MATULI -->\n<g id=\"node4\" class=\"node\">\n<title>MATULI</title>\n<ellipse fill=\"none\" stroke=\"#000000\" cx=\"580.5081\" cy=\"-41\" rx=\"46.2923\" ry=\"18\"/>\n<text text-anchor=\"middle\" x=\"580.5081\" y=\"-37.3\" font-family=\"Times,serif\" font-size=\"14.00\" fill=\"#000000\">MATULI</text>\n</g>\n<!-- MATULI&#45;&gt;BOLIVIA -->\n<g id=\"edge4\" class=\"edge\">\n<title>MATULI&#45;&gt;BOLIVIA</title>\n<path fill=\"none\" stroke=\"#000000\" d=\"M622.8527,-33.5961C633.7734,-31.6866 645.6854,-29.6038 657.1447,-27.6001\"/>\n<polygon fill=\"#000000\" stroke=\"#000000\" points=\"657.8145,-31.0362 667.0622,-25.866 656.6088,-24.1408 657.8145,-31.0362\"/>\n</g>\n<!-- ARCURCO&#45;&gt;MATULI -->\n<g id=\"edge5\" class=\"edge\">\n<title>ARCURCO&#45;&gt;MATULI</title>\n<path fill=\"none\" stroke=\"#000000\" d=\"M498.6282,-41C507.0312,-41 515.6882,-41 524.0833,-41\"/>\n<polygon fill=\"#000000\" stroke=\"#000000\" points=\"524.1588,-44.5001 534.1588,-41 524.1588,-37.5001 524.1588,-44.5001\"/>\n</g>\n</g>\n</svg>\n"
          },
          "metadata": {
            "tags": []
          },
          "execution_count": 74
        }
      ]
    },
    {
      "cell_type": "code",
      "metadata": {
        "colab": {
          "base_uri": "https://localhost:8080/",
          "height": 730
        },
        "id": "HE3DWWoesFVU",
        "outputId": "9e978b5b-bebe-4fcc-b571-74ac375f1ee7"
      },
      "source": [
        "plt.figure(figsize=(12,12))\n",
        "\n",
        "\n",
        "plt.title(\"RUTA MÁS CORTA\")#Le damos un titulo al grafico\n",
        "plt.xlabel(\"LATITUD\")\n",
        "plt.ylabel(\"LONGITUD\")\n",
        "\n",
        "plt.scatter(cord_x,cord_y, color='green',zorder=1)\n",
        "\n",
        "for i,j in lstTupla:\n",
        "  plt.plot([cord_x[i],cord_x[j]],[cord_y[i],cord_y[j]],color='green',zorder=1)\n",
        "\n",
        "\n",
        "plt.show()\n",
        "\n",
        "\n",
        "#Mostramos el indice de las ciudades\n"
      ],
      "execution_count": null,
      "outputs": [
        {
          "output_type": "display_data",
          "data": {
            "image/png": "[encoded data removed]",
            "text/plain": [
              "<Figure size 864x864 with 1 Axes>"
            ]
          },
          "metadata": {
            "tags": [],
            "needs_background": "light"
          }
        }
      ]
    },
    {
      "cell_type": "markdown",
      "metadata": {
        "id": "UW24exUxh8TN"
      },
      "source": [
        "#Apuntes BLOCK"
      ]
    },
    {
      "cell_type": "code",
      "metadata": {
        "id": "lqN0F6TxLTx8"
      },
      "source": [
        "#for i in range(len(df_Q2)):\n",
        "#  print(df_Q2[])"
      ],
      "execution_count": null,
      "outputs": []
    },
    {
      "cell_type": "code",
      "metadata": {
        "id": "00gkeDRgNgTa"
      },
      "source": [
        "#is_male = df.loc[3, 'LATITUD'] == -6.09637\n",
        "#is_male\n",
        "#h=df_2[df_2['DEPARTAMENTO'] == 'AMAZONAS']\n",
        "#h"
      ],
      "execution_count": null,
      "outputs": []
    },
    {
      "cell_type": "code",
      "metadata": {
        "id": "40rAOQEZg3am"
      },
      "source": [
        "lista=[-2.5,-40.5,-4.5]\n",
        "#Valor absoluto a la lista\n",
        "hola=[abs(float(x)) for x in lista ]"
      ],
      "execution_count": null,
      "outputs": []
    },
    {
      "cell_type": "code",
      "metadata": {
        "id": "sIaudRRJhe8-"
      },
      "source": [
        "hola"
      ],
      "execution_count": null,
      "outputs": []
    },
    {
      "cell_type": "code",
      "metadata": {
        "id": "z51Q-1H3gZzM"
      },
      "source": [
        "cord_y"
      ],
      "execution_count": null,
      "outputs": []
    },
    {
      "cell_type": "code",
      "metadata": {
        "id": "o50kxtA-Y9yG"
      },
      "source": [
        "df_2.dtypes"
      ],
      "execution_count": null,
      "outputs": []
    },
    {
      "cell_type": "code",
      "metadata": {
        "id": "7JrQ66vngOUp"
      },
      "source": [
        "type(Prueba)"
      ],
      "execution_count": null,
      "outputs": []
    },
    {
      "cell_type": "code",
      "metadata": {
        "id": "aBqX21NPgI-v"
      },
      "source": [
        "Prueba=[(i,j,np.hypot(cord_x[i]-cord_x[j],cord_y[i]-cord_y[j])) for i,j in arc]"
      ],
      "execution_count": null,
      "outputs": []
    },
    {
      "cell_type": "code",
      "metadata": {
        "id": "fwjVMdpEDOQ3"
      },
      "source": [
        "#Diccionario de datos\n",
        "DEucli={(i,j):np.hypot(cord_x[i]-cord_x[j],cord_y[i]-cord_y[j]) for i,j in arc}"
      ],
      "execution_count": null,
      "outputs": []
    },
    {
      "cell_type": "markdown",
      "metadata": {
        "id": "x9qGJFtQsjur"
      },
      "source": [
        "La idea es primero graficar en un plano cartesiano los puntos, luego al tenerlo, hacer la matriz de adyacencia para poder meterlo a la funcion USC del profesor previamente modificado para que nos retorne el menor viaje, luego que lo optenemos lo mostramos, y luego mostramos toda la lista de posibles viajes "
      ]
    }
  ]
}