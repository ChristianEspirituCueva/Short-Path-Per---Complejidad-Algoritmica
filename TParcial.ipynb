{
  "nbformat": 4,
  "nbformat_minor": 0,
  "metadata": {
    "colab": {
      "name": "TParcial.ipynb",
      "provenance": [],
      "collapsed_sections": [
        "S20uBveBEeq2",
        "UW24exUxh8TN"
      ],
      "authorship_tag": "ABX9TyPxtA6RLLqk6UBTlNQj5pkb",
      "include_colab_link": true
    },
    "kernelspec": {
      "name": "python3",
      "display_name": "Python 3"
    },
    "language_info": {
      "name": "python"
    }
  },
  "cells": [
    {
      "cell_type": "markdown",
      "metadata": {
        "id": "view-in-github",
        "colab_type": "text"
      },
      "source": [
        "<a href=\"https://colab.research.google.com/github/NightBright/TSP/blob/main/TParcial.ipynb\" target=\"_parent\"><img src=\"https://colab.research.google.com/assets/colab-badge.svg\" alt=\"Open In Colab\"/></a>"
      ]
    },
    {
      "cell_type": "code",
      "metadata": {
        "id": "xC0VvA9_sUo7"
      },
      "source": [
        "import pandas as pd\n",
        "import networkx as nx\n",
        "import heapq as hq\n",
        "import math\n",
        "import numpy as np\n",
        "import matplotlib.pyplot as plt"
      ],
      "execution_count": null,
      "outputs": []
    },
    {
      "cell_type": "code",
      "metadata": {
        "id": "JuNNQo3LstY6"
      },
      "source": [
        "df= pd.read_excel('https://raw.githubusercontent.com/NightBright/TSP/main/poblaci%C3%B3n_expuesta_a_inundaciones_-_inei_2017.xlsx')"
      ],
      "execution_count": 121,
      "outputs": []
    },
    {
      "cell_type": "code",
      "metadata": {
        "colab": {
          "base_uri": "https://localhost:8080/",
          "height": 517
        },
        "id": "Gj_xnGEbuvZ0",
        "outputId": "def40955-33c3-47e8-b777-a38961fec7f2"
      },
      "source": [
        "df"
      ],
      "execution_count": 122,
      "outputs": [
        {
          "output_type": "execute_result",
          "data": {
            "text/html": [
              "<div>\n",
              "<style scoped>\n",
              "    .dataframe tbody tr th:only-of-type {\n",
              "        vertical-align: middle;\n",
              "    }\n",
              "\n",
              "    .dataframe tbody tr th {\n",
              "        vertical-align: top;\n",
              "    }\n",
              "\n",
              "    .dataframe thead th {\n",
              "        text-align: right;\n",
              "    }\n",
              "</style>\n",
              "<table border=\"1\" class=\"dataframe\">\n",
              "  <thead>\n",
              "    <tr style=\"text-align: right;\">\n",
              "      <th></th>\n",
              "      <th>INSTITUTO NACIONAL DE DEFENSA CIVIL\\nDIRECCIÓN DE PREPARACIÓN\\nSubdirección de Sistematización de Información sobre Escenarios de Riesgos de Desastres SD - SIERD</th>\n",
              "      <th>Unnamed: 1</th>\n",
              "      <th>Unnamed: 2</th>\n",
              "      <th>Unnamed: 3</th>\n",
              "      <th>Unnamed: 4</th>\n",
              "      <th>Unnamed: 5</th>\n",
              "      <th>Unnamed: 6</th>\n",
              "      <th>Unnamed: 7</th>\n",
              "    </tr>\n",
              "  </thead>\n",
              "  <tbody>\n",
              "    <tr>\n",
              "      <th>0</th>\n",
              "      <td>POBLACIÓN EXPUESTA A PELIGRO MUY ALTO DE INUND...</td>\n",
              "      <td>NaN</td>\n",
              "      <td>NaN</td>\n",
              "      <td>NaN</td>\n",
              "      <td>NaN</td>\n",
              "      <td>NaN</td>\n",
              "      <td>NaN</td>\n",
              "      <td>NaN</td>\n",
              "    </tr>\n",
              "    <tr>\n",
              "      <th>1</th>\n",
              "      <td>DEPARTAMENTO</td>\n",
              "      <td>PROVINCIA</td>\n",
              "      <td>DISTRITO</td>\n",
              "      <td>CENTRO POBLADO</td>\n",
              "      <td>LATITUD</td>\n",
              "      <td>LONGITUD</td>\n",
              "      <td>VIVIENDAS</td>\n",
              "      <td>POBLACIÓN</td>\n",
              "    </tr>\n",
              "    <tr>\n",
              "      <th>2</th>\n",
              "      <td>AMAZONAS</td>\n",
              "      <td>BONGARA</td>\n",
              "      <td>JAZAN</td>\n",
              "      <td>PEDRO RUIZ GALLO</td>\n",
              "      <td>-5.94139</td>\n",
              "      <td>-77.9771</td>\n",
              "      <td>1365</td>\n",
              "      <td>5361</td>\n",
              "    </tr>\n",
              "    <tr>\n",
              "      <th>3</th>\n",
              "      <td>AMAZONAS</td>\n",
              "      <td>UTCUBAMBA</td>\n",
              "      <td>LONYA GRANDE</td>\n",
              "      <td>LONYA GRANDE</td>\n",
              "      <td>-6.09637</td>\n",
              "      <td>-78.4225</td>\n",
              "      <td>698</td>\n",
              "      <td>2896</td>\n",
              "    </tr>\n",
              "    <tr>\n",
              "      <th>4</th>\n",
              "      <td>AMAZONAS</td>\n",
              "      <td>BAGUA</td>\n",
              "      <td>ARAMANGO</td>\n",
              "      <td>EL MUYO (C.P.L.)</td>\n",
              "      <td>-5.42255</td>\n",
              "      <td>-78.453</td>\n",
              "      <td>311</td>\n",
              "      <td>1206</td>\n",
              "    </tr>\n",
              "    <tr>\n",
              "      <th>...</th>\n",
              "      <td>...</td>\n",
              "      <td>...</td>\n",
              "      <td>...</td>\n",
              "      <td>...</td>\n",
              "      <td>...</td>\n",
              "      <td>...</td>\n",
              "      <td>...</td>\n",
              "      <td>...</td>\n",
              "    </tr>\n",
              "    <tr>\n",
              "      <th>4004</th>\n",
              "      <td>UCAYALI</td>\n",
              "      <td>CORONEL PORTILLO</td>\n",
              "      <td>NUEVA REQUENA</td>\n",
              "      <td>NUEVO UNION DE JUANTIA TIPISHCA</td>\n",
              "      <td>-8.25023</td>\n",
              "      <td>-74.8314</td>\n",
              "      <td>2</td>\n",
              "      <td>2</td>\n",
              "    </tr>\n",
              "    <tr>\n",
              "      <th>4005</th>\n",
              "      <td>UCAYALI</td>\n",
              "      <td>CORONEL PORTILLO</td>\n",
              "      <td>CALLERIA</td>\n",
              "      <td>NUEVO SAN ANTONIO</td>\n",
              "      <td>-8.16975</td>\n",
              "      <td>-74.6099</td>\n",
              "      <td>1</td>\n",
              "      <td>1</td>\n",
              "    </tr>\n",
              "    <tr>\n",
              "      <th>4006</th>\n",
              "      <td>UCAYALI</td>\n",
              "      <td>CORONEL PORTILLO</td>\n",
              "      <td>CALLERIA</td>\n",
              "      <td>NUEVA FORTUNA</td>\n",
              "      <td>-8.48764</td>\n",
              "      <td>-74.3898</td>\n",
              "      <td>1</td>\n",
              "      <td>1</td>\n",
              "    </tr>\n",
              "    <tr>\n",
              "      <th>4007</th>\n",
              "      <td>UCAYALI</td>\n",
              "      <td>CORONEL PORTILLO</td>\n",
              "      <td>MASISEA</td>\n",
              "      <td>MONTE DE LOS OLIVOS</td>\n",
              "      <td>-8.55119</td>\n",
              "      <td>-74.3493</td>\n",
              "      <td>1</td>\n",
              "      <td>1</td>\n",
              "    </tr>\n",
              "    <tr>\n",
              "      <th>4008</th>\n",
              "      <td>UCAYALI</td>\n",
              "      <td>CORONEL PORTILLO</td>\n",
              "      <td>MANANTAY</td>\n",
              "      <td>NUEVO ORIENTE DE CHAMAJAO</td>\n",
              "      <td>-8.47671</td>\n",
              "      <td>-74.4886</td>\n",
              "      <td>0</td>\n",
              "      <td>0</td>\n",
              "    </tr>\n",
              "  </tbody>\n",
              "</table>\n",
              "<p>4009 rows × 8 columns</p>\n",
              "</div>"
            ],
            "text/plain": [
              "     INSTITUTO NACIONAL DE DEFENSA CIVIL\\nDIRECCIÓN DE PREPARACIÓN\\nSubdirección de Sistematización de Información sobre Escenarios de Riesgos de Desastres SD - SIERD  ... Unnamed: 7\n",
              "0     POBLACIÓN EXPUESTA A PELIGRO MUY ALTO DE INUND...                                                                                                                 ...        NaN\n",
              "1                                          DEPARTAMENTO                                                                                                                 ...  POBLACIÓN\n",
              "2                                              AMAZONAS                                                                                                                 ...       5361\n",
              "3                                              AMAZONAS                                                                                                                 ...       2896\n",
              "4                                              AMAZONAS                                                                                                                 ...       1206\n",
              "...                                                 ...                                                                                                                 ...        ...\n",
              "4004                                            UCAYALI                                                                                                                 ...          2\n",
              "4005                                            UCAYALI                                                                                                                 ...          1\n",
              "4006                                            UCAYALI                                                                                                                 ...          1\n",
              "4007                                            UCAYALI                                                                                                                 ...          1\n",
              "4008                                            UCAYALI                                                                                                                 ...          0\n",
              "\n",
              "[4009 rows x 8 columns]"
            ]
          },
          "metadata": {
            "tags": []
          },
          "execution_count": 122
        }
      ]
    },
    {
      "cell_type": "markdown",
      "metadata": {
        "id": "q7GbF8RbvAtQ"
      },
      "source": [
        "Normalizacion de datos"
      ]
    },
    {
      "cell_type": "code",
      "metadata": {
        "id": "qTjSm-wvK8z7"
      },
      "source": [
        "df_mask=df['INSTITUTO NACIONAL DE DEFENSA CIVIL\\nDIRECCIÓN DE PREPARACIÓN\\nSubdirección de Sistematización de Información sobre Escenarios de Riesgos de Desastres SD - SIERD']!='DEPARTAMENTO'\n",
        "df = df[df_mask]"
      ],
      "execution_count": 123,
      "outputs": []
    },
    {
      "cell_type": "code",
      "metadata": {
        "id": "tcKBCGSiNdUy"
      },
      "source": [
        "df_mask=df['INSTITUTO NACIONAL DE DEFENSA CIVIL\\nDIRECCIÓN DE PREPARACIÓN\\nSubdirección de Sistematización de Información sobre Escenarios de Riesgos de Desastres SD - SIERD']!='POBLACIÓN EXPUESTA A PELIGRO MUY ALTO DE INUNDACIÓN'\n",
        "df = df[df_mask]"
      ],
      "execution_count": 124,
      "outputs": []
    },
    {
      "cell_type": "code",
      "metadata": {
        "colab": {
          "base_uri": "https://localhost:8080/",
          "height": 517
        },
        "id": "PeF3lkM3vFmY",
        "outputId": "4d0b5ebc-f3f0-45f7-9496-e1d5146d408d"
      },
      "source": [
        "df"
      ],
      "execution_count": 125,
      "outputs": [
        {
          "output_type": "execute_result",
          "data": {
            "text/html": [
              "<div>\n",
              "<style scoped>\n",
              "    .dataframe tbody tr th:only-of-type {\n",
              "        vertical-align: middle;\n",
              "    }\n",
              "\n",
              "    .dataframe tbody tr th {\n",
              "        vertical-align: top;\n",
              "    }\n",
              "\n",
              "    .dataframe thead th {\n",
              "        text-align: right;\n",
              "    }\n",
              "</style>\n",
              "<table border=\"1\" class=\"dataframe\">\n",
              "  <thead>\n",
              "    <tr style=\"text-align: right;\">\n",
              "      <th></th>\n",
              "      <th>INSTITUTO NACIONAL DE DEFENSA CIVIL\\nDIRECCIÓN DE PREPARACIÓN\\nSubdirección de Sistematización de Información sobre Escenarios de Riesgos de Desastres SD - SIERD</th>\n",
              "      <th>Unnamed: 1</th>\n",
              "      <th>Unnamed: 2</th>\n",
              "      <th>Unnamed: 3</th>\n",
              "      <th>Unnamed: 4</th>\n",
              "      <th>Unnamed: 5</th>\n",
              "      <th>Unnamed: 6</th>\n",
              "      <th>Unnamed: 7</th>\n",
              "    </tr>\n",
              "  </thead>\n",
              "  <tbody>\n",
              "    <tr>\n",
              "      <th>2</th>\n",
              "      <td>AMAZONAS</td>\n",
              "      <td>BONGARA</td>\n",
              "      <td>JAZAN</td>\n",
              "      <td>PEDRO RUIZ GALLO</td>\n",
              "      <td>-5.94139</td>\n",
              "      <td>-77.9771</td>\n",
              "      <td>1365</td>\n",
              "      <td>5361</td>\n",
              "    </tr>\n",
              "    <tr>\n",
              "      <th>3</th>\n",
              "      <td>AMAZONAS</td>\n",
              "      <td>UTCUBAMBA</td>\n",
              "      <td>LONYA GRANDE</td>\n",
              "      <td>LONYA GRANDE</td>\n",
              "      <td>-6.09637</td>\n",
              "      <td>-78.4225</td>\n",
              "      <td>698</td>\n",
              "      <td>2896</td>\n",
              "    </tr>\n",
              "    <tr>\n",
              "      <th>4</th>\n",
              "      <td>AMAZONAS</td>\n",
              "      <td>BAGUA</td>\n",
              "      <td>ARAMANGO</td>\n",
              "      <td>EL MUYO (C.P.L.)</td>\n",
              "      <td>-5.42255</td>\n",
              "      <td>-78.453</td>\n",
              "      <td>311</td>\n",
              "      <td>1206</td>\n",
              "    </tr>\n",
              "    <tr>\n",
              "      <th>5</th>\n",
              "      <td>AMAZONAS</td>\n",
              "      <td>UTCUBAMBA</td>\n",
              "      <td>CAJARURO</td>\n",
              "      <td>NARANJITOS</td>\n",
              "      <td>-5.8149</td>\n",
              "      <td>-78.2774</td>\n",
              "      <td>177</td>\n",
              "      <td>577</td>\n",
              "    </tr>\n",
              "    <tr>\n",
              "      <th>6</th>\n",
              "      <td>AMAZONAS</td>\n",
              "      <td>UTCUBAMBA</td>\n",
              "      <td>CUMBA</td>\n",
              "      <td>TAGTAGO</td>\n",
              "      <td>-5.98102</td>\n",
              "      <td>-78.6302</td>\n",
              "      <td>202</td>\n",
              "      <td>562</td>\n",
              "    </tr>\n",
              "    <tr>\n",
              "      <th>...</th>\n",
              "      <td>...</td>\n",
              "      <td>...</td>\n",
              "      <td>...</td>\n",
              "      <td>...</td>\n",
              "      <td>...</td>\n",
              "      <td>...</td>\n",
              "      <td>...</td>\n",
              "      <td>...</td>\n",
              "    </tr>\n",
              "    <tr>\n",
              "      <th>4004</th>\n",
              "      <td>UCAYALI</td>\n",
              "      <td>CORONEL PORTILLO</td>\n",
              "      <td>NUEVA REQUENA</td>\n",
              "      <td>NUEVO UNION DE JUANTIA TIPISHCA</td>\n",
              "      <td>-8.25023</td>\n",
              "      <td>-74.8314</td>\n",
              "      <td>2</td>\n",
              "      <td>2</td>\n",
              "    </tr>\n",
              "    <tr>\n",
              "      <th>4005</th>\n",
              "      <td>UCAYALI</td>\n",
              "      <td>CORONEL PORTILLO</td>\n",
              "      <td>CALLERIA</td>\n",
              "      <td>NUEVO SAN ANTONIO</td>\n",
              "      <td>-8.16975</td>\n",
              "      <td>-74.6099</td>\n",
              "      <td>1</td>\n",
              "      <td>1</td>\n",
              "    </tr>\n",
              "    <tr>\n",
              "      <th>4006</th>\n",
              "      <td>UCAYALI</td>\n",
              "      <td>CORONEL PORTILLO</td>\n",
              "      <td>CALLERIA</td>\n",
              "      <td>NUEVA FORTUNA</td>\n",
              "      <td>-8.48764</td>\n",
              "      <td>-74.3898</td>\n",
              "      <td>1</td>\n",
              "      <td>1</td>\n",
              "    </tr>\n",
              "    <tr>\n",
              "      <th>4007</th>\n",
              "      <td>UCAYALI</td>\n",
              "      <td>CORONEL PORTILLO</td>\n",
              "      <td>MASISEA</td>\n",
              "      <td>MONTE DE LOS OLIVOS</td>\n",
              "      <td>-8.55119</td>\n",
              "      <td>-74.3493</td>\n",
              "      <td>1</td>\n",
              "      <td>1</td>\n",
              "    </tr>\n",
              "    <tr>\n",
              "      <th>4008</th>\n",
              "      <td>UCAYALI</td>\n",
              "      <td>CORONEL PORTILLO</td>\n",
              "      <td>MANANTAY</td>\n",
              "      <td>NUEVO ORIENTE DE CHAMAJAO</td>\n",
              "      <td>-8.47671</td>\n",
              "      <td>-74.4886</td>\n",
              "      <td>0</td>\n",
              "      <td>0</td>\n",
              "    </tr>\n",
              "  </tbody>\n",
              "</table>\n",
              "<p>3785 rows × 8 columns</p>\n",
              "</div>"
            ],
            "text/plain": [
              "     INSTITUTO NACIONAL DE DEFENSA CIVIL\\nDIRECCIÓN DE PREPARACIÓN\\nSubdirección de Sistematización de Información sobre Escenarios de Riesgos de Desastres SD - SIERD  ... Unnamed: 7\n",
              "2                                              AMAZONAS                                                                                                                 ...       5361\n",
              "3                                              AMAZONAS                                                                                                                 ...       2896\n",
              "4                                              AMAZONAS                                                                                                                 ...       1206\n",
              "5                                              AMAZONAS                                                                                                                 ...        577\n",
              "6                                              AMAZONAS                                                                                                                 ...        562\n",
              "...                                                 ...                                                                                                                 ...        ...\n",
              "4004                                            UCAYALI                                                                                                                 ...          2\n",
              "4005                                            UCAYALI                                                                                                                 ...          1\n",
              "4006                                            UCAYALI                                                                                                                 ...          1\n",
              "4007                                            UCAYALI                                                                                                                 ...          1\n",
              "4008                                            UCAYALI                                                                                                                 ...          0\n",
              "\n",
              "[3785 rows x 8 columns]"
            ]
          },
          "metadata": {
            "tags": []
          },
          "execution_count": 125
        }
      ]
    },
    {
      "cell_type": "code",
      "metadata": {
        "id": "vp7JxIu9kcyz"
      },
      "source": [
        "#Renombramos las columnas\n",
        "df.columns=['DEPARTAMENTO','PROVINCIA','DISTRITO','CENTRO POBLADO','LATITUD','LONGITUD','VIVIENDAS','POBLACIÓN']"
      ],
      "execution_count": 126,
      "outputs": []
    },
    {
      "cell_type": "code",
      "metadata": {
        "colab": {
          "base_uri": "https://localhost:8080/",
          "height": 399
        },
        "id": "3jlgGxOevaDn",
        "outputId": "7d5cb0ad-ba81-40d2-bd35-03fc80e41eef"
      },
      "source": [
        "df"
      ],
      "execution_count": 127,
      "outputs": [
        {
          "output_type": "execute_result",
          "data": {
            "text/html": [
              "<div>\n",
              "<style scoped>\n",
              "    .dataframe tbody tr th:only-of-type {\n",
              "        vertical-align: middle;\n",
              "    }\n",
              "\n",
              "    .dataframe tbody tr th {\n",
              "        vertical-align: top;\n",
              "    }\n",
              "\n",
              "    .dataframe thead th {\n",
              "        text-align: right;\n",
              "    }\n",
              "</style>\n",
              "<table border=\"1\" class=\"dataframe\">\n",
              "  <thead>\n",
              "    <tr style=\"text-align: right;\">\n",
              "      <th></th>\n",
              "      <th>DEPARTAMENTO</th>\n",
              "      <th>PROVINCIA</th>\n",
              "      <th>DISTRITO</th>\n",
              "      <th>CENTRO POBLADO</th>\n",
              "      <th>LATITUD</th>\n",
              "      <th>LONGITUD</th>\n",
              "      <th>VIVIENDAS</th>\n",
              "      <th>POBLACIÓN</th>\n",
              "    </tr>\n",
              "  </thead>\n",
              "  <tbody>\n",
              "    <tr>\n",
              "      <th>2</th>\n",
              "      <td>AMAZONAS</td>\n",
              "      <td>BONGARA</td>\n",
              "      <td>JAZAN</td>\n",
              "      <td>PEDRO RUIZ GALLO</td>\n",
              "      <td>-5.94139</td>\n",
              "      <td>-77.9771</td>\n",
              "      <td>1365</td>\n",
              "      <td>5361</td>\n",
              "    </tr>\n",
              "    <tr>\n",
              "      <th>3</th>\n",
              "      <td>AMAZONAS</td>\n",
              "      <td>UTCUBAMBA</td>\n",
              "      <td>LONYA GRANDE</td>\n",
              "      <td>LONYA GRANDE</td>\n",
              "      <td>-6.09637</td>\n",
              "      <td>-78.4225</td>\n",
              "      <td>698</td>\n",
              "      <td>2896</td>\n",
              "    </tr>\n",
              "    <tr>\n",
              "      <th>4</th>\n",
              "      <td>AMAZONAS</td>\n",
              "      <td>BAGUA</td>\n",
              "      <td>ARAMANGO</td>\n",
              "      <td>EL MUYO (C.P.L.)</td>\n",
              "      <td>-5.42255</td>\n",
              "      <td>-78.453</td>\n",
              "      <td>311</td>\n",
              "      <td>1206</td>\n",
              "    </tr>\n",
              "    <tr>\n",
              "      <th>5</th>\n",
              "      <td>AMAZONAS</td>\n",
              "      <td>UTCUBAMBA</td>\n",
              "      <td>CAJARURO</td>\n",
              "      <td>NARANJITOS</td>\n",
              "      <td>-5.8149</td>\n",
              "      <td>-78.2774</td>\n",
              "      <td>177</td>\n",
              "      <td>577</td>\n",
              "    </tr>\n",
              "    <tr>\n",
              "      <th>6</th>\n",
              "      <td>AMAZONAS</td>\n",
              "      <td>UTCUBAMBA</td>\n",
              "      <td>CUMBA</td>\n",
              "      <td>TAGTAGO</td>\n",
              "      <td>-5.98102</td>\n",
              "      <td>-78.6302</td>\n",
              "      <td>202</td>\n",
              "      <td>562</td>\n",
              "    </tr>\n",
              "    <tr>\n",
              "      <th>...</th>\n",
              "      <td>...</td>\n",
              "      <td>...</td>\n",
              "      <td>...</td>\n",
              "      <td>...</td>\n",
              "      <td>...</td>\n",
              "      <td>...</td>\n",
              "      <td>...</td>\n",
              "      <td>...</td>\n",
              "    </tr>\n",
              "    <tr>\n",
              "      <th>4004</th>\n",
              "      <td>UCAYALI</td>\n",
              "      <td>CORONEL PORTILLO</td>\n",
              "      <td>NUEVA REQUENA</td>\n",
              "      <td>NUEVO UNION DE JUANTIA TIPISHCA</td>\n",
              "      <td>-8.25023</td>\n",
              "      <td>-74.8314</td>\n",
              "      <td>2</td>\n",
              "      <td>2</td>\n",
              "    </tr>\n",
              "    <tr>\n",
              "      <th>4005</th>\n",
              "      <td>UCAYALI</td>\n",
              "      <td>CORONEL PORTILLO</td>\n",
              "      <td>CALLERIA</td>\n",
              "      <td>NUEVO SAN ANTONIO</td>\n",
              "      <td>-8.16975</td>\n",
              "      <td>-74.6099</td>\n",
              "      <td>1</td>\n",
              "      <td>1</td>\n",
              "    </tr>\n",
              "    <tr>\n",
              "      <th>4006</th>\n",
              "      <td>UCAYALI</td>\n",
              "      <td>CORONEL PORTILLO</td>\n",
              "      <td>CALLERIA</td>\n",
              "      <td>NUEVA FORTUNA</td>\n",
              "      <td>-8.48764</td>\n",
              "      <td>-74.3898</td>\n",
              "      <td>1</td>\n",
              "      <td>1</td>\n",
              "    </tr>\n",
              "    <tr>\n",
              "      <th>4007</th>\n",
              "      <td>UCAYALI</td>\n",
              "      <td>CORONEL PORTILLO</td>\n",
              "      <td>MASISEA</td>\n",
              "      <td>MONTE DE LOS OLIVOS</td>\n",
              "      <td>-8.55119</td>\n",
              "      <td>-74.3493</td>\n",
              "      <td>1</td>\n",
              "      <td>1</td>\n",
              "    </tr>\n",
              "    <tr>\n",
              "      <th>4008</th>\n",
              "      <td>UCAYALI</td>\n",
              "      <td>CORONEL PORTILLO</td>\n",
              "      <td>MANANTAY</td>\n",
              "      <td>NUEVO ORIENTE DE CHAMAJAO</td>\n",
              "      <td>-8.47671</td>\n",
              "      <td>-74.4886</td>\n",
              "      <td>0</td>\n",
              "      <td>0</td>\n",
              "    </tr>\n",
              "  </tbody>\n",
              "</table>\n",
              "<p>3785 rows × 8 columns</p>\n",
              "</div>"
            ],
            "text/plain": [
              "     DEPARTAMENTO         PROVINCIA       DISTRITO  ... LONGITUD VIVIENDAS POBLACIÓN\n",
              "2        AMAZONAS           BONGARA          JAZAN  ... -77.9771      1365      5361\n",
              "3        AMAZONAS         UTCUBAMBA   LONYA GRANDE  ... -78.4225       698      2896\n",
              "4        AMAZONAS             BAGUA       ARAMANGO  ...  -78.453       311      1206\n",
              "5        AMAZONAS         UTCUBAMBA       CAJARURO  ... -78.2774       177       577\n",
              "6        AMAZONAS         UTCUBAMBA          CUMBA  ... -78.6302       202       562\n",
              "...           ...               ...            ...  ...      ...       ...       ...\n",
              "4004      UCAYALI  CORONEL PORTILLO  NUEVA REQUENA  ... -74.8314         2         2\n",
              "4005      UCAYALI  CORONEL PORTILLO       CALLERIA  ... -74.6099         1         1\n",
              "4006      UCAYALI  CORONEL PORTILLO       CALLERIA  ... -74.3898         1         1\n",
              "4007      UCAYALI  CORONEL PORTILLO        MASISEA  ... -74.3493         1         1\n",
              "4008      UCAYALI  CORONEL PORTILLO       MANANTAY  ... -74.4886         0         0\n",
              "\n",
              "[3785 rows x 8 columns]"
            ]
          },
          "metadata": {
            "tags": []
          },
          "execution_count": 127
        }
      ]
    },
    {
      "cell_type": "code",
      "metadata": {
        "id": "dCKENDSngDMn"
      },
      "source": [
        "#Reindexamos\n",
        "df=df.reset_index()"
      ],
      "execution_count": 128,
      "outputs": []
    },
    {
      "cell_type": "code",
      "metadata": {
        "id": "c-b9S8Hkg6so"
      },
      "source": [
        "#Borramos la columna index que ha sido generada\n",
        "df.drop('index', inplace=True, axis=1)"
      ],
      "execution_count": 129,
      "outputs": []
    },
    {
      "cell_type": "code",
      "metadata": {
        "colab": {
          "base_uri": "https://localhost:8080/",
          "height": 399
        },
        "id": "nEC4pOPalFRR",
        "outputId": "71b38c25-c71f-4d9b-fd2a-5f9cc79e872f"
      },
      "source": [
        "df"
      ],
      "execution_count": 130,
      "outputs": [
        {
          "output_type": "execute_result",
          "data": {
            "text/html": [
              "<div>\n",
              "<style scoped>\n",
              "    .dataframe tbody tr th:only-of-type {\n",
              "        vertical-align: middle;\n",
              "    }\n",
              "\n",
              "    .dataframe tbody tr th {\n",
              "        vertical-align: top;\n",
              "    }\n",
              "\n",
              "    .dataframe thead th {\n",
              "        text-align: right;\n",
              "    }\n",
              "</style>\n",
              "<table border=\"1\" class=\"dataframe\">\n",
              "  <thead>\n",
              "    <tr style=\"text-align: right;\">\n",
              "      <th></th>\n",
              "      <th>DEPARTAMENTO</th>\n",
              "      <th>PROVINCIA</th>\n",
              "      <th>DISTRITO</th>\n",
              "      <th>CENTRO POBLADO</th>\n",
              "      <th>LATITUD</th>\n",
              "      <th>LONGITUD</th>\n",
              "      <th>VIVIENDAS</th>\n",
              "      <th>POBLACIÓN</th>\n",
              "    </tr>\n",
              "  </thead>\n",
              "  <tbody>\n",
              "    <tr>\n",
              "      <th>0</th>\n",
              "      <td>AMAZONAS</td>\n",
              "      <td>BONGARA</td>\n",
              "      <td>JAZAN</td>\n",
              "      <td>PEDRO RUIZ GALLO</td>\n",
              "      <td>-5.94139</td>\n",
              "      <td>-77.9771</td>\n",
              "      <td>1365</td>\n",
              "      <td>5361</td>\n",
              "    </tr>\n",
              "    <tr>\n",
              "      <th>1</th>\n",
              "      <td>AMAZONAS</td>\n",
              "      <td>UTCUBAMBA</td>\n",
              "      <td>LONYA GRANDE</td>\n",
              "      <td>LONYA GRANDE</td>\n",
              "      <td>-6.09637</td>\n",
              "      <td>-78.4225</td>\n",
              "      <td>698</td>\n",
              "      <td>2896</td>\n",
              "    </tr>\n",
              "    <tr>\n",
              "      <th>2</th>\n",
              "      <td>AMAZONAS</td>\n",
              "      <td>BAGUA</td>\n",
              "      <td>ARAMANGO</td>\n",
              "      <td>EL MUYO (C.P.L.)</td>\n",
              "      <td>-5.42255</td>\n",
              "      <td>-78.453</td>\n",
              "      <td>311</td>\n",
              "      <td>1206</td>\n",
              "    </tr>\n",
              "    <tr>\n",
              "      <th>3</th>\n",
              "      <td>AMAZONAS</td>\n",
              "      <td>UTCUBAMBA</td>\n",
              "      <td>CAJARURO</td>\n",
              "      <td>NARANJITOS</td>\n",
              "      <td>-5.8149</td>\n",
              "      <td>-78.2774</td>\n",
              "      <td>177</td>\n",
              "      <td>577</td>\n",
              "    </tr>\n",
              "    <tr>\n",
              "      <th>4</th>\n",
              "      <td>AMAZONAS</td>\n",
              "      <td>UTCUBAMBA</td>\n",
              "      <td>CUMBA</td>\n",
              "      <td>TAGTAGO</td>\n",
              "      <td>-5.98102</td>\n",
              "      <td>-78.6302</td>\n",
              "      <td>202</td>\n",
              "      <td>562</td>\n",
              "    </tr>\n",
              "    <tr>\n",
              "      <th>...</th>\n",
              "      <td>...</td>\n",
              "      <td>...</td>\n",
              "      <td>...</td>\n",
              "      <td>...</td>\n",
              "      <td>...</td>\n",
              "      <td>...</td>\n",
              "      <td>...</td>\n",
              "      <td>...</td>\n",
              "    </tr>\n",
              "    <tr>\n",
              "      <th>3780</th>\n",
              "      <td>UCAYALI</td>\n",
              "      <td>CORONEL PORTILLO</td>\n",
              "      <td>NUEVA REQUENA</td>\n",
              "      <td>NUEVO UNION DE JUANTIA TIPISHCA</td>\n",
              "      <td>-8.25023</td>\n",
              "      <td>-74.8314</td>\n",
              "      <td>2</td>\n",
              "      <td>2</td>\n",
              "    </tr>\n",
              "    <tr>\n",
              "      <th>3781</th>\n",
              "      <td>UCAYALI</td>\n",
              "      <td>CORONEL PORTILLO</td>\n",
              "      <td>CALLERIA</td>\n",
              "      <td>NUEVO SAN ANTONIO</td>\n",
              "      <td>-8.16975</td>\n",
              "      <td>-74.6099</td>\n",
              "      <td>1</td>\n",
              "      <td>1</td>\n",
              "    </tr>\n",
              "    <tr>\n",
              "      <th>3782</th>\n",
              "      <td>UCAYALI</td>\n",
              "      <td>CORONEL PORTILLO</td>\n",
              "      <td>CALLERIA</td>\n",
              "      <td>NUEVA FORTUNA</td>\n",
              "      <td>-8.48764</td>\n",
              "      <td>-74.3898</td>\n",
              "      <td>1</td>\n",
              "      <td>1</td>\n",
              "    </tr>\n",
              "    <tr>\n",
              "      <th>3783</th>\n",
              "      <td>UCAYALI</td>\n",
              "      <td>CORONEL PORTILLO</td>\n",
              "      <td>MASISEA</td>\n",
              "      <td>MONTE DE LOS OLIVOS</td>\n",
              "      <td>-8.55119</td>\n",
              "      <td>-74.3493</td>\n",
              "      <td>1</td>\n",
              "      <td>1</td>\n",
              "    </tr>\n",
              "    <tr>\n",
              "      <th>3784</th>\n",
              "      <td>UCAYALI</td>\n",
              "      <td>CORONEL PORTILLO</td>\n",
              "      <td>MANANTAY</td>\n",
              "      <td>NUEVO ORIENTE DE CHAMAJAO</td>\n",
              "      <td>-8.47671</td>\n",
              "      <td>-74.4886</td>\n",
              "      <td>0</td>\n",
              "      <td>0</td>\n",
              "    </tr>\n",
              "  </tbody>\n",
              "</table>\n",
              "<p>3785 rows × 8 columns</p>\n",
              "</div>"
            ],
            "text/plain": [
              "     DEPARTAMENTO         PROVINCIA       DISTRITO  ... LONGITUD VIVIENDAS POBLACIÓN\n",
              "0        AMAZONAS           BONGARA          JAZAN  ... -77.9771      1365      5361\n",
              "1        AMAZONAS         UTCUBAMBA   LONYA GRANDE  ... -78.4225       698      2896\n",
              "2        AMAZONAS             BAGUA       ARAMANGO  ...  -78.453       311      1206\n",
              "3        AMAZONAS         UTCUBAMBA       CAJARURO  ... -78.2774       177       577\n",
              "4        AMAZONAS         UTCUBAMBA          CUMBA  ... -78.6302       202       562\n",
              "...           ...               ...            ...  ...      ...       ...       ...\n",
              "3780      UCAYALI  CORONEL PORTILLO  NUEVA REQUENA  ... -74.8314         2         2\n",
              "3781      UCAYALI  CORONEL PORTILLO       CALLERIA  ... -74.6099         1         1\n",
              "3782      UCAYALI  CORONEL PORTILLO       CALLERIA  ... -74.3898         1         1\n",
              "3783      UCAYALI  CORONEL PORTILLO        MASISEA  ... -74.3493         1         1\n",
              "3784      UCAYALI  CORONEL PORTILLO       MANANTAY  ... -74.4886         0         0\n",
              "\n",
              "[3785 rows x 8 columns]"
            ]
          },
          "metadata": {
            "tags": []
          },
          "execution_count": 130
        }
      ]
    },
    {
      "cell_type": "code",
      "metadata": {
        "id": "-uYjSHbzyKoa",
        "colab": {
          "base_uri": "https://localhost:8080/",
          "height": 399
        },
        "outputId": "01d42dd0-e893-4172-b206-3ee174782082"
      },
      "source": [
        "df"
      ],
      "execution_count": 131,
      "outputs": [
        {
          "output_type": "execute_result",
          "data": {
            "text/html": [
              "<div>\n",
              "<style scoped>\n",
              "    .dataframe tbody tr th:only-of-type {\n",
              "        vertical-align: middle;\n",
              "    }\n",
              "\n",
              "    .dataframe tbody tr th {\n",
              "        vertical-align: top;\n",
              "    }\n",
              "\n",
              "    .dataframe thead th {\n",
              "        text-align: right;\n",
              "    }\n",
              "</style>\n",
              "<table border=\"1\" class=\"dataframe\">\n",
              "  <thead>\n",
              "    <tr style=\"text-align: right;\">\n",
              "      <th></th>\n",
              "      <th>DEPARTAMENTO</th>\n",
              "      <th>PROVINCIA</th>\n",
              "      <th>DISTRITO</th>\n",
              "      <th>CENTRO POBLADO</th>\n",
              "      <th>LATITUD</th>\n",
              "      <th>LONGITUD</th>\n",
              "      <th>VIVIENDAS</th>\n",
              "      <th>POBLACIÓN</th>\n",
              "    </tr>\n",
              "  </thead>\n",
              "  <tbody>\n",
              "    <tr>\n",
              "      <th>0</th>\n",
              "      <td>AMAZONAS</td>\n",
              "      <td>BONGARA</td>\n",
              "      <td>JAZAN</td>\n",
              "      <td>PEDRO RUIZ GALLO</td>\n",
              "      <td>-5.94139</td>\n",
              "      <td>-77.9771</td>\n",
              "      <td>1365</td>\n",
              "      <td>5361</td>\n",
              "    </tr>\n",
              "    <tr>\n",
              "      <th>1</th>\n",
              "      <td>AMAZONAS</td>\n",
              "      <td>UTCUBAMBA</td>\n",
              "      <td>LONYA GRANDE</td>\n",
              "      <td>LONYA GRANDE</td>\n",
              "      <td>-6.09637</td>\n",
              "      <td>-78.4225</td>\n",
              "      <td>698</td>\n",
              "      <td>2896</td>\n",
              "    </tr>\n",
              "    <tr>\n",
              "      <th>2</th>\n",
              "      <td>AMAZONAS</td>\n",
              "      <td>BAGUA</td>\n",
              "      <td>ARAMANGO</td>\n",
              "      <td>EL MUYO (C.P.L.)</td>\n",
              "      <td>-5.42255</td>\n",
              "      <td>-78.453</td>\n",
              "      <td>311</td>\n",
              "      <td>1206</td>\n",
              "    </tr>\n",
              "    <tr>\n",
              "      <th>3</th>\n",
              "      <td>AMAZONAS</td>\n",
              "      <td>UTCUBAMBA</td>\n",
              "      <td>CAJARURO</td>\n",
              "      <td>NARANJITOS</td>\n",
              "      <td>-5.8149</td>\n",
              "      <td>-78.2774</td>\n",
              "      <td>177</td>\n",
              "      <td>577</td>\n",
              "    </tr>\n",
              "    <tr>\n",
              "      <th>4</th>\n",
              "      <td>AMAZONAS</td>\n",
              "      <td>UTCUBAMBA</td>\n",
              "      <td>CUMBA</td>\n",
              "      <td>TAGTAGO</td>\n",
              "      <td>-5.98102</td>\n",
              "      <td>-78.6302</td>\n",
              "      <td>202</td>\n",
              "      <td>562</td>\n",
              "    </tr>\n",
              "    <tr>\n",
              "      <th>...</th>\n",
              "      <td>...</td>\n",
              "      <td>...</td>\n",
              "      <td>...</td>\n",
              "      <td>...</td>\n",
              "      <td>...</td>\n",
              "      <td>...</td>\n",
              "      <td>...</td>\n",
              "      <td>...</td>\n",
              "    </tr>\n",
              "    <tr>\n",
              "      <th>3780</th>\n",
              "      <td>UCAYALI</td>\n",
              "      <td>CORONEL PORTILLO</td>\n",
              "      <td>NUEVA REQUENA</td>\n",
              "      <td>NUEVO UNION DE JUANTIA TIPISHCA</td>\n",
              "      <td>-8.25023</td>\n",
              "      <td>-74.8314</td>\n",
              "      <td>2</td>\n",
              "      <td>2</td>\n",
              "    </tr>\n",
              "    <tr>\n",
              "      <th>3781</th>\n",
              "      <td>UCAYALI</td>\n",
              "      <td>CORONEL PORTILLO</td>\n",
              "      <td>CALLERIA</td>\n",
              "      <td>NUEVO SAN ANTONIO</td>\n",
              "      <td>-8.16975</td>\n",
              "      <td>-74.6099</td>\n",
              "      <td>1</td>\n",
              "      <td>1</td>\n",
              "    </tr>\n",
              "    <tr>\n",
              "      <th>3782</th>\n",
              "      <td>UCAYALI</td>\n",
              "      <td>CORONEL PORTILLO</td>\n",
              "      <td>CALLERIA</td>\n",
              "      <td>NUEVA FORTUNA</td>\n",
              "      <td>-8.48764</td>\n",
              "      <td>-74.3898</td>\n",
              "      <td>1</td>\n",
              "      <td>1</td>\n",
              "    </tr>\n",
              "    <tr>\n",
              "      <th>3783</th>\n",
              "      <td>UCAYALI</td>\n",
              "      <td>CORONEL PORTILLO</td>\n",
              "      <td>MASISEA</td>\n",
              "      <td>MONTE DE LOS OLIVOS</td>\n",
              "      <td>-8.55119</td>\n",
              "      <td>-74.3493</td>\n",
              "      <td>1</td>\n",
              "      <td>1</td>\n",
              "    </tr>\n",
              "    <tr>\n",
              "      <th>3784</th>\n",
              "      <td>UCAYALI</td>\n",
              "      <td>CORONEL PORTILLO</td>\n",
              "      <td>MANANTAY</td>\n",
              "      <td>NUEVO ORIENTE DE CHAMAJAO</td>\n",
              "      <td>-8.47671</td>\n",
              "      <td>-74.4886</td>\n",
              "      <td>0</td>\n",
              "      <td>0</td>\n",
              "    </tr>\n",
              "  </tbody>\n",
              "</table>\n",
              "<p>3785 rows × 8 columns</p>\n",
              "</div>"
            ],
            "text/plain": [
              "     DEPARTAMENTO         PROVINCIA       DISTRITO  ... LONGITUD VIVIENDAS POBLACIÓN\n",
              "0        AMAZONAS           BONGARA          JAZAN  ... -77.9771      1365      5361\n",
              "1        AMAZONAS         UTCUBAMBA   LONYA GRANDE  ... -78.4225       698      2896\n",
              "2        AMAZONAS             BAGUA       ARAMANGO  ...  -78.453       311      1206\n",
              "3        AMAZONAS         UTCUBAMBA       CAJARURO  ... -78.2774       177       577\n",
              "4        AMAZONAS         UTCUBAMBA          CUMBA  ... -78.6302       202       562\n",
              "...           ...               ...            ...  ...      ...       ...       ...\n",
              "3780      UCAYALI  CORONEL PORTILLO  NUEVA REQUENA  ... -74.8314         2         2\n",
              "3781      UCAYALI  CORONEL PORTILLO       CALLERIA  ... -74.6099         1         1\n",
              "3782      UCAYALI  CORONEL PORTILLO       CALLERIA  ... -74.3898         1         1\n",
              "3783      UCAYALI  CORONEL PORTILLO        MASISEA  ... -74.3493         1         1\n",
              "3784      UCAYALI  CORONEL PORTILLO       MANANTAY  ... -74.4886         0         0\n",
              "\n",
              "[3785 rows x 8 columns]"
            ]
          },
          "metadata": {
            "tags": []
          },
          "execution_count": 131
        }
      ]
    },
    {
      "cell_type": "markdown",
      "metadata": {
        "id": "OPikhzEkmIHS"
      },
      "source": [
        "Comienzo de Busqueda"
      ]
    },
    {
      "cell_type": "code",
      "metadata": {
        "colab": {
          "base_uri": "https://localhost:8080/"
        },
        "id": "zsVTAUUD751s",
        "outputId": "c61a5939-de26-4e6d-e3a2-b83c56e48c0d"
      },
      "source": [
        "print(\"Escoja un Departamento donde comenzará su ruta de viaje\")\n",
        "dep=input()\n",
        "df_Q3 = df['DEPARTAMENTO']==dep\n",
        "df_Q3 = df[df_Q3]\n",
        "print(\"En cual de las siguientes provincias comenzará su ruta de viaje\")\n",
        "print(df_Q3['PROVINCIA'])\n",
        "pro=input()\n",
        "df_Q3 = df['PROVINCIA']==pro\n",
        "df_Q3 = df[df_Q3]\n",
        "###\n",
        "print(\"¿Desea recorrer todos los distritos de la provincia escogida?\")\n",
        "print(df_Q3['DISTRITO'])\n",
        "pre=input()\n",
        "if pre=='si':\n",
        "  df_Q3\n",
        "else:\n",
        "  print(\"¿Deseas recorrer algunos distritos de la provincia escogida?\")\n",
        "  pre1=input()\n",
        "  if pre1=='si':\n",
        "    print(df_Q3['DISTRITO'])\n",
        "    print(\"¿Cuantos distritos quiere visitar?\")\n",
        "    nun1=input()\n",
        "    print(\"¿Cuales son los distritos que quiere visitar?-Escriba los nombres\")\n",
        "    print(df_Q3['DISTRITO'])\n",
        "    dis1=[input() for _ in range(int(nun1))]\n",
        "    df_Q3=df_Q3[(df_Q3['DISTRITO'].isin(dis1))]\n",
        "    df_Q3  \n",
        "  else:\n",
        "    ###\n",
        "    print(\"En cual de los siguientes distritos comenzará su ruta de viaje\")\n",
        "    print(df_Q3['DISTRITO'])\n",
        "    dis=input()\n",
        "    df_Q3 = df['DISTRITO']==dis\n",
        "    df_Q3 = df[df_Q3]\n",
        "    print(\"¿Desea recorrer todos los centros poblados de esta provincia?\")\n",
        "    asw=input()\n",
        "    if asw == 'si':\n",
        "      print(\"Estos son los centros poblados a donde va a recorrer\")\n",
        "      print(df_Q3)\n",
        "    else:\n",
        "      print(\"¿Cuantos centros poblados que quiere visitar?\")\n",
        "      nun=input()\n",
        "      print(\"¿Cuales son los poblados que quiere visitar?-Escriba los nombres\")\n",
        "      print(f_Q3['CENTRO POBLADO'])\n",
        "      pob=[input() for _ in range(int(nun))]\n",
        "      df_Q3=df_Q3[(df_Q3['CENTRO POBLADO'].isin(pob))]\n",
        "      df_Q3  \n"
      ],
      "execution_count": 83,
      "outputs": [
        {
          "output_type": "stream",
          "text": [
            "Escoja un Departamento donde comenzará su ruta de viaje\n",
            "AMAZONAS\n",
            "En cual de las siguientes provincias comenzará su ruta de viaje\n",
            "0         BONGARA\n",
            "1       UTCUBAMBA\n",
            "2           BAGUA\n",
            "3       UTCUBAMBA\n",
            "4       UTCUBAMBA\n",
            "5       UTCUBAMBA\n",
            "6           BAGUA\n",
            "7           BAGUA\n",
            "8         BONGARA\n",
            "9       UTCUBAMBA\n",
            "10        BONGARA\n",
            "11          BAGUA\n",
            "12        BONGARA\n",
            "13        BONGARA\n",
            "14      UTCUBAMBA\n",
            "15        BONGARA\n",
            "16    CHACHAPOYAS\n",
            "17        BONGARA\n",
            "18      UTCUBAMBA\n",
            "19      UTCUBAMBA\n",
            "20      UTCUBAMBA\n",
            "21      UTCUBAMBA\n",
            "22      UTCUBAMBA\n",
            "23        BONGARA\n",
            "24      UTCUBAMBA\n",
            "Name: PROVINCIA, dtype: object\n",
            "UTCUBAMBA\n",
            "¿Desea recorrer todos los distritos de la provincia escogida?\n",
            "1     LONYA GRANDE\n",
            "3         CAJARURO\n",
            "4            CUMBA\n",
            "5          JAMALCA\n",
            "9       EL MILAGRO\n",
            "14           CUMBA\n",
            "18           CUMBA\n",
            "19    LONYA GRANDE\n",
            "20    LONYA GRANDE\n",
            "21           CUMBA\n",
            "22    LONYA GRANDE\n",
            "24    LONYA GRANDE\n",
            "Name: DISTRITO, dtype: object\n",
            "no\n",
            "¿Deseas recorrer algunos distritos de la provincia escogida?\n",
            "si\n",
            "1     LONYA GRANDE\n",
            "3         CAJARURO\n",
            "4            CUMBA\n",
            "5          JAMALCA\n",
            "9       EL MILAGRO\n",
            "14           CUMBA\n",
            "18           CUMBA\n",
            "19    LONYA GRANDE\n",
            "20    LONYA GRANDE\n",
            "21           CUMBA\n",
            "22    LONYA GRANDE\n",
            "24    LONYA GRANDE\n",
            "Name: DISTRITO, dtype: object\n",
            "¿Cuantos distritos quiere visitar?\n",
            "3\n",
            "¿Cuales son los distritos que quiere visitar?-Escriba los nombres\n",
            "1     LONYA GRANDE\n",
            "3         CAJARURO\n",
            "4            CUMBA\n",
            "5          JAMALCA\n",
            "9       EL MILAGRO\n",
            "14           CUMBA\n",
            "18           CUMBA\n",
            "19    LONYA GRANDE\n",
            "20    LONYA GRANDE\n",
            "21           CUMBA\n",
            "22    LONYA GRANDE\n",
            "24    LONYA GRANDE\n",
            "Name: DISTRITO, dtype: object\n",
            "LONYA GRANDE\n",
            "JAMALCA\n",
            "CAJARURO\n"
          ],
          "name": "stdout"
        }
      ]
    },
    {
      "cell_type": "markdown",
      "metadata": {
        "id": "Q8Uv2q9fLH7M"
      },
      "source": [
        "Sacamos la latitud y la longitud de cada dato"
      ]
    },
    {
      "cell_type": "code",
      "metadata": {
        "id": "djYrWwBFLCOu",
        "colab": {
          "base_uri": "https://localhost:8080/",
          "height": 252
        },
        "outputId": "14ee445f-c713-4106-8e90-060dcc6a5b8e"
      },
      "source": [
        "df_Q3"
      ],
      "execution_count": 85,
      "outputs": [
        {
          "output_type": "execute_result",
          "data": {
            "text/html": [
              "<div>\n",
              "<style scoped>\n",
              "    .dataframe tbody tr th:only-of-type {\n",
              "        vertical-align: middle;\n",
              "    }\n",
              "\n",
              "    .dataframe tbody tr th {\n",
              "        vertical-align: top;\n",
              "    }\n",
              "\n",
              "    .dataframe thead th {\n",
              "        text-align: right;\n",
              "    }\n",
              "</style>\n",
              "<table border=\"1\" class=\"dataframe\">\n",
              "  <thead>\n",
              "    <tr style=\"text-align: right;\">\n",
              "      <th></th>\n",
              "      <th>DEPARTAMENTO</th>\n",
              "      <th>PROVINCIA</th>\n",
              "      <th>DISTRITO</th>\n",
              "      <th>CENTRO POBLADO</th>\n",
              "      <th>LATITUD</th>\n",
              "      <th>LONGITUD</th>\n",
              "      <th>VIVIENDAS</th>\n",
              "      <th>POBLACIÓN</th>\n",
              "    </tr>\n",
              "  </thead>\n",
              "  <tbody>\n",
              "    <tr>\n",
              "      <th>1</th>\n",
              "      <td>AMAZONAS</td>\n",
              "      <td>UTCUBAMBA</td>\n",
              "      <td>LONYA GRANDE</td>\n",
              "      <td>LONYA GRANDE</td>\n",
              "      <td>-6.09637</td>\n",
              "      <td>-78.4225</td>\n",
              "      <td>698</td>\n",
              "      <td>2896</td>\n",
              "    </tr>\n",
              "    <tr>\n",
              "      <th>3</th>\n",
              "      <td>AMAZONAS</td>\n",
              "      <td>UTCUBAMBA</td>\n",
              "      <td>CAJARURO</td>\n",
              "      <td>NARANJITOS</td>\n",
              "      <td>-5.8149</td>\n",
              "      <td>-78.2774</td>\n",
              "      <td>177</td>\n",
              "      <td>577</td>\n",
              "    </tr>\n",
              "    <tr>\n",
              "      <th>5</th>\n",
              "      <td>AMAZONAS</td>\n",
              "      <td>UTCUBAMBA</td>\n",
              "      <td>JAMALCA</td>\n",
              "      <td>PUERTO NARANJITOS</td>\n",
              "      <td>-5.82154</td>\n",
              "      <td>-78.2757</td>\n",
              "      <td>102</td>\n",
              "      <td>360</td>\n",
              "    </tr>\n",
              "    <tr>\n",
              "      <th>19</th>\n",
              "      <td>AMAZONAS</td>\n",
              "      <td>UTCUBAMBA</td>\n",
              "      <td>LONYA GRANDE</td>\n",
              "      <td>MANCARRON</td>\n",
              "      <td>-6.09659</td>\n",
              "      <td>-78.4285</td>\n",
              "      <td>2</td>\n",
              "      <td>4</td>\n",
              "    </tr>\n",
              "    <tr>\n",
              "      <th>20</th>\n",
              "      <td>AMAZONAS</td>\n",
              "      <td>UTCUBAMBA</td>\n",
              "      <td>LONYA GRANDE</td>\n",
              "      <td>BOLIVIA</td>\n",
              "      <td>-6.10133</td>\n",
              "      <td>-78.4278</td>\n",
              "      <td>1</td>\n",
              "      <td>3</td>\n",
              "    </tr>\n",
              "    <tr>\n",
              "      <th>22</th>\n",
              "      <td>AMAZONAS</td>\n",
              "      <td>UTCUBAMBA</td>\n",
              "      <td>LONYA GRANDE</td>\n",
              "      <td>MATULI</td>\n",
              "      <td>-6.10633</td>\n",
              "      <td>-78.4169</td>\n",
              "      <td>1</td>\n",
              "      <td>1</td>\n",
              "    </tr>\n",
              "    <tr>\n",
              "      <th>24</th>\n",
              "      <td>AMAZONAS</td>\n",
              "      <td>UTCUBAMBA</td>\n",
              "      <td>LONYA GRANDE</td>\n",
              "      <td>ARCURCO</td>\n",
              "      <td>-6.10101</td>\n",
              "      <td>-78.4175</td>\n",
              "      <td>0</td>\n",
              "      <td>0</td>\n",
              "    </tr>\n",
              "  </tbody>\n",
              "</table>\n",
              "</div>"
            ],
            "text/plain": [
              "   DEPARTAMENTO  PROVINCIA      DISTRITO  ... LONGITUD VIVIENDAS POBLACIÓN\n",
              "1      AMAZONAS  UTCUBAMBA  LONYA GRANDE  ... -78.4225       698      2896\n",
              "3      AMAZONAS  UTCUBAMBA      CAJARURO  ... -78.2774       177       577\n",
              "5      AMAZONAS  UTCUBAMBA       JAMALCA  ... -78.2757       102       360\n",
              "19     AMAZONAS  UTCUBAMBA  LONYA GRANDE  ... -78.4285         2         4\n",
              "20     AMAZONAS  UTCUBAMBA  LONYA GRANDE  ... -78.4278         1         3\n",
              "22     AMAZONAS  UTCUBAMBA  LONYA GRANDE  ... -78.4169         1         1\n",
              "24     AMAZONAS  UTCUBAMBA  LONYA GRANDE  ... -78.4175         0         0\n",
              "\n",
              "[7 rows x 8 columns]"
            ]
          },
          "metadata": {
            "tags": []
          },
          "execution_count": 85
        }
      ]
    },
    {
      "cell_type": "markdown",
      "metadata": {
        "id": "dSNMZK4sgOow"
      },
      "source": [
        "Almacen de coordenadas X y Y de la seleccion"
      ]
    },
    {
      "cell_type": "code",
      "metadata": {
        "id": "Px_mexV2fUjH"
      },
      "source": [
        "cord_x=[]\n",
        "for i in df_Q3['LATITUD']:\n",
        "  cord_x.append(abs(i))"
      ],
      "execution_count": 86,
      "outputs": []
    },
    {
      "cell_type": "code",
      "metadata": {
        "colab": {
          "base_uri": "https://localhost:8080/"
        },
        "id": "x2M2As7M_mkl",
        "outputId": "8d085862-c2e8-4b27-cdb7-4014ed508174"
      },
      "source": [
        "cord_x"
      ],
      "execution_count": 87,
      "outputs": [
        {
          "output_type": "execute_result",
          "data": {
            "text/plain": [
              "[6.096373, 5.814901, 5.82154, 6.096585, 6.101328, 6.106335, 6.101007]"
            ]
          },
          "metadata": {
            "tags": []
          },
          "execution_count": 87
        }
      ]
    },
    {
      "cell_type": "code",
      "metadata": {
        "id": "gmVlpjS9f_7M"
      },
      "source": [
        "cord_y=[]\n",
        "for i in df_Q3['LONGITUD']:\n",
        "  cord_y.append(abs(i))"
      ],
      "execution_count": 88,
      "outputs": []
    },
    {
      "cell_type": "code",
      "metadata": {
        "colab": {
          "base_uri": "https://localhost:8080/"
        },
        "id": "ed7UYKLX_0te",
        "outputId": "3a4829cb-2458-4089-83c4-6dd79d225ea6"
      },
      "source": [
        "cord_y"
      ],
      "execution_count": 89,
      "outputs": [
        {
          "output_type": "execute_result",
          "data": {
            "text/plain": [
              "[78.422516, 78.277449, 78.275662, 78.428543, 78.427833, 78.416907, 78.417463]"
            ]
          },
          "metadata": {
            "tags": []
          },
          "execution_count": 89
        }
      ]
    },
    {
      "cell_type": "markdown",
      "metadata": {
        "id": "QdnSmUsht64L"
      },
      "source": [
        "Obteniendo los datos del nombre de cada selección por indice"
      ]
    },
    {
      "cell_type": "code",
      "metadata": {
        "id": "jjsCCYjhekzS"
      },
      "source": [
        "nameQ=[]\n",
        "for i,value in enumerate(df_Q3['CENTRO POBLADO']):\n",
        "  nameQ.append((i,value))\n"
      ],
      "execution_count": 90,
      "outputs": []
    },
    {
      "cell_type": "code",
      "metadata": {
        "colab": {
          "base_uri": "https://localhost:8080/"
        },
        "id": "6YEd0J4ZfhkM",
        "outputId": "595cfd55-93ea-491a-828a-9b3ad5e6fae3"
      },
      "source": [
        "nameQ"
      ],
      "execution_count": 91,
      "outputs": [
        {
          "output_type": "execute_result",
          "data": {
            "text/plain": [
              "[(0, 'LONYA GRANDE'),\n",
              " (1, 'NARANJITOS'),\n",
              " (2, 'PUERTO NARANJITOS'),\n",
              " (3, 'MANCARRON'),\n",
              " (4, 'BOLIVIA'),\n",
              " (5, 'MATULI'),\n",
              " (6, 'ARCURCO')]"
            ]
          },
          "metadata": {
            "tags": []
          },
          "execution_count": 91
        }
      ]
    },
    {
      "cell_type": "markdown",
      "metadata": {
        "id": "glziLzGD6uwF"
      },
      "source": [
        "Obtencion de arcos"
      ]
    },
    {
      "cell_type": "code",
      "metadata": {
        "colab": {
          "base_uri": "https://localhost:8080/"
        },
        "id": "YjE-5Ip96w2I",
        "outputId": "ad69e430-6fa1-4bbd-850c-8b6b265f31c1"
      },
      "source": [
        "arc=[(i,j) for i in range(len(df_Q3)) for j in range(len(df_Q3)) if i!=j]\n",
        "arc"
      ],
      "execution_count": 92,
      "outputs": [
        {
          "output_type": "execute_result",
          "data": {
            "text/plain": [
              "[(0, 1),\n",
              " (0, 2),\n",
              " (0, 3),\n",
              " (0, 4),\n",
              " (0, 5),\n",
              " (0, 6),\n",
              " (1, 0),\n",
              " (1, 2),\n",
              " (1, 3),\n",
              " (1, 4),\n",
              " (1, 5),\n",
              " (1, 6),\n",
              " (2, 0),\n",
              " (2, 1),\n",
              " (2, 3),\n",
              " (2, 4),\n",
              " (2, 5),\n",
              " (2, 6),\n",
              " (3, 0),\n",
              " (3, 1),\n",
              " (3, 2),\n",
              " (3, 4),\n",
              " (3, 5),\n",
              " (3, 6),\n",
              " (4, 0),\n",
              " (4, 1),\n",
              " (4, 2),\n",
              " (4, 3),\n",
              " (4, 5),\n",
              " (4, 6),\n",
              " (5, 0),\n",
              " (5, 1),\n",
              " (5, 2),\n",
              " (5, 3),\n",
              " (5, 4),\n",
              " (5, 6),\n",
              " (6, 0),\n",
              " (6, 1),\n",
              " (6, 2),\n",
              " (6, 3),\n",
              " (6, 4),\n",
              " (6, 5)]"
            ]
          },
          "metadata": {
            "tags": []
          },
          "execution_count": 92
        }
      ]
    },
    {
      "cell_type": "markdown",
      "metadata": {
        "id": "QXVh6kWGv1tM"
      },
      "source": [
        "Dibujando las coordenadas"
      ]
    },
    {
      "cell_type": "code",
      "metadata": {
        "colab": {
          "base_uri": "https://localhost:8080/",
          "height": 730
        },
        "id": "U-MvTXGlqdbK",
        "outputId": "14c86a96-afc1-46b1-9ae9-266224c31800"
      },
      "source": [
        "plt.figure(figsize=(12,12))\n",
        "plt.scatter(cord_x,cord_y, color='green')\n",
        "\n",
        "plt.title(\"PUNTOS DE VIAJE\")#Le damos un titulo al grafico\n",
        "plt.xlabel(\"LATITUD\")\n",
        "plt.ylabel(\"LONGITUD\")\n",
        "plt.show\n",
        "\n",
        "#Colocamos las coordenadas encima de los puntos\n",
        "V=[]\n",
        "for i in range(len(cord_x)):\n",
        "  #almacenamos en una lista temporal las coordenadas por cada iteracion, ya que se reiniciará en 0 \n",
        "  temp=[]\n",
        "  temp.append(\"%.2f\"%cord_x[i])\n",
        "  temp.append(\"%.2f\"%cord_y[i])\n",
        "  #Luego lo colocamos en una matriz para tener almacenado cada cordenada por lista \n",
        "  V.append(temp)\n",
        "\n",
        "#Mostramos las posiciones\n",
        "for i in range(len(cord_x)):\n",
        "  plt.annotate(str(V[i]), xy=(cord_x[i], cord_y[i]), xytext=(cord_x[i],cord_y[i]+0.0004),color='blue')\n",
        "\n",
        "#Mostramos el indice de las ciudades\n",
        "for i in range(len(cord_x)):\n",
        "  plt.annotate(str(i), xy=(cord_x[i], cord_y[i]), xytext=(cord_x[i],cord_y[i]),color='blue')\n",
        "\n"
      ],
      "execution_count": 93,
      "outputs": [
        {
          "output_type": "display_data",
          "data": {
            "image/png": "[encoded data removed]",
            "text/plain": [
              "<Figure size 864x864 with 1 Axes>"
            ]
          },
          "metadata": {
            "tags": [],
            "needs_background": "light"
          }
        }
      ]
    },
    {
      "cell_type": "markdown",
      "metadata": {
        "id": "EtQI8YF09Ma7"
      },
      "source": [
        "Calculamos las distancias euclidianas de cada punto"
      ]
    },
    {
      "cell_type": "code",
      "metadata": {
        "id": "Qf-07VVR2j_y"
      },
      "source": [
        "DEucli={(i,j,np.hypot(cord_x[i]-cord_x[j],cord_y[i]-cord_y[j])) for i,j in arc}"
      ],
      "execution_count": 94,
      "outputs": []
    },
    {
      "cell_type": "code",
      "metadata": {
        "colab": {
          "base_uri": "https://localhost:8080/"
        },
        "id": "JP44jpn3AgFK",
        "outputId": "3f630d21-aeb5-4480-9dc7-1ea78d96c297"
      },
      "source": [
        "DEucli"
      ],
      "execution_count": 95,
      "outputs": [
        {
          "output_type": "execute_result",
          "data": {
            "text/plain": [
              "{(0, 1, 0.31665584042142536),\n",
              " (0, 2, 0.3116075660265672),\n",
              " (0, 3, 0.006030727402232475),\n",
              " (0, 4, 0.00726790987836618),\n",
              " (0, 5, 0.011432511753769293),\n",
              " (0, 6, 0.006856147970984888),\n",
              " (1, 0, 0.31665584042142536),\n",
              " (1, 2, 0.006875295630009229),\n",
              " (1, 3, 0.31964867071833775),\n",
              " (1, 4, 0.32350544629882294),\n",
              " (1, 5, 0.3230825128662912),\n",
              " (1, 6, 0.31852874820335814),\n",
              " (2, 0, 0.3116075660265672),\n",
              " (2, 1, 0.006875295630009229),\n",
              " (2, 3, 0.3146781724015865),\n",
              " (2, 4, 0.31849228905108984),\n",
              " (2, 5, 0.3178967474668455),\n",
              " (2, 6, 0.3133836748938918),\n",
              " (3, 0, 0.006030727402232475),\n",
              " (3, 1, 0.31964867071833775),\n",
              " (3, 2, 0.3146781724015865),\n",
              " (3, 4, 0.004795847057610614),\n",
              " (3, 5, 0.015180875995812032),\n",
              " (3, 6, 0.011929814918939498),\n",
              " (4, 0, 0.00726790987836618),\n",
              " (4, 1, 0.32350544629882294),\n",
              " (4, 2, 0.31849228905108984),\n",
              " (4, 3, 0.004795847057610614),\n",
              " (4, 5, 0.012018632409732052),\n",
              " (4, 6, 0.010374967036101065),\n",
              " (5, 0, 0.011432511753769293),\n",
              " (5, 1, 0.3230825128662912),\n",
              " (5, 2, 0.3178967474668455),\n",
              " (5, 3, 0.015180875995812032),\n",
              " (5, 4, 0.012018632409732052),\n",
              " (5, 6, 0.005356931957753311),\n",
              " (6, 0, 0.006856147970984888),\n",
              " (6, 1, 0.31852874820335814),\n",
              " (6, 2, 0.3133836748938918),\n",
              " (6, 3, 0.011929814918939498),\n",
              " (6, 4, 0.010374967036101065),\n",
              " (6, 5, 0.005356931957753311)}"
            ]
          },
          "metadata": {
            "tags": []
          },
          "execution_count": 95
        }
      ]
    },
    {
      "cell_type": "markdown",
      "metadata": {
        "id": "TP5YmoBZDbUP"
      },
      "source": [
        "Almacenamos el resultado en un csv para poder leerlo como grafo"
      ]
    },
    {
      "cell_type": "code",
      "metadata": {
        "id": "IykelDXC0LzE"
      },
      "source": [
        "df_edges=pd.DataFrame(DEucli)\n",
        "df_edges.to_csv(r'/content/sample_data/Edges.csv', index = False)"
      ],
      "execution_count": 96,
      "outputs": []
    },
    {
      "cell_type": "markdown",
      "metadata": {
        "id": "lL3F1pBrDZj_"
      },
      "source": [
        "Almacenamos el csv"
      ]
    },
    {
      "cell_type": "code",
      "metadata": {
        "id": "eJRbNYDMDptL"
      },
      "source": [
        "G= pd.read_csv(\"/content/sample_data/Edges.csv\")"
      ],
      "execution_count": 97,
      "outputs": []
    },
    {
      "cell_type": "markdown",
      "metadata": {
        "id": "S20uBveBEeq2"
      },
      "source": [
        "#GRAPH STUFF"
      ]
    },
    {
      "cell_type": "code",
      "metadata": {
        "id": "93Ex7cAsEhZ1"
      },
      "source": [
        "import graphviz as gv\n",
        "import networkx as nx\n",
        "\n",
        "def nx2gv(G, weighted=False, params={'rankdir': 'LR', 'size': '6'},\n",
        "          path=None, pathparams={'color':'orangered'}, nodeinfo=False):\n",
        "  if G.is_directed():\n",
        "    g = gv.Digraph('G')\n",
        "  else:\n",
        "    g = gv.Graph('G')\n",
        "  g.attr(**params)\n",
        "\n",
        "  for u in G.nodes:\n",
        "    if nodeinfo:\n",
        "      g.node(str(u), **dict(G.nodes[u]))\n",
        "    else:\n",
        "      g.node(str(u))\n",
        "\n",
        "  for u, v in G.edges():\n",
        "    pp = pathparams if path and path[v] == u else {}\n",
        "\n",
        "    if weighted:\n",
        "      g.edge(str(u), str(v), f\"{G.edges[u, v]['weight']}\", **pp)\n",
        "    else:\n",
        "      g.edge(str(u), str(v), **pp)\n",
        "      \n",
        "  return g\n",
        "\n",
        "def adjmatrix2gv(G, weighted=False, params={'rankdir': 'LR', 'size': '5'}):\n",
        "  return nx2gv(nx.from_numpy_matrix(G), weighted, params)\n",
        "             \n",
        "def adjlist2gv(G, type='digraph', weighted=False, params={'rankdir': 'LR'}):\n",
        "  digraph = type == 'digraph'\n",
        "  if digraph:\n",
        "    g = gv.Digraph('G')\n",
        "  else:\n",
        "    g = gv.Graph('G')\n",
        "  Gv.attr(**params)\n",
        "\n",
        "  n = len(G)\n",
        "  for i in range(n):\n",
        "    g.node(str(i))\n",
        "             \n",
        "  for u in range(n):\n",
        "    if weighted:\n",
        "      for v, w in range(n):\n",
        "        g.edge(str(u), str(v), str(w))\n",
        "        if digraph:\n",
        "          g.edge(str(v), str(u), str(w))\n",
        "    else:\n",
        "      for v in range(n):\n",
        "        g.edge(str(u), str(v))\n",
        "        if digraph:\n",
        "          g.edge(str(v), str(u))\n",
        "\n",
        "  return g\n",
        "      \n",
        "def path2gv(path, params={'rankdir': 'LR', 'size': '5'}):\n",
        "  g = gv.Digraph('G')\n",
        "  g.attr(**params)\n",
        "              \n",
        "  n = len(path)\n",
        "  for i in range(n):\n",
        "    g.node(str(i))\n",
        "\n",
        "  for v, u in enumerate(path):\n",
        "    if u != -1:\n",
        "      g.edge(str(u), str(v))\n",
        "\n",
        "  return g\n",
        "              \n",
        "def wedges2adjlist(filename: str, type='graph'):\n",
        "  with open(filename) as file:\n",
        "    data = []\n",
        "    n = 0\n",
        "    for line in file:\n",
        "      if line[0] != '#':\n",
        "        data.append([int(x) for x in line.strip().split(',')])\n",
        "        if data[-1][0] > n: n = data[-1][0]\n",
        "        if data[-1][1] > n: n = data[-1][1]\n",
        "\n",
        "  n += 1\n",
        "  G = [[] for _ in range(n)]\n",
        "  for u, v, w in data:\n",
        "    G[u].append((v, w))\n",
        "    if type == 'graph':\n",
        "      G[v].append((u, w))\n",
        "              \n",
        "  return G"
      ],
      "execution_count": null,
      "outputs": []
    },
    {
      "cell_type": "markdown",
      "metadata": {
        "id": "7-BN_mEIDsbn"
      },
      "source": [
        "#Segunda Parte"
      ]
    },
    {
      "cell_type": "markdown",
      "metadata": {
        "id": "ZGtz3kelEuHe"
      },
      "source": [
        "Dibujamos el grafo"
      ]
    },
    {
      "cell_type": "code",
      "metadata": {
        "colab": {
          "base_uri": "https://localhost:8080/",
          "height": 314
        },
        "id": "MnIqvz1aDt4s",
        "outputId": "6eed4575-d8ab-431e-e56d-e5edd41df576"
      },
      "source": [
        "G = nx.read_weighted_edgelist('/content/sample_data/Edges.csv', create_using=nx.Graph, delimiter=',', nodetype=int)\n",
        "nx2gv(G,params={'rankdir': 'LR', 'size': '13'}, weighted=True)"
      ],
      "execution_count": 98,
      "outputs": [
        {
          "output_type": "execute_result",
          "data": {
            "text/plain": [
              "<graphviz.dot.Graph at 0x7fb51323b510>"
            ],
            "image/svg+xml": "<?xml version=\"1.0\" encoding=\"UTF-8\" standalone=\"no\"?>\n<!DOCTYPE svg PUBLIC \"-//W3C//DTD SVG 1.1//EN\"\n \"http://www.w3.org/Graphics/SVG/1.1/DTD/svg11.dtd\">\n<!-- Generated by graphviz version 2.40.1 (20161225.0304)\n -->\n<!-- Title: G Pages: 1 -->\n<svg width=\"936pt\" height=\"220pt\"\n viewBox=\"0.00 0.00 936.00 220.15\" xmlns=\"http://www.w3.org/2000/svg\" xmlns:xlink=\"http://www.w3.org/1999/xlink\">\n<g id=\"graph0\" class=\"graph\" transform=\"scale(.489 .489) rotate(0) translate(4 446.1739)\">\n<title>G</title>\n<polygon fill=\"#ffffff\" stroke=\"transparent\" points=\"-4,4 -4,-446.1739 1910,-446.1739 1910,4 -4,4\"/>\n<!-- 0 -->\n<g id=\"node1\" class=\"node\">\n<title>0</title>\n<ellipse fill=\"none\" stroke=\"#000000\" cx=\"27\" cy=\"-315.1739\" rx=\"27\" ry=\"18\"/>\n<text text-anchor=\"middle\" x=\"27\" y=\"-311.4739\" font-family=\"Times,serif\" font-size=\"14.00\" fill=\"#000000\">0</text>\n</g>\n<!-- 1 -->\n<g id=\"node2\" class=\"node\">\n<title>1</title>\n<ellipse fill=\"none\" stroke=\"#000000\" cx=\"302.5\" cy=\"-161.1739\" rx=\"27\" ry=\"18\"/>\n<text text-anchor=\"middle\" x=\"302.5\" y=\"-157.4739\" font-family=\"Times,serif\" font-size=\"14.00\" fill=\"#000000\">1</text>\n</g>\n<!-- 0&#45;&#45;1 -->\n<g id=\"edge1\" class=\"edge\">\n<title>0&#45;&#45;1</title>\n<path fill=\"none\" stroke=\"#000000\" d=\"M33.1983,-297.6453C40.1285,-280.4495 52.9421,-254.6247 72,-239.1739 133.8591,-189.0228 229.5933,-170.437 275.7775,-164.1226\"/>\n<text text-anchor=\"middle\" x=\"141.5\" y=\"-242.9739\" font-family=\"Times,serif\" font-size=\"14.00\" fill=\"#000000\">0.31665584042142536</text>\n</g>\n<!-- 6 -->\n<g id=\"node3\" class=\"node\">\n<title>6</title>\n<ellipse fill=\"none\" stroke=\"#000000\" cx=\"626.5\" cy=\"-252.1739\" rx=\"27\" ry=\"18\"/>\n<text text-anchor=\"middle\" x=\"626.5\" y=\"-248.4739\" font-family=\"Times,serif\" font-size=\"14.00\" fill=\"#000000\">6</text>\n</g>\n<!-- 0&#45;&#45;6 -->\n<g id=\"edge6\" class=\"edge\">\n<title>0&#45;&#45;6</title>\n<path fill=\"none\" stroke=\"#000000\" d=\"M53.9239,-312.3445C153.4885,-301.8815 500.2086,-265.4455 599.6503,-254.9954\"/>\n<text text-anchor=\"middle\" x=\"302.5\" y=\"-295.9739\" font-family=\"Times,serif\" font-size=\"14.00\" fill=\"#000000\">0.006856147970984888</text>\n</g>\n<!-- 5 -->\n<g id=\"node4\" class=\"node\">\n<title>5</title>\n<ellipse fill=\"none\" stroke=\"#000000\" cx=\"951.5\" cy=\"-276.1739\" rx=\"27\" ry=\"18\"/>\n<text text-anchor=\"middle\" x=\"951.5\" y=\"-272.4739\" font-family=\"Times,serif\" font-size=\"14.00\" fill=\"#000000\">5</text>\n</g>\n<!-- 0&#45;&#45;5 -->\n<g id=\"edge3\" class=\"edge\">\n<title>0&#45;&#45;5</title>\n<path fill=\"none\" stroke=\"#000000\" d=\"M54.1259,-315.8741C60.0182,-315.999 66.2177,-316.1096 72,-316.1739 133.774,-316.8602 149.2293,-317.1096 211,-316.1739 499.6991,-311.8006 572.3003,-311.5701 860,-287.1739 881.8413,-285.3218 906.5105,-282.3017 924.7257,-279.8941\"/>\n<text text-anchor=\"middle\" x=\"466.5\" y=\"-316.9739\" font-family=\"Times,serif\" font-size=\"14.00\" fill=\"#000000\">0.011432511753769293</text>\n</g>\n<!-- 4 -->\n<g id=\"node5\" class=\"node\">\n<title>4</title>\n<ellipse fill=\"none\" stroke=\"#000000\" cx=\"1281\" cy=\"-151.1739\" rx=\"27\" ry=\"18\"/>\n<text text-anchor=\"middle\" x=\"1281\" y=\"-147.4739\" font-family=\"Times,serif\" font-size=\"14.00\" fill=\"#000000\">4</text>\n</g>\n<!-- 0&#45;&#45;4 -->\n<g id=\"edge5\" class=\"edge\">\n<title>0&#45;&#45;4</title>\n<path fill=\"none\" stroke=\"#000000\" d=\"M29.0734,-297.0586C33.1013,-268.5163 44.1748,-212.3989 72,-174.1739 146.1456,-72.3158 176.5133,-9.1739 302.5,-9.1739 302.5,-9.1739 302.5,-9.1739 951.5,-9.1739 1057.9101,-9.1739 1096.9705,21.4849 1190,-30.1739 1232.2824,-53.653 1260.7946,-105.8897 1273.4881,-133.4156\"/>\n<text text-anchor=\"middle\" x=\"626.5\" y=\"-12.9739\" font-family=\"Times,serif\" font-size=\"14.00\" fill=\"#000000\">0.00726790987836618</text>\n</g>\n<!-- 2 -->\n<g id=\"node6\" class=\"node\">\n<title>2</title>\n<ellipse fill=\"none\" stroke=\"#000000\" cx=\"1610.5\" cy=\"-214.1739\" rx=\"27\" ry=\"18\"/>\n<text text-anchor=\"middle\" x=\"1610.5\" y=\"-210.4739\" font-family=\"Times,serif\" font-size=\"14.00\" fill=\"#000000\">2</text>\n</g>\n<!-- 0&#45;&#45;2 -->\n<g id=\"edge2\" class=\"edge\">\n<title>0&#45;&#45;2</title>\n<path fill=\"none\" stroke=\"#000000\" d=\"M50.1362,-324.6301C96.9448,-342.8797 206.5927,-381.1739 302.5,-381.1739 302.5,-381.1739 302.5,-381.1739 1281,-381.1739 1393.0256,-381.1739 1422.8641,-355.6857 1519,-298.1739 1550.4596,-279.3536 1580.4865,-248.4868 1597.1105,-229.8721\"/>\n<text text-anchor=\"middle\" x=\"787\" y=\"-384.9739\" font-family=\"Times,serif\" font-size=\"14.00\" fill=\"#000000\">0.3116075660265672</text>\n</g>\n<!-- 3 -->\n<g id=\"node7\" class=\"node\">\n<title>3</title>\n<ellipse fill=\"none\" stroke=\"#000000\" cx=\"1879\" cy=\"-280.1739\" rx=\"27\" ry=\"18\"/>\n<text text-anchor=\"middle\" x=\"1879\" y=\"-276.4739\" font-family=\"Times,serif\" font-size=\"14.00\" fill=\"#000000\">3</text>\n</g>\n<!-- 0&#45;&#45;3 -->\n<g id=\"edge4\" class=\"edge\">\n<title>0&#45;&#45;3</title>\n<path fill=\"none\" stroke=\"#000000\" d=\"M37.6816,-331.7477C45.7952,-343.0489 57.9349,-357.4872 72,-366.1739 162.1617,-421.8582 196.5289,-427.1739 302.5,-427.1739 302.5,-427.1739 302.5,-427.1739 1610.5,-427.1739 1719.4442,-427.1739 1826.0832,-332.91 1864.2484,-295.3518\"/>\n<text text-anchor=\"middle\" x=\"951.5\" y=\"-430.9739\" font-family=\"Times,serif\" font-size=\"14.00\" fill=\"#000000\">0.006030727402232475</text>\n</g>\n<!-- 1&#45;&#45;6 -->\n<g id=\"edge11\" class=\"edge\">\n<title>1&#45;&#45;6</title>\n<path fill=\"none\" stroke=\"#000000\" d=\"M325.0764,-171.455C343.3784,-179.5074 369.9834,-190.5801 394,-198.1739 467.4904,-221.4106 556.9252,-239.3877 600.3401,-247.4815\"/>\n<text text-anchor=\"middle\" x=\"466.5\" y=\"-237.9739\" font-family=\"Times,serif\" font-size=\"14.00\" fill=\"#000000\">0.31852874820335814</text>\n</g>\n<!-- 1&#45;&#45;5 -->\n<g id=\"edge10\" class=\"edge\">\n<title>1&#45;&#45;5</title>\n<path fill=\"none\" stroke=\"#000000\" d=\"M329.4049,-163.3193C393.369,-168.6813 559.3951,-184.1373 696,-210.1739 781.7318,-226.5141 881.3525,-255.0827 926.7179,-268.632\"/>\n<text text-anchor=\"middle\" x=\"626.5\" y=\"-213.9739\" font-family=\"Times,serif\" font-size=\"14.00\" fill=\"#000000\">0.3230825128662912</text>\n</g>\n<!-- 1&#45;&#45;4 -->\n<g id=\"edge9\" class=\"edge\">\n<title>1&#45;&#45;4</title>\n<path fill=\"none\" stroke=\"#000000\" d=\"M329.692,-160.896C470.2874,-159.4591 1113.6577,-152.8841 1253.9395,-151.4504\"/>\n<text text-anchor=\"middle\" x=\"787\" y=\"-160.9739\" font-family=\"Times,serif\" font-size=\"14.00\" fill=\"#000000\">0.32350544629882294</text>\n</g>\n<!-- 1&#45;&#45;2 -->\n<g id=\"edge8\" class=\"edge\">\n<title>1&#45;&#45;2</title>\n<path fill=\"none\" stroke=\"#000000\" d=\"M326.9786,-153.0667C380.6038,-136.0514 512.7525,-98.1739 626.5,-98.1739 626.5,-98.1739 626.5,-98.1739 1281,-98.1739 1389.2731,-98.1739 1435.2271,-81.5796 1519,-150.1739 1534.3978,-162.7817 1522.1728,-177.8997 1537,-191.1739 1549.8506,-202.6785 1568.4135,-208.4288 1583.6686,-211.3028\"/>\n<text text-anchor=\"middle\" x=\"951.5\" y=\"-101.9739\" font-family=\"Times,serif\" font-size=\"14.00\" fill=\"#000000\">0.006875295630009229</text>\n</g>\n<!-- 1&#45;&#45;3 -->\n<g id=\"edge7\" class=\"edge\">\n<title>1&#45;&#45;3</title>\n<path fill=\"none\" stroke=\"#000000\" d=\"M319.6115,-147.1125C337.2095,-133.3633 365.9356,-112.8432 394,-101.1739 491.5098,-60.6289 520.8967,-52.1739 626.5,-52.1739 626.5,-52.1739 626.5,-52.1739 1610.5,-52.1739 1723.4565,-52.1739 1758.14,-89.4814 1834,-173.1739 1857.5492,-199.1545 1869.8751,-239.2491 1875.3552,-262.269\"/>\n<text text-anchor=\"middle\" x=\"1116.5\" y=\"-55.9739\" font-family=\"Times,serif\" font-size=\"14.00\" fill=\"#000000\">0.31964867071833775</text>\n</g>\n<!-- 6&#45;&#45;5 -->\n<g id=\"edge12\" class=\"edge\">\n<title>6&#45;&#45;5</title>\n<path fill=\"none\" stroke=\"#000000\" d=\"M653.3726,-254.1583C714.5095,-258.673 863.4291,-269.6702 924.596,-274.1871\"/>\n<text text-anchor=\"middle\" x=\"787\" y=\"-271.9739\" font-family=\"Times,serif\" font-size=\"14.00\" fill=\"#000000\">0.005356931957753311</text>\n</g>\n<!-- 6&#45;&#45;4 -->\n<g id=\"edge13\" class=\"edge\">\n<title>6&#45;&#45;4</title>\n<path fill=\"none\" stroke=\"#000000\" d=\"M649.0497,-241.9426C666.4442,-234.4779 691.2911,-224.7312 714,-219.1739 917.677,-169.3299 1171.8211,-155.4312 1254.0215,-152.1054\"/>\n<text text-anchor=\"middle\" x=\"951.5\" y=\"-190.9739\" font-family=\"Times,serif\" font-size=\"14.00\" fill=\"#000000\">0.010374967036101065</text>\n</g>\n<!-- 6&#45;&#45;2 -->\n<g id=\"edge15\" class=\"edge\">\n<title>6&#45;&#45;2</title>\n<path fill=\"none\" stroke=\"#000000\" d=\"M653.8804,-250.9646C718.9458,-247.6698 887.6602,-236.6461 1025,-206.1739 1033.2325,-204.3473 1034.6761,-201.5246 1043,-200.1739 1107.4897,-189.7086 1124.6757,-199.0867 1190,-200.1739 1338.6238,-202.6473 1516.6733,-210.035 1583.4507,-212.9611\"/>\n<text text-anchor=\"middle\" x=\"1116.5\" y=\"-203.9739\" font-family=\"Times,serif\" font-size=\"14.00\" fill=\"#000000\">0.3133836748938918</text>\n</g>\n<!-- 6&#45;&#45;3 -->\n<g id=\"edge14\" class=\"edge\">\n<title>6&#45;&#45;3</title>\n<path fill=\"none\" stroke=\"#000000\" d=\"M648.227,-262.8761C665.5948,-270.9326 690.791,-281.5218 714,-287.1739 785.1553,-304.5023 804.8516,-299.6141 878,-303.1739 955.5464,-306.9477 1107.0059,-303.5286 1519,-298.1739 1659.0058,-296.3542 1695.5245,-313.8973 1834,-293.1739 1840.9165,-292.1388 1848.2644,-290.3321 1854.9733,-288.3889\"/>\n<text text-anchor=\"middle\" x=\"1281\" y=\"-305.9739\" font-family=\"Times,serif\" font-size=\"14.00\" fill=\"#000000\">0.011929814918939498</text>\n</g>\n<!-- 5&#45;&#45;4 -->\n<g id=\"edge17\" class=\"edge\">\n<title>5&#45;&#45;4</title>\n<path fill=\"none\" stroke=\"#000000\" d=\"M974.4036,-266.1996C992.6665,-258.6061 1019.061,-248.4267 1043,-242.1739 1106.9817,-225.4621 1129.0526,-244.8323 1190,-219.1739 1219.8105,-206.6239 1248.7727,-182.2463 1265.7393,-166.3458\"/>\n<text text-anchor=\"middle\" x=\"1116.5\" y=\"-245.9739\" font-family=\"Times,serif\" font-size=\"14.00\" fill=\"#000000\">0.012018632409732052</text>\n</g>\n<!-- 5&#45;&#45;2 -->\n<g id=\"edge16\" class=\"edge\">\n<title>5&#45;&#45;2</title>\n<path fill=\"none\" stroke=\"#000000\" d=\"M978.7004,-274.2063C1022.9983,-270.9571 1113.4716,-264.1342 1190,-257.1739 1338.7229,-243.6475 1516.7139,-224.4542 1583.4632,-217.1508\"/>\n<text text-anchor=\"middle\" x=\"1281\" y=\"-258.9739\" font-family=\"Times,serif\" font-size=\"14.00\" fill=\"#000000\">0.3178967474668455</text>\n</g>\n<!-- 5&#45;&#45;3 -->\n<g id=\"edge18\" class=\"edge\">\n<title>5&#45;&#45;3</title>\n<path fill=\"none\" stroke=\"#000000\" d=\"M978.725,-276.5237C996.9217,-276.7446 1021.3951,-277.017 1043,-277.1739 1361.2107,-279.4836 1747.5661,-280.0375 1851.9347,-280.1489\"/>\n<text text-anchor=\"middle\" x=\"1445.5\" y=\"-282.9739\" font-family=\"Times,serif\" font-size=\"14.00\" fill=\"#000000\">0.015180875995812032</text>\n</g>\n<!-- 4&#45;&#45;2 -->\n<g id=\"edge19\" class=\"edge\">\n<title>4&#45;&#45;2</title>\n<path fill=\"none\" stroke=\"#000000\" d=\"M1308.2513,-151.0398C1352.9866,-151.4306 1444.4705,-154.8071 1519,-174.1739 1544.1696,-180.7143 1571.2576,-193.3231 1589.3746,-202.6434\"/>\n<text text-anchor=\"middle\" x=\"1445.5\" y=\"-177.9739\" font-family=\"Times,serif\" font-size=\"14.00\" fill=\"#000000\">0.31849228905108984</text>\n</g>\n<!-- 4&#45;&#45;3 -->\n<g id=\"edge20\" class=\"edge\">\n<title>4&#45;&#45;3</title>\n<path fill=\"none\" stroke=\"#000000\" d=\"M1307.8742,-149.2791C1373.296,-145.3726 1545.6204,-139.3372 1684,-172.1739 1753.2384,-188.6037 1775.5661,-187.5613 1834,-228.1739 1847.725,-237.713 1859.8965,-252.3704 1868.1089,-263.6952\"/>\n<text text-anchor=\"middle\" x=\"1610.5\" y=\"-175.9739\" font-family=\"Times,serif\" font-size=\"14.00\" fill=\"#000000\">0.004795847057610614</text>\n</g>\n<!-- 2&#45;&#45;3 -->\n<g id=\"edge21\" class=\"edge\">\n<title>2&#45;&#45;3</title>\n<path fill=\"none\" stroke=\"#000000\" d=\"M1636.965,-218.6864C1679.1249,-226.1623 1763.9295,-242.3773 1834,-263.1739 1841.2056,-265.3125 1848.9066,-268.0485 1855.8641,-270.6976\"/>\n<text text-anchor=\"middle\" x=\"1768\" y=\"-266.9739\" font-family=\"Times,serif\" font-size=\"14.00\" fill=\"#000000\">0.3146781724015865</text>\n</g>\n</g>\n</svg>\n"
          },
          "metadata": {
            "tags": []
          },
          "execution_count": 98
        }
      ]
    },
    {
      "cell_type": "markdown",
      "metadata": {
        "id": "6Th-IvTVrHz5"
      },
      "source": [
        "#Dijkstra todos los caminos"
      ]
    },
    {
      "cell_type": "code",
      "metadata": {
        "id": "jDwcLtq1reeW"
      },
      "source": [
        "def calculatePath(G):\n",
        "  path = [0]*G.number_of_nodes()\n",
        "  for v, info in G.nodes.data():\n",
        "    path[v] = info['path']\n",
        "\n",
        "  return path"
      ],
      "execution_count": 99,
      "outputs": []
    },
    {
      "cell_type": "code",
      "metadata": {
        "id": "kq2o6yhBrlcX"
      },
      "source": [
        "\n",
        "cont_hop=[0]\n",
        "all_path=[]\n",
        "weights=[]\n",
        "def _dijkstra(G,s,q):\n",
        "  if len(q)!=0:\n",
        "    g_u, u = hq.heappop(q) \n",
        "    if not G.nodes[u]['visited']: \n",
        "      G.nodes[u]['visited'] = True \n",
        "      if cont_hop[0]==(len(G.nodes())-1):\n",
        "        G.nodes[0]['visited'] = False\n",
        "      for v in G.neighbors(u): \n",
        "        if not G.nodes[v]['visited']: \n",
        "          if G.nodes[v]['prime']==True and cont_hop[0]==(len(G.nodes())-1):\n",
        "            w_uv = G.edges[u, v]['weight']\n",
        "            f_v  = g_u + w_uv \n",
        "            weights.append(f_v)\n",
        "            G.nodes[v]['path'] = u \n",
        "            pathTotal=calculatePath(G)\n",
        "            all_path.append(pathTotal)\n",
        "            G.nodes[v]['path'] = -1\n",
        "            G.nodes[v]['cost'] = math.inf\n",
        "            G.nodes[v]['visited'] = True \n",
        "          \n",
        "          elif not G.nodes[v]['prime']:\n",
        "            cont_hop[0]=cont_hop[0]+1  \n",
        "            w_uv = G.edges[u, v]['weight'] \n",
        "            f_v  = g_u + w_uv \n",
        "            g_v  = G.nodes[v]['cost']\n",
        "            if f_v < g_v:         \n",
        "              G.nodes[v]['cost'] = f_v \n",
        "              G.nodes[v]['path'] = u \n",
        "              hq.heappush(q, (f_v, v)) \n",
        "              _dijkstra(G,s,q)\n",
        "              cont_hop[0]=cont_hop[0]-1\n",
        "              G.nodes[v]['path'] = -1\n",
        "              G.nodes[v]['cost'] = math.inf\n",
        "              G.nodes[v]['visited'] = False\n",
        "\n",
        "              \n",
        "      \n",
        "        \n",
        "  \n",
        "\n",
        "def dijkstra(G, s):\n",
        "  for u in G.nodes:\n",
        "    G.nodes[u]['visited'] = False      \n",
        "    G.nodes[u]['path']    = -1         \n",
        "    G.nodes[u]['cost']    = math.inf   \n",
        "    #\n",
        "    G.nodes[u]['prime'] = False\n",
        "\n",
        "  G.nodes[s]['cost'] = 0\n",
        "  G.nodes[s]['prime']= True \n",
        "  q = [(0, s)] \n",
        "  \n",
        "  _dijkstra(G,s,q)\n",
        "\n",
        "  return all_path\n",
        "\n"
      ],
      "execution_count": 100,
      "outputs": []
    },
    {
      "cell_type": "code",
      "metadata": {
        "id": "Gtc7jnZgo6Ds"
      },
      "source": [
        "#Buscador de nombres de la consulta realizada\n",
        "def nameNode(value):\n",
        "  for i,j in nameQ:\n",
        "    if value == i:\n",
        "      return j"
      ],
      "execution_count": 101,
      "outputs": []
    },
    {
      "cell_type": "code",
      "metadata": {
        "id": "3UJ_plHkQlWO"
      },
      "source": [
        "#Guardamos la lista de caminos posibles\n",
        "lstPth=dijkstra(G, 0)"
      ],
      "execution_count": 102,
      "outputs": []
    },
    {
      "cell_type": "code",
      "metadata": {
        "colab": {
          "base_uri": "https://localhost:8080/"
        },
        "id": "vuaEpHScpiix",
        "outputId": "7826bd12-b3e2-4104-d8a0-d2a883e91015"
      },
      "source": [
        "#Mostramos la lista de caminos posibles#(n-1)!\n",
        "print(\"TODAS LAS POSIBLES RUTAS SON LAS SIGUIENTES\")\n",
        "lstPth"
      ],
      "execution_count": 103,
      "outputs": [
        {
          "output_type": "stream",
          "text": [
            "TODAS LAS POSIBLES RUTAS SON LAS SIGUIENTES\n"
          ],
          "name": "stdout"
        },
        {
          "output_type": "execute_result",
          "data": {
            "text/plain": [
              "[[4, 0, 3, 1, 6, 2, 5],\n",
              " [6, 0, 3, 1, 5, 2, 4],\n",
              " [5, 0, 3, 1, 2, 6, 4],\n",
              " [6, 0, 3, 1, 2, 4, 5],\n",
              " [4, 0, 3, 1, 5, 6, 2],\n",
              " [5, 0, 3, 1, 6, 4, 2],\n",
              " [4, 0, 5, 1, 2, 6, 3],\n",
              " [2, 0, 4, 1, 5, 6, 3],\n",
              " [2, 0, 5, 1, 6, 4, 3],\n",
              " [5, 0, 4, 1, 6, 2, 3],\n",
              " [4, 0, 6, 1, 5, 2, 3],\n",
              " [5, 0, 6, 1, 2, 4, 3],\n",
              " [2, 0, 4, 1, 6, 3, 5],\n",
              " [4, 0, 6, 1, 2, 3, 5],\n",
              " [6, 0, 5, 1, 2, 3, 4],\n",
              " [4, 0, 5, 1, 6, 3, 2],\n",
              " [2, 0, 6, 1, 5, 3, 4],\n",
              " [6, 0, 4, 1, 5, 3, 2],\n",
              " [2, 0, 5, 1, 3, 6, 4],\n",
              " [5, 0, 6, 1, 3, 2, 4],\n",
              " [2, 0, 6, 1, 3, 4, 5],\n",
              " [6, 0, 5, 1, 3, 4, 2],\n",
              " [6, 0, 4, 1, 3, 2, 5],\n",
              " [5, 0, 4, 1, 3, 6, 2],\n",
              " [3, 0, 1, 4, 6, 2, 5],\n",
              " [4, 0, 1, 6, 3, 2, 5],\n",
              " [3, 0, 1, 6, 5, 2, 4],\n",
              " [6, 0, 1, 4, 5, 2, 3],\n",
              " [4, 0, 1, 5, 6, 2, 3],\n",
              " [6, 0, 1, 5, 3, 2, 4],\n",
              " [4, 0, 1, 2, 5, 6, 3],\n",
              " [5, 0, 1, 2, 6, 4, 3],\n",
              " [4, 0, 1, 2, 6, 3, 5],\n",
              " [6, 0, 1, 2, 5, 3, 4],\n",
              " [5, 0, 1, 2, 3, 6, 4],\n",
              " [6, 0, 1, 2, 3, 4, 5],\n",
              " [3, 0, 1, 5, 2, 6, 4],\n",
              " [5, 0, 1, 6, 2, 3, 4],\n",
              " [3, 0, 1, 6, 2, 4, 5],\n",
              " [6, 0, 1, 5, 2, 4, 3],\n",
              " [5, 0, 1, 4, 2, 6, 3],\n",
              " [6, 0, 1, 4, 2, 3, 5],\n",
              " [3, 0, 1, 4, 5, 6, 2],\n",
              " [4, 0, 1, 5, 3, 6, 2],\n",
              " [3, 0, 1, 5, 6, 4, 2],\n",
              " [5, 0, 1, 4, 6, 3, 2],\n",
              " [4, 0, 1, 6, 5, 3, 2],\n",
              " [5, 0, 1, 6, 3, 4, 2],\n",
              " [3, 0, 5, 2, 1, 6, 4],\n",
              " [2, 0, 3, 5, 1, 6, 4],\n",
              " [5, 0, 3, 6, 1, 2, 4],\n",
              " [2, 0, 5, 6, 1, 3, 4],\n",
              " [3, 0, 6, 5, 1, 2, 4],\n",
              " [5, 0, 6, 2, 1, 3, 4],\n",
              " [2, 0, 3, 6, 1, 4, 5],\n",
              " [3, 0, 6, 2, 1, 4, 5],\n",
              " [6, 0, 5, 2, 1, 4, 3],\n",
              " [3, 0, 5, 6, 1, 4, 2],\n",
              " [6, 0, 3, 5, 1, 4, 2],\n",
              " [2, 0, 6, 5, 1, 4, 3],\n",
              " [3, 0, 4, 6, 1, 2, 5],\n",
              " [6, 0, 4, 5, 1, 2, 3],\n",
              " [5, 0, 4, 2, 1, 6, 3],\n",
              " [6, 0, 4, 2, 1, 3, 5],\n",
              " [3, 0, 4, 5, 1, 6, 2],\n",
              " [5, 0, 4, 6, 1, 3, 2],\n",
              " [6, 0, 3, 4, 1, 2, 5],\n",
              " [5, 0, 3, 4, 1, 6, 2],\n",
              " [2, 0, 5, 4, 1, 6, 3],\n",
              " [5, 0, 6, 4, 1, 2, 3],\n",
              " [2, 0, 6, 4, 1, 3, 5],\n",
              " [6, 0, 5, 4, 1, 3, 2],\n",
              " [3, 0, 4, 2, 6, 1, 5],\n",
              " [2, 0, 3, 4, 6, 1, 5],\n",
              " [4, 0, 3, 6, 2, 1, 5],\n",
              " [2, 0, 4, 6, 3, 1, 5],\n",
              " [4, 0, 6, 2, 3, 1, 5],\n",
              " [3, 0, 6, 4, 2, 1, 5],\n",
              " [4, 0, 5, 2, 6, 1, 3],\n",
              " [6, 0, 5, 2, 3, 1, 4],\n",
              " [3, 0, 5, 6, 2, 1, 4],\n",
              " [6, 0, 5, 4, 2, 1, 3],\n",
              " [3, 0, 5, 4, 6, 1, 2],\n",
              " [4, 0, 5, 6, 3, 1, 2],\n",
              " [2, 0, 3, 6, 5, 1, 4],\n",
              " [3, 0, 6, 2, 5, 1, 4],\n",
              " [6, 0, 4, 2, 5, 1, 3],\n",
              " [3, 0, 4, 6, 5, 1, 2],\n",
              " [6, 0, 3, 4, 5, 1, 2],\n",
              " [2, 0, 6, 4, 5, 1, 3],\n",
              " [6, 0, 3, 5, 2, 1, 4],\n",
              " [4, 0, 3, 5, 6, 1, 2],\n",
              " [2, 0, 4, 5, 6, 1, 3],\n",
              " [4, 0, 6, 5, 2, 1, 3],\n",
              " [2, 0, 6, 5, 3, 1, 4],\n",
              " [6, 0, 4, 5, 3, 1, 2],\n",
              " [4, 0, 5, 2, 3, 6, 1],\n",
              " [3, 0, 5, 4, 2, 6, 1],\n",
              " [3, 0, 4, 2, 5, 6, 1],\n",
              " [2, 0, 3, 4, 5, 6, 1],\n",
              " [4, 0, 3, 5, 2, 6, 1],\n",
              " [2, 0, 4, 5, 3, 6, 1],\n",
              " [3, 0, 5, 2, 6, 4, 1],\n",
              " [2, 0, 3, 5, 6, 4, 1],\n",
              " [3, 0, 4, 5, 6, 2, 1],\n",
              " [5, 0, 4, 2, 6, 3, 1],\n",
              " [5, 0, 3, 4, 6, 2, 1],\n",
              " [2, 0, 5, 4, 6, 3, 1],\n",
              " [4, 0, 3, 6, 5, 2, 1],\n",
              " [5, 0, 3, 6, 2, 4, 1],\n",
              " [4, 0, 5, 6, 2, 3, 1],\n",
              " [2, 0, 4, 6, 5, 3, 1],\n",
              " [2, 0, 5, 6, 3, 4, 1],\n",
              " [5, 0, 4, 6, 3, 2, 1],\n",
              " [3, 0, 6, 4, 5, 2, 1],\n",
              " [4, 0, 6, 5, 3, 2, 1],\n",
              " [4, 0, 6, 2, 5, 3, 1],\n",
              " [5, 0, 6, 2, 3, 4, 1],\n",
              " [3, 0, 6, 5, 2, 4, 1],\n",
              " [5, 0, 6, 4, 2, 3, 1],\n",
              " [3, 4, 0, 1, 6, 2, 5],\n",
              " [1, 3, 0, 4, 6, 2, 5],\n",
              " [4, 3, 0, 6, 1, 2, 5],\n",
              " [1, 4, 0, 6, 3, 2, 5],\n",
              " [4, 6, 0, 1, 3, 2, 5],\n",
              " [3, 6, 0, 4, 1, 2, 5],\n",
              " [1, 3, 0, 6, 5, 2, 4],\n",
              " [3, 6, 0, 1, 5, 2, 4],\n",
              " [6, 4, 0, 1, 5, 2, 3],\n",
              " [3, 4, 0, 6, 5, 2, 1],\n",
              " [6, 3, 0, 4, 5, 2, 1],\n",
              " [1, 6, 0, 4, 5, 2, 3],\n",
              " [4, 5, 0, 1, 6, 2, 3],\n",
              " [6, 5, 0, 1, 3, 2, 4],\n",
              " [3, 5, 0, 6, 1, 2, 4],\n",
              " [6, 5, 0, 4, 1, 2, 3],\n",
              " [3, 5, 0, 4, 6, 2, 1],\n",
              " [4, 5, 0, 6, 3, 2, 1],\n",
              " [6, 3, 0, 5, 1, 2, 4],\n",
              " [4, 3, 0, 5, 6, 2, 1],\n",
              " [1, 4, 0, 5, 6, 2, 3],\n",
              " [4, 6, 0, 5, 1, 2, 3],\n",
              " [1, 6, 0, 5, 3, 2, 4],\n",
              " [6, 4, 0, 5, 3, 2, 1],\n",
              " [5, 3, 0, 2, 1, 6, 4],\n",
              " [6, 3, 0, 2, 1, 4, 5],\n",
              " [4, 3, 0, 2, 6, 1, 5],\n",
              " [6, 3, 0, 2, 5, 1, 4],\n",
              " [4, 3, 0, 2, 5, 6, 1],\n",
              " [5, 3, 0, 2, 6, 4, 1],\n",
              " [1, 4, 0, 2, 5, 6, 3],\n",
              " [4, 5, 0, 2, 1, 6, 3],\n",
              " [1, 5, 0, 2, 6, 4, 3],\n",
              " [5, 4, 0, 2, 6, 1, 3],\n",
              " [5, 6, 0, 2, 1, 4, 3],\n",
              " [4, 6, 0, 2, 5, 1, 3],\n",
              " [1, 4, 0, 2, 6, 3, 5],\n",
              " [4, 6, 0, 2, 1, 3, 5],\n",
              " [1, 6, 0, 2, 5, 3, 4],\n",
              " [6, 4, 0, 2, 5, 3, 1],\n",
              " [6, 5, 0, 2, 1, 3, 4],\n",
              " [4, 5, 0, 2, 6, 3, 1],\n",
              " [1, 5, 0, 2, 3, 6, 4],\n",
              " [5, 6, 0, 2, 3, 1, 4],\n",
              " [1, 6, 0, 2, 3, 4, 5],\n",
              " [6, 5, 0, 2, 3, 4, 1],\n",
              " [6, 4, 0, 2, 3, 1, 5],\n",
              " [5, 4, 0, 2, 3, 6, 1],\n",
              " [4, 2, 0, 1, 5, 6, 3],\n",
              " [5, 2, 0, 1, 6, 4, 3],\n",
              " [4, 2, 0, 1, 6, 3, 5],\n",
              " [6, 2, 0, 1, 5, 3, 4],\n",
              " [5, 2, 0, 1, 3, 6, 4],\n",
              " [6, 2, 0, 1, 3, 4, 5],\n",
              " [3, 2, 0, 5, 1, 6, 4],\n",
              " [5, 2, 0, 6, 1, 3, 4],\n",
              " [3, 2, 0, 6, 1, 4, 5],\n",
              " [6, 2, 0, 5, 1, 4, 3],\n",
              " [5, 2, 0, 4, 1, 6, 3],\n",
              " [6, 2, 0, 4, 1, 3, 5],\n",
              " [3, 2, 0, 4, 6, 1, 5],\n",
              " [4, 2, 0, 6, 3, 1, 5],\n",
              " [3, 2, 0, 6, 5, 1, 4],\n",
              " [6, 2, 0, 4, 5, 1, 3],\n",
              " [4, 2, 0, 5, 6, 1, 3],\n",
              " [6, 2, 0, 5, 3, 1, 4],\n",
              " [3, 2, 0, 4, 5, 6, 1],\n",
              " [4, 2, 0, 5, 3, 6, 1],\n",
              " [3, 2, 0, 5, 6, 4, 1],\n",
              " [5, 2, 0, 4, 6, 3, 1],\n",
              " [4, 2, 0, 6, 5, 3, 1],\n",
              " [5, 2, 0, 6, 3, 4, 1],\n",
              " [3, 5, 0, 1, 2, 6, 4],\n",
              " [1, 3, 0, 5, 2, 6, 4],\n",
              " [5, 3, 0, 6, 2, 1, 4],\n",
              " [1, 5, 0, 6, 2, 3, 4],\n",
              " [5, 6, 0, 1, 2, 3, 4],\n",
              " [3, 6, 0, 5, 2, 1, 4],\n",
              " [1, 3, 0, 6, 2, 4, 5],\n",
              " [3, 6, 0, 1, 2, 4, 5],\n",
              " [6, 5, 0, 1, 2, 4, 3],\n",
              " [3, 5, 0, 6, 2, 4, 1],\n",
              " [6, 3, 0, 5, 2, 4, 1],\n",
              " [1, 6, 0, 5, 2, 4, 3],\n",
              " [5, 4, 0, 1, 2, 6, 3],\n",
              " [6, 4, 0, 1, 2, 3, 5],\n",
              " [3, 4, 0, 6, 2, 1, 5],\n",
              " [6, 4, 0, 5, 2, 1, 3],\n",
              " [3, 4, 0, 5, 2, 6, 1],\n",
              " [5, 4, 0, 6, 2, 3, 1],\n",
              " [6, 3, 0, 4, 2, 1, 5],\n",
              " [5, 3, 0, 4, 2, 6, 1],\n",
              " [1, 5, 0, 4, 2, 6, 3],\n",
              " [5, 6, 0, 4, 2, 1, 3],\n",
              " [1, 6, 0, 4, 2, 3, 5],\n",
              " [6, 5, 0, 4, 2, 3, 1],\n",
              " [3, 4, 0, 1, 5, 6, 2],\n",
              " [1, 3, 0, 4, 5, 6, 2],\n",
              " [4, 5, 0, 1, 3, 6, 2],\n",
              " [3, 5, 0, 4, 1, 6, 2],\n",
              " [4, 3, 0, 5, 1, 6, 2],\n",
              " [1, 4, 0, 5, 3, 6, 2],\n",
              " [3, 5, 0, 1, 6, 4, 2],\n",
              " [1, 3, 0, 5, 6, 4, 2],\n",
              " [5, 4, 0, 1, 6, 3, 2],\n",
              " [3, 4, 0, 5, 6, 1, 2],\n",
              " [5, 3, 0, 4, 6, 1, 2],\n",
              " [1, 5, 0, 4, 6, 3, 2],\n",
              " [5, 3, 0, 6, 1, 4, 2],\n",
              " [4, 3, 0, 6, 5, 1, 2],\n",
              " [1, 4, 0, 6, 5, 3, 2],\n",
              " [4, 5, 0, 6, 1, 3, 2],\n",
              " [1, 5, 0, 6, 3, 4, 2],\n",
              " [5, 4, 0, 6, 3, 1, 2],\n",
              " [4, 6, 0, 1, 5, 3, 2],\n",
              " [5, 6, 0, 1, 3, 4, 2],\n",
              " [3, 6, 0, 5, 1, 4, 2],\n",
              " [5, 6, 0, 4, 1, 3, 2],\n",
              " [3, 6, 0, 4, 5, 1, 2],\n",
              " [4, 6, 0, 5, 3, 1, 2],\n",
              " [1, 3, 4, 2, 6, 0, 5],\n",
              " [3, 2, 4, 1, 6, 0, 5],\n",
              " [2, 4, 3, 1, 6, 0, 5],\n",
              " [3, 4, 1, 2, 6, 0, 5],\n",
              " [2, 3, 1, 4, 6, 0, 5],\n",
              " [1, 2, 3, 4, 6, 0, 5],\n",
              " [4, 3, 1, 6, 2, 0, 5],\n",
              " [2, 3, 4, 6, 1, 0, 5],\n",
              " [4, 2, 3, 6, 1, 0, 5],\n",
              " [1, 4, 3, 6, 2, 0, 5],\n",
              " [1, 2, 4, 6, 3, 0, 5],\n",
              " [2, 4, 1, 6, 3, 0, 5],\n",
              " [4, 6, 3, 1, 2, 0, 5],\n",
              " [2, 6, 4, 1, 3, 0, 5],\n",
              " [4, 6, 1, 2, 3, 0, 5],\n",
              " [3, 6, 1, 4, 2, 0, 5],\n",
              " [3, 6, 4, 2, 1, 0, 5],\n",
              " [2, 6, 3, 4, 1, 0, 5],\n",
              " [4, 3, 6, 2, 1, 0, 5],\n",
              " [1, 4, 6, 2, 3, 0, 5],\n",
              " [4, 2, 6, 1, 3, 0, 5],\n",
              " [3, 2, 6, 4, 1, 0, 5],\n",
              " [3, 4, 6, 1, 2, 0, 5],\n",
              " [1, 3, 6, 4, 2, 0, 5],\n",
              " [6, 3, 5, 2, 1, 0, 4],\n",
              " [4, 3, 5, 2, 6, 0, 1],\n",
              " [1, 4, 5, 2, 6, 0, 3],\n",
              " [4, 6, 5, 2, 1, 0, 3],\n",
              " [1, 6, 5, 2, 3, 0, 4],\n",
              " [6, 4, 5, 2, 3, 0, 1],\n",
              " [4, 2, 5, 1, 6, 0, 3],\n",
              " [6, 2, 5, 1, 3, 0, 4],\n",
              " [3, 2, 5, 6, 1, 0, 4],\n",
              " [6, 2, 5, 4, 1, 0, 3],\n",
              " [3, 2, 5, 4, 6, 0, 1],\n",
              " [4, 2, 5, 6, 3, 0, 1],\n",
              " [1, 3, 5, 6, 2, 0, 4],\n",
              " [3, 6, 5, 1, 2, 0, 4],\n",
              " [6, 4, 5, 1, 2, 0, 3],\n",
              " [3, 4, 5, 6, 2, 0, 1],\n",
              " [6, 3, 5, 4, 2, 0, 1],\n",
              " [1, 6, 5, 4, 2, 0, 3],\n",
              " [3, 4, 5, 1, 6, 0, 2],\n",
              " [1, 3, 5, 4, 6, 0, 2],\n",
              " [4, 3, 5, 6, 1, 0, 2],\n",
              " [1, 4, 5, 6, 3, 0, 2],\n",
              " [4, 6, 5, 1, 3, 0, 2],\n",
              " [3, 6, 5, 4, 1, 0, 2],\n",
              " [2, 3, 1, 6, 5, 0, 4],\n",
              " [1, 2, 3, 6, 5, 0, 4],\n",
              " [2, 6, 3, 1, 5, 0, 4],\n",
              " [3, 6, 1, 2, 5, 0, 4],\n",
              " [1, 3, 6, 2, 5, 0, 4],\n",
              " [3, 2, 6, 1, 5, 0, 4],\n",
              " [6, 3, 4, 2, 5, 0, 1],\n",
              " [1, 6, 4, 2, 5, 0, 3],\n",
              " [6, 2, 4, 1, 5, 0, 3],\n",
              " [3, 2, 4, 6, 5, 0, 1],\n",
              " [1, 3, 4, 6, 5, 0, 2],\n",
              " [3, 6, 4, 1, 5, 0, 2],\n",
              " [6, 4, 3, 1, 5, 0, 2],\n",
              " [2, 4, 6, 1, 5, 0, 3],\n",
              " [6, 4, 1, 2, 5, 0, 3],\n",
              " [3, 4, 1, 6, 5, 0, 2],\n",
              " [2, 4, 3, 6, 5, 0, 1],\n",
              " [3, 4, 6, 2, 5, 0, 1],\n",
              " [6, 3, 1, 4, 5, 0, 2],\n",
              " [2, 3, 6, 4, 5, 0, 1],\n",
              " [6, 2, 3, 4, 5, 0, 1],\n",
              " [1, 6, 3, 4, 5, 0, 2],\n",
              " [2, 6, 1, 4, 5, 0, 3],\n",
              " [1, 2, 6, 4, 5, 0, 3],\n",
              " [6, 5, 3, 1, 2, 0, 4],\n",
              " [4, 5, 3, 1, 6, 0, 2],\n",
              " [2, 5, 4, 1, 6, 0, 3],\n",
              " [4, 5, 6, 1, 2, 0, 3],\n",
              " [2, 5, 6, 1, 3, 0, 4],\n",
              " [6, 5, 4, 1, 3, 0, 2],\n",
              " [4, 5, 1, 2, 6, 0, 3],\n",
              " [6, 5, 1, 2, 3, 0, 4],\n",
              " [3, 5, 1, 6, 2, 0, 4],\n",
              " [6, 5, 1, 4, 2, 0, 3],\n",
              " [3, 5, 1, 4, 6, 0, 2],\n",
              " [4, 5, 1, 6, 3, 0, 2],\n",
              " [2, 5, 3, 6, 1, 0, 4],\n",
              " [3, 5, 6, 2, 1, 0, 4],\n",
              " [6, 5, 4, 2, 1, 0, 3],\n",
              " [3, 5, 4, 6, 1, 0, 2],\n",
              " [6, 5, 3, 4, 1, 0, 2],\n",
              " [2, 5, 6, 4, 1, 0, 3],\n",
              " [3, 5, 4, 2, 6, 0, 1],\n",
              " [2, 5, 3, 4, 6, 0, 1],\n",
              " [4, 5, 3, 6, 2, 0, 1],\n",
              " [2, 5, 4, 6, 3, 0, 1],\n",
              " [4, 5, 6, 2, 3, 0, 1],\n",
              " [3, 5, 6, 4, 2, 0, 1],\n",
              " [6, 3, 1, 5, 2, 0, 4],\n",
              " [4, 3, 1, 5, 6, 0, 2],\n",
              " [2, 3, 6, 5, 1, 0, 4],\n",
              " [6, 3, 4, 5, 1, 0, 2],\n",
              " [2, 3, 4, 5, 6, 0, 1],\n",
              " [4, 3, 6, 5, 2, 0, 1],\n",
              " [6, 2, 3, 5, 1, 0, 4],\n",
              " [4, 2, 3, 5, 6, 0, 1],\n",
              " [1, 6, 3, 5, 2, 0, 4],\n",
              " [6, 4, 3, 5, 2, 0, 1],\n",
              " [1, 4, 3, 5, 6, 0, 2],\n",
              " [4, 6, 3, 5, 1, 0, 2],\n",
              " [1, 2, 4, 5, 6, 0, 3],\n",
              " [2, 4, 1, 5, 6, 0, 3],\n",
              " [4, 6, 1, 5, 2, 0, 3],\n",
              " [2, 6, 4, 5, 1, 0, 3],\n",
              " [4, 2, 6, 5, 1, 0, 3],\n",
              " [1, 4, 6, 5, 2, 0, 3],\n",
              " [2, 6, 1, 5, 3, 0, 4],\n",
              " [1, 2, 6, 5, 3, 0, 4],\n",
              " [6, 2, 4, 5, 3, 0, 1],\n",
              " [1, 6, 4, 5, 3, 0, 2],\n",
              " [6, 4, 1, 5, 3, 0, 2],\n",
              " [2, 4, 6, 5, 3, 0, 1],\n",
              " [4, 3, 1, 0, 6, 2, 5],\n",
              " [6, 3, 1, 0, 5, 2, 4],\n",
              " [5, 3, 1, 0, 2, 6, 4],\n",
              " [6, 3, 1, 0, 2, 4, 5],\n",
              " [4, 3, 1, 0, 5, 6, 2],\n",
              " [5, 3, 1, 0, 6, 4, 2],\n",
              " [2, 3, 5, 0, 1, 6, 4],\n",
              " [5, 3, 6, 0, 1, 2, 4],\n",
              " [2, 3, 6, 0, 1, 4, 5],\n",
              " [6, 3, 5, 0, 1, 4, 2],\n",
              " [6, 3, 4, 0, 1, 2, 5],\n",
              " [5, 3, 4, 0, 1, 6, 2],\n",
              " [2, 3, 4, 0, 6, 1, 5],\n",
              " [4, 3, 6, 0, 2, 1, 5],\n",
              " [6, 3, 5, 0, 2, 1, 4],\n",
              " [4, 3, 5, 0, 6, 1, 2],\n",
              " [2, 3, 6, 0, 5, 1, 4],\n",
              " [6, 3, 4, 0, 5, 1, 2],\n",
              " [4, 3, 5, 0, 2, 6, 1],\n",
              " [2, 3, 4, 0, 5, 6, 1],\n",
              " [2, 3, 5, 0, 6, 4, 1],\n",
              " [5, 3, 4, 0, 6, 2, 1],\n",
              " [4, 3, 6, 0, 5, 2, 1],\n",
              " [5, 3, 6, 0, 2, 4, 1],\n",
              " [1, 4, 3, 0, 6, 2, 5],\n",
              " [4, 6, 3, 0, 1, 2, 5],\n",
              " [1, 6, 3, 0, 5, 2, 4],\n",
              " [6, 4, 3, 0, 5, 2, 1],\n",
              " [6, 5, 3, 0, 1, 2, 4],\n",
              " [4, 5, 3, 0, 6, 2, 1],\n",
              " [5, 2, 3, 0, 1, 6, 4],\n",
              " [6, 2, 3, 0, 1, 4, 5],\n",
              " [4, 2, 3, 0, 6, 1, 5],\n",
              " [6, 2, 3, 0, 5, 1, 4],\n",
              " [4, 2, 3, 0, 5, 6, 1],\n",
              " [5, 2, 3, 0, 6, 4, 1],\n",
              " [1, 5, 3, 0, 2, 6, 4],\n",
              " [5, 6, 3, 0, 2, 1, 4],\n",
              " [1, 6, 3, 0, 2, 4, 5],\n",
              " [6, 5, 3, 0, 2, 4, 1],\n",
              " [6, 4, 3, 0, 2, 1, 5],\n",
              " [5, 4, 3, 0, 2, 6, 1],\n",
              " [1, 4, 3, 0, 5, 6, 2],\n",
              " [4, 5, 3, 0, 1, 6, 2],\n",
              " [1, 5, 3, 0, 6, 4, 2],\n",
              " [5, 4, 3, 0, 6, 1, 2],\n",
              " [5, 6, 3, 0, 1, 4, 2],\n",
              " [4, 6, 3, 0, 5, 1, 2],\n",
              " [4, 2, 5, 0, 1, 6, 3],\n",
              " [1, 4, 5, 0, 2, 6, 3],\n",
              " [1, 2, 4, 0, 5, 6, 3],\n",
              " [2, 4, 1, 0, 5, 6, 3],\n",
              " [4, 5, 1, 0, 2, 6, 3],\n",
              " [2, 5, 4, 0, 1, 6, 3],\n",
              " [1, 2, 5, 0, 6, 4, 3],\n",
              " [2, 5, 1, 0, 6, 4, 3],\n",
              " [1, 5, 4, 0, 6, 2, 3],\n",
              " [5, 2, 4, 0, 6, 1, 3],\n",
              " [5, 4, 1, 0, 6, 2, 3],\n",
              " [2, 4, 5, 0, 6, 1, 3],\n",
              " [4, 6, 1, 0, 5, 2, 3],\n",
              " [5, 6, 1, 0, 2, 4, 3],\n",
              " [2, 6, 5, 0, 1, 4, 3],\n",
              " [5, 6, 4, 0, 1, 2, 3],\n",
              " [4, 6, 5, 0, 2, 1, 3],\n",
              " [2, 6, 4, 0, 5, 1, 3],\n",
              " [1, 4, 6, 0, 5, 2, 3],\n",
              " [4, 5, 6, 0, 1, 2, 3],\n",
              " [5, 2, 6, 0, 1, 4, 3],\n",
              " [4, 2, 6, 0, 5, 1, 3],\n",
              " [1, 5, 6, 0, 2, 4, 3],\n",
              " [5, 4, 6, 0, 2, 1, 3],\n",
              " [1, 2, 4, 0, 6, 3, 5],\n",
              " [2, 4, 1, 0, 6, 3, 5],\n",
              " [4, 6, 1, 0, 2, 3, 5],\n",
              " [2, 6, 4, 0, 1, 3, 5],\n",
              " [4, 2, 6, 0, 1, 3, 5],\n",
              " [1, 4, 6, 0, 2, 3, 5],\n",
              " [6, 2, 5, 0, 1, 3, 4],\n",
              " [4, 2, 5, 0, 6, 3, 1],\n",
              " [1, 6, 5, 0, 2, 3, 4],\n",
              " [6, 4, 5, 0, 2, 3, 1],\n",
              " [1, 4, 5, 0, 6, 3, 2],\n",
              " [4, 6, 5, 0, 1, 3, 2],\n",
              " [2, 6, 1, 0, 5, 3, 4],\n",
              " [1, 2, 6, 0, 5, 3, 4],\n",
              " [6, 2, 4, 0, 5, 3, 1],\n",
              " [1, 6, 4, 0, 5, 3, 2],\n",
              " [6, 4, 1, 0, 5, 3, 2],\n",
              " [2, 4, 6, 0, 5, 3, 1],\n",
              " [6, 5, 1, 0, 2, 3, 4],\n",
              " [4, 5, 1, 0, 6, 3, 2],\n",
              " [2, 5, 6, 0, 1, 3, 4],\n",
              " [6, 5, 4, 0, 1, 3, 2],\n",
              " [2, 5, 4, 0, 6, 3, 1],\n",
              " [4, 5, 6, 0, 2, 3, 1],\n",
              " [1, 2, 5, 0, 3, 6, 4],\n",
              " [2, 5, 1, 0, 3, 6, 4],\n",
              " [5, 6, 1, 0, 3, 2, 4],\n",
              " [2, 6, 5, 0, 3, 1, 4],\n",
              " [1, 5, 6, 0, 3, 2, 4],\n",
              " [5, 2, 6, 0, 3, 1, 4],\n",
              " [2, 6, 1, 0, 3, 4, 5],\n",
              " [1, 2, 6, 0, 3, 4, 5],\n",
              " [6, 2, 5, 0, 3, 4, 1],\n",
              " [1, 6, 5, 0, 3, 4, 2],\n",
              " [6, 5, 1, 0, 3, 4, 2],\n",
              " [2, 5, 6, 0, 3, 4, 1],\n",
              " [1, 6, 4, 0, 3, 2, 5],\n",
              " [6, 5, 4, 0, 3, 2, 1],\n",
              " [6, 2, 4, 0, 3, 1, 5],\n",
              " [5, 2, 4, 0, 3, 6, 1],\n",
              " [1, 5, 4, 0, 3, 6, 2],\n",
              " [5, 6, 4, 0, 3, 1, 2],\n",
              " [6, 4, 1, 0, 3, 2, 5],\n",
              " [5, 4, 1, 0, 3, 6, 2],\n",
              " [2, 4, 6, 0, 3, 1, 5],\n",
              " [6, 4, 5, 0, 3, 1, 2],\n",
              " [2, 4, 5, 0, 3, 6, 1],\n",
              " [5, 4, 6, 0, 3, 2, 1],\n",
              " [1, 3, 5, 2, 0, 6, 4],\n",
              " [3, 2, 5, 1, 0, 6, 4],\n",
              " [2, 5, 3, 1, 0, 6, 4],\n",
              " [3, 5, 1, 2, 0, 6, 4],\n",
              " [2, 3, 1, 5, 0, 6, 4],\n",
              " [1, 2, 3, 5, 0, 6, 4],\n",
              " [5, 3, 1, 6, 0, 2, 4],\n",
              " [2, 3, 5, 6, 0, 1, 4],\n",
              " [1, 5, 3, 6, 0, 2, 4],\n",
              " [5, 2, 3, 6, 0, 1, 4],\n",
              " [1, 2, 5, 6, 0, 3, 4],\n",
              " [2, 5, 1, 6, 0, 3, 4],\n",
              " [5, 6, 3, 1, 0, 2, 4],\n",
              " [2, 6, 5, 1, 0, 3, 4],\n",
              " [3, 6, 1, 5, 0, 2, 4],\n",
              " [5, 6, 1, 2, 0, 3, 4],\n",
              " [3, 6, 5, 2, 0, 1, 4],\n",
              " [2, 6, 3, 5, 0, 1, 4],\n",
              " [3, 5, 6, 1, 0, 2, 4],\n",
              " [1, 3, 6, 5, 0, 2, 4],\n",
              " [5, 3, 6, 2, 0, 1, 4],\n",
              " [1, 5, 6, 2, 0, 3, 4],\n",
              " [5, 2, 6, 1, 0, 3, 4],\n",
              " [3, 2, 6, 5, 0, 1, 4],\n",
              " [2, 3, 1, 6, 0, 4, 5],\n",
              " [1, 2, 3, 6, 0, 4, 5],\n",
              " [2, 6, 3, 1, 0, 4, 5],\n",
              " [3, 6, 1, 2, 0, 4, 5],\n",
              " [1, 3, 6, 2, 0, 4, 5],\n",
              " [3, 2, 6, 1, 0, 4, 5],\n",
              " [6, 3, 5, 2, 0, 4, 1],\n",
              " [1, 6, 5, 2, 0, 4, 3],\n",
              " [6, 2, 5, 1, 0, 4, 3],\n",
              " [3, 2, 5, 6, 0, 4, 1],\n",
              " [1, 3, 5, 6, 0, 4, 2],\n",
              " [3, 6, 5, 1, 0, 4, 2],\n",
              " [6, 5, 3, 1, 0, 4, 2],\n",
              " [2, 5, 6, 1, 0, 4, 3],\n",
              " [6, 5, 1, 2, 0, 4, 3],\n",
              " [3, 5, 1, 6, 0, 4, 2],\n",
              " [2, 5, 3, 6, 0, 4, 1],\n",
              " [3, 5, 6, 2, 0, 4, 1],\n",
              " [6, 3, 1, 5, 0, 4, 2],\n",
              " [2, 3, 6, 5, 0, 4, 1],\n",
              " [6, 2, 3, 5, 0, 4, 1],\n",
              " [1, 6, 3, 5, 0, 4, 2],\n",
              " [2, 6, 1, 5, 0, 4, 3],\n",
              " [1, 2, 6, 5, 0, 4, 3],\n",
              " [1, 3, 4, 6, 0, 2, 5],\n",
              " [3, 6, 4, 1, 0, 2, 5],\n",
              " [6, 5, 4, 1, 0, 2, 3],\n",
              " [3, 5, 4, 6, 0, 2, 1],\n",
              " [6, 3, 4, 5, 0, 2, 1],\n",
              " [1, 6, 4, 5, 0, 2, 3],\n",
              " [6, 3, 4, 2, 0, 1, 5],\n",
              " [5, 3, 4, 2, 0, 6, 1],\n",
              " [1, 5, 4, 2, 0, 6, 3],\n",
              " [5, 6, 4, 2, 0, 1, 3],\n",
              " [1, 6, 4, 2, 0, 3, 5],\n",
              " [6, 5, 4, 2, 0, 3, 1],\n",
              " [5, 2, 4, 1, 0, 6, 3],\n",
              " [6, 2, 4, 1, 0, 3, 5],\n",
              " [3, 2, 4, 6, 0, 1, 5],\n",
              " [6, 2, 4, 5, 0, 1, 3],\n",
              " [3, 2, 4, 5, 0, 6, 1],\n",
              " [5, 2, 4, 6, 0, 3, 1],\n",
              " [3, 5, 4, 1, 0, 6, 2],\n",
              " [1, 3, 4, 5, 0, 6, 2],\n",
              " [5, 3, 4, 6, 0, 1, 2],\n",
              " [1, 5, 4, 6, 0, 3, 2],\n",
              " [5, 6, 4, 1, 0, 3, 2],\n",
              " [3, 6, 4, 5, 0, 1, 2],\n",
              " [6, 4, 3, 1, 0, 2, 5],\n",
              " [5, 4, 3, 1, 0, 6, 2],\n",
              " [2, 4, 5, 1, 0, 6, 3],\n",
              " [5, 4, 6, 1, 0, 2, 3],\n",
              " [2, 4, 6, 1, 0, 3, 5],\n",
              " [6, 4, 5, 1, 0, 3, 2],\n",
              " [3, 4, 1, 6, 0, 2, 5],\n",
              " [6, 4, 1, 5, 0, 2, 3],\n",
              " [5, 4, 1, 2, 0, 6, 3],\n",
              " [6, 4, 1, 2, 0, 3, 5],\n",
              " [3, 4, 1, 5, 0, 6, 2],\n",
              " [5, 4, 1, 6, 0, 3, 2],\n",
              " [2, 4, 3, 6, 0, 1, 5],\n",
              " [3, 4, 6, 2, 0, 1, 5],\n",
              " [6, 4, 5, 2, 0, 1, 3],\n",
              " [3, 4, 5, 6, 0, 1, 2],\n",
              " [6, 4, 3, 5, 0, 1, 2],\n",
              " [2, 4, 6, 5, 0, 1, 3],\n",
              " [3, 4, 5, 2, 0, 6, 1],\n",
              " [2, 4, 3, 5, 0, 6, 1],\n",
              " [5, 4, 3, 6, 0, 2, 1],\n",
              " [2, 4, 5, 6, 0, 3, 1],\n",
              " [3, 4, 6, 5, 0, 2, 1],\n",
              " [5, 4, 6, 2, 0, 3, 1],\n",
              " [6, 3, 1, 4, 0, 2, 5],\n",
              " [5, 3, 1, 4, 0, 6, 2],\n",
              " [2, 3, 6, 4, 0, 1, 5],\n",
              " [6, 3, 5, 4, 0, 1, 2],\n",
              " [2, 3, 5, 4, 0, 6, 1],\n",
              " [5, 3, 6, 4, 0, 2, 1],\n",
              " [1, 6, 3, 4, 0, 2, 5],\n",
              " [6, 5, 3, 4, 0, 2, 1],\n",
              " [6, 2, 3, 4, 0, 1, 5],\n",
              " [5, 2, 3, 4, 0, 6, 1],\n",
              " [1, 5, 3, 4, 0, 6, 2],\n",
              " [5, 6, 3, 4, 0, 1, 2],\n",
              " [1, 2, 5, 4, 0, 6, 3],\n",
              " [2, 5, 1, 4, 0, 6, 3],\n",
              " [5, 6, 1, 4, 0, 2, 3],\n",
              " [2, 6, 5, 4, 0, 1, 3],\n",
              " [1, 5, 6, 4, 0, 2, 3],\n",
              " [5, 2, 6, 4, 0, 1, 3],\n",
              " [2, 6, 1, 4, 0, 3, 5],\n",
              " [1, 2, 6, 4, 0, 3, 5],\n",
              " [6, 2, 5, 4, 0, 3, 1],\n",
              " [1, 6, 5, 4, 0, 3, 2],\n",
              " [6, 5, 1, 4, 0, 3, 2],\n",
              " [2, 5, 6, 4, 0, 3, 1],\n",
              " [4, 3, 5, 2, 1, 6, 0],\n",
              " [1, 4, 5, 2, 3, 6, 0],\n",
              " [4, 2, 5, 1, 3, 6, 0],\n",
              " [3, 2, 5, 4, 1, 6, 0],\n",
              " [3, 4, 5, 1, 2, 6, 0],\n",
              " [1, 3, 5, 4, 2, 6, 0],\n",
              " [1, 3, 4, 2, 5, 6, 0],\n",
              " [3, 2, 4, 1, 5, 6, 0],\n",
              " [2, 4, 3, 1, 5, 6, 0],\n",
              " [3, 4, 1, 2, 5, 6, 0],\n",
              " [2, 3, 1, 4, 5, 6, 0],\n",
              " [1, 2, 3, 4, 5, 6, 0],\n",
              " [4, 5, 3, 1, 2, 6, 0],\n",
              " [2, 5, 4, 1, 3, 6, 0],\n",
              " [4, 5, 1, 2, 3, 6, 0],\n",
              " [3, 5, 1, 4, 2, 6, 0],\n",
              " [3, 5, 4, 2, 1, 6, 0],\n",
              " [2, 5, 3, 4, 1, 6, 0],\n",
              " [4, 3, 1, 5, 2, 6, 0],\n",
              " [2, 3, 4, 5, 1, 6, 0],\n",
              " [4, 2, 3, 5, 1, 6, 0],\n",
              " [1, 4, 3, 5, 2, 6, 0],\n",
              " [1, 2, 4, 5, 3, 6, 0],\n",
              " [2, 4, 1, 5, 3, 6, 0],\n",
              " [1, 3, 5, 2, 6, 4, 0],\n",
              " [3, 2, 5, 1, 6, 4, 0],\n",
              " [2, 5, 3, 1, 6, 4, 0],\n",
              " [3, 5, 1, 2, 6, 4, 0],\n",
              " [2, 3, 1, 5, 6, 4, 0],\n",
              " [1, 2, 3, 5, 6, 4, 0],\n",
              " [3, 5, 4, 1, 6, 2, 0],\n",
              " [1, 3, 4, 5, 6, 2, 0],\n",
              " [5, 3, 4, 2, 6, 1, 0],\n",
              " [1, 5, 4, 2, 6, 3, 0],\n",
              " [5, 2, 4, 1, 6, 3, 0],\n",
              " [3, 2, 4, 5, 6, 1, 0],\n",
              " [5, 4, 3, 1, 6, 2, 0],\n",
              " [2, 4, 5, 1, 6, 3, 0],\n",
              " [3, 4, 1, 5, 6, 2, 0],\n",
              " [5, 4, 1, 2, 6, 3, 0],\n",
              " [3, 4, 5, 2, 6, 1, 0],\n",
              " [2, 4, 3, 5, 6, 1, 0],\n",
              " [5, 3, 1, 4, 6, 2, 0],\n",
              " [2, 3, 5, 4, 6, 1, 0],\n",
              " [1, 5, 3, 4, 6, 2, 0],\n",
              " [5, 2, 3, 4, 6, 1, 0],\n",
              " [1, 2, 5, 4, 6, 3, 0],\n",
              " [2, 5, 1, 4, 6, 3, 0],\n",
              " [4, 3, 1, 6, 5, 2, 0],\n",
              " [5, 3, 1, 6, 2, 4, 0],\n",
              " [2, 3, 5, 6, 1, 4, 0],\n",
              " [5, 3, 4, 6, 1, 2, 0],\n",
              " [4, 3, 5, 6, 2, 1, 0],\n",
              " [2, 3, 4, 6, 5, 1, 0],\n",
              " [1, 4, 3, 6, 5, 2, 0],\n",
              " [4, 5, 3, 6, 1, 2, 0],\n",
              " [5, 2, 3, 6, 1, 4, 0],\n",
              " [4, 2, 3, 6, 5, 1, 0],\n",
              " [1, 5, 3, 6, 2, 4, 0],\n",
              " [5, 4, 3, 6, 2, 1, 0],\n",
              " [4, 2, 5, 6, 1, 3, 0],\n",
              " [1, 4, 5, 6, 2, 3, 0],\n",
              " [1, 2, 4, 6, 5, 3, 0],\n",
              " [2, 4, 1, 6, 5, 3, 0],\n",
              " [4, 5, 1, 6, 2, 3, 0],\n",
              " [2, 5, 4, 6, 1, 3, 0],\n",
              " [1, 2, 5, 6, 3, 4, 0],\n",
              " [2, 5, 1, 6, 3, 4, 0],\n",
              " [1, 5, 4, 6, 3, 2, 0],\n",
              " [5, 2, 4, 6, 3, 1, 0],\n",
              " [5, 4, 1, 6, 3, 2, 0],\n",
              " [2, 4, 5, 6, 3, 1, 0],\n",
              " [4, 6, 3, 1, 5, 2, 0],\n",
              " [5, 6, 3, 1, 2, 4, 0],\n",
              " [4, 6, 5, 1, 2, 3, 0],\n",
              " [2, 6, 4, 1, 5, 3, 0],\n",
              " [2, 6, 5, 1, 3, 4, 0],\n",
              " [5, 6, 4, 1, 3, 2, 0],\n",
              " [3, 6, 1, 4, 5, 2, 0],\n",
              " [4, 6, 1, 5, 3, 2, 0],\n",
              " [4, 6, 1, 2, 5, 3, 0],\n",
              " [5, 6, 1, 2, 3, 4, 0],\n",
              " [3, 6, 1, 5, 2, 4, 0],\n",
              " [5, 6, 1, 4, 2, 3, 0],\n",
              " [3, 6, 5, 2, 1, 4, 0],\n",
              " [2, 6, 3, 5, 1, 4, 0],\n",
              " [3, 6, 4, 5, 1, 2, 0],\n",
              " [5, 6, 4, 2, 1, 3, 0],\n",
              " [5, 6, 3, 4, 1, 2, 0],\n",
              " [2, 6, 5, 4, 1, 3, 0],\n",
              " [4, 6, 5, 2, 3, 1, 0],\n",
              " [3, 6, 5, 4, 2, 1, 0],\n",
              " [3, 6, 4, 2, 5, 1, 0],\n",
              " [2, 6, 3, 4, 5, 1, 0],\n",
              " [4, 6, 3, 5, 2, 1, 0],\n",
              " [2, 6, 4, 5, 3, 1, 0],\n",
              " [3, 4, 6, 1, 5, 2, 0],\n",
              " [1, 3, 6, 4, 5, 2, 0],\n",
              " [4, 5, 6, 1, 3, 2, 0],\n",
              " [3, 5, 6, 4, 1, 2, 0],\n",
              " [4, 3, 6, 5, 1, 2, 0],\n",
              " [1, 4, 6, 5, 3, 2, 0],\n",
              " [5, 3, 6, 2, 1, 4, 0],\n",
              " [4, 3, 6, 2, 5, 1, 0],\n",
              " [1, 4, 6, 2, 5, 3, 0],\n",
              " [4, 5, 6, 2, 1, 3, 0],\n",
              " [1, 5, 6, 2, 3, 4, 0],\n",
              " [5, 4, 6, 2, 3, 1, 0],\n",
              " [4, 2, 6, 1, 5, 3, 0],\n",
              " [5, 2, 6, 1, 3, 4, 0],\n",
              " [3, 2, 6, 5, 1, 4, 0],\n",
              " [5, 2, 6, 4, 1, 3, 0],\n",
              " [3, 2, 6, 4, 5, 1, 0],\n",
              " [4, 2, 6, 5, 3, 1, 0],\n",
              " [3, 5, 6, 1, 2, 4, 0],\n",
              " [1, 3, 6, 5, 2, 4, 0],\n",
              " [5, 4, 6, 1, 2, 3, 0],\n",
              " [3, 4, 6, 5, 2, 1, 0],\n",
              " [5, 3, 6, 4, 2, 1, 0],\n",
              " [1, 5, 6, 4, 2, 3, 0]]"
            ]
          },
          "metadata": {
            "tags": []
          },
          "execution_count": 103
        }
      ]
    },
    {
      "cell_type": "code",
      "metadata": {
        "colab": {
          "base_uri": "https://localhost:8080/",
          "height": 55
        },
        "id": "tD5aSUVbL2c6",
        "outputId": "e03c085c-66e7-4ed6-9be7-11319df1bffb"
      },
      "source": [
        "#Elija el camino que desee dibujar\n",
        "G_n = nx.DiGraph()\n",
        "for i,value in enumerate(lstPth[2]): #<---Elija \n",
        "  G_n.add_edge(nameNode(value) ,nameNode(i))\n",
        "\n",
        "nx2gv(G_n)"
      ],
      "execution_count": 104,
      "outputs": [
        {
          "output_type": "execute_result",
          "data": {
            "text/plain": [
              "<graphviz.dot.Digraph at 0x7fb513443390>"
            ],
            "image/svg+xml": "<?xml version=\"1.0\" encoding=\"UTF-8\" standalone=\"no\"?>\n<!DOCTYPE svg PUBLIC \"-//W3C//DTD SVG 1.1//EN\"\n \"http://www.w3.org/Graphics/SVG/1.1/DTD/svg11.dtd\">\n<!-- Generated by graphviz version 2.40.1 (20161225.0304)\n -->\n<!-- Title: G Pages: 1 -->\n<svg width=\"432pt\" height=\"26pt\"\n viewBox=\"0.00 0.00 432.00 26.03\" xmlns=\"http://www.w3.org/2000/svg\" xmlns:xlink=\"http://www.w3.org/1999/xlink\">\n<g id=\"graph0\" class=\"graph\" transform=\"scale(.3615 .3615) rotate(0) translate(4 68)\">\n<title>G</title>\n<polygon fill=\"#ffffff\" stroke=\"transparent\" points=\"-4,4 -4,-68 1191.0138,-68 1191.0138,4 -4,4\"/>\n<!-- MATULI -->\n<g id=\"node1\" class=\"node\">\n<title>MATULI</title>\n<ellipse fill=\"none\" stroke=\"#000000\" cx=\"46.1459\" cy=\"-23\" rx=\"46.2923\" ry=\"18\"/>\n<text text-anchor=\"middle\" x=\"46.1459\" y=\"-19.3\" font-family=\"Times,serif\" font-size=\"14.00\" fill=\"#000000\">MATULI</text>\n</g>\n<!-- LONYA GRANDE -->\n<g id=\"node2\" class=\"node\">\n<title>LONYA GRANDE</title>\n<ellipse fill=\"none\" stroke=\"#000000\" cx=\"212.7843\" cy=\"-46\" rx=\"84.485\" ry=\"18\"/>\n<text text-anchor=\"middle\" x=\"212.7843\" y=\"-42.3\" font-family=\"Times,serif\" font-size=\"14.00\" fill=\"#000000\">LONYA GRANDE</text>\n</g>\n<!-- MATULI&#45;&gt;LONYA GRANDE -->\n<g id=\"edge1\" class=\"edge\">\n<title>MATULI&#45;&gt;LONYA GRANDE</title>\n<path fill=\"none\" stroke=\"#000000\" d=\"M89.9282,-29.043C102.7775,-30.8165 117.2599,-32.8154 131.6551,-34.8023\"/>\n<polygon fill=\"#000000\" stroke=\"#000000\" points=\"131.2013,-38.2727 141.5859,-36.173 132.1584,-31.3385 131.2013,-38.2727\"/>\n</g>\n<!-- NARANJITOS -->\n<g id=\"node3\" class=\"node\">\n<title>NARANJITOS</title>\n<ellipse fill=\"none\" stroke=\"#000000\" cx=\"402.1707\" cy=\"-46\" rx=\"68.7879\" ry=\"18\"/>\n<text text-anchor=\"middle\" x=\"402.1707\" y=\"-42.3\" font-family=\"Times,serif\" font-size=\"14.00\" fill=\"#000000\">NARANJITOS</text>\n</g>\n<!-- LONYA GRANDE&#45;&gt;NARANJITOS -->\n<g id=\"edge2\" class=\"edge\">\n<title>LONYA GRANDE&#45;&gt;NARANJITOS</title>\n<path fill=\"none\" stroke=\"#000000\" d=\"M297.5068,-46C305.9789,-46 314.5588,-46 322.9709,-46\"/>\n<polygon fill=\"#000000\" stroke=\"#000000\" points=\"323.1302,-49.5001 333.1302,-46 323.1301,-42.5001 323.1302,-49.5001\"/>\n</g>\n<!-- MANCARRON -->\n<g id=\"node4\" class=\"node\">\n<title>MANCARRON</title>\n<ellipse fill=\"none\" stroke=\"#000000\" cx=\"579.2082\" cy=\"-46\" rx=\"72.2875\" ry=\"18\"/>\n<text text-anchor=\"middle\" x=\"579.2082\" y=\"-42.3\" font-family=\"Times,serif\" font-size=\"14.00\" fill=\"#000000\">MANCARRON</text>\n</g>\n<!-- NARANJITOS&#45;&gt;MANCARRON -->\n<g id=\"edge3\" class=\"edge\">\n<title>NARANJITOS&#45;&gt;MANCARRON</title>\n<path fill=\"none\" stroke=\"#000000\" d=\"M471.125,-46C479.5686,-46 488.2622,-46 496.8773,-46\"/>\n<polygon fill=\"#000000\" stroke=\"#000000\" points=\"496.935,-49.5001 506.9349,-46 496.9349,-42.5001 496.935,-49.5001\"/>\n</g>\n<!-- PUERTO NARANJITOS -->\n<g id=\"node5\" class=\"node\">\n<title>PUERTO NARANJITOS</title>\n<ellipse fill=\"none\" stroke=\"#000000\" cx=\"795.2422\" cy=\"-46\" rx=\"107.781\" ry=\"18\"/>\n<text text-anchor=\"middle\" x=\"795.2422\" y=\"-42.3\" font-family=\"Times,serif\" font-size=\"14.00\" fill=\"#000000\">PUERTO NARANJITOS</text>\n</g>\n<!-- MANCARRON&#45;&gt;PUERTO NARANJITOS -->\n<g id=\"edge4\" class=\"edge\">\n<title>MANCARRON&#45;&gt;PUERTO NARANJITOS</title>\n<path fill=\"none\" stroke=\"#000000\" d=\"M651.4447,-46C659.7321,-46 668.3361,-46 677.0291,-46\"/>\n<polygon fill=\"#000000\" stroke=\"#000000\" points=\"677.2611,-49.5001 687.2611,-46 677.261,-42.5001 677.2611,-49.5001\"/>\n</g>\n<!-- BOLIVIA -->\n<g id=\"node6\" class=\"node\">\n<title>BOLIVIA</title>\n<ellipse fill=\"none\" stroke=\"#000000\" cx=\"988.5283\" cy=\"-46\" rx=\"49.2915\" ry=\"18\"/>\n<text text-anchor=\"middle\" x=\"988.5283\" y=\"-42.3\" font-family=\"Times,serif\" font-size=\"14.00\" fill=\"#000000\">BOLIVIA</text>\n</g>\n<!-- PUERTO NARANJITOS&#45;&gt;BOLIVIA -->\n<g id=\"edge5\" class=\"edge\">\n<title>PUERTO NARANJITOS&#45;&gt;BOLIVIA</title>\n<path fill=\"none\" stroke=\"#000000\" d=\"M903.1875,-46C911.943,-46 920.573,-46 928.7847,-46\"/>\n<polygon fill=\"#000000\" stroke=\"#000000\" points=\"928.9406,-49.5001 938.9406,-46 928.9405,-42.5001 928.9406,-49.5001\"/>\n</g>\n<!-- ARCURCO -->\n<g id=\"node7\" class=\"node\">\n<title>ARCURCO</title>\n<ellipse fill=\"none\" stroke=\"#000000\" cx=\"1130.4689\" cy=\"-23\" rx=\"56.59\" ry=\"18\"/>\n<text text-anchor=\"middle\" x=\"1130.4689\" y=\"-19.3\" font-family=\"Times,serif\" font-size=\"14.00\" fill=\"#000000\">ARCURCO</text>\n</g>\n<!-- BOLIVIA&#45;&gt;ARCURCO -->\n<g id=\"edge6\" class=\"edge\">\n<title>BOLIVIA&#45;&gt;ARCURCO</title>\n<path fill=\"none\" stroke=\"#000000\" d=\"M1033.8294,-38.6594C1045.2387,-36.8107 1057.6709,-34.7962 1069.7034,-32.8464\"/>\n<polygon fill=\"#000000\" stroke=\"#000000\" points=\"1070.374,-36.2835 1079.6854,-31.2289 1069.2543,-29.3736 1070.374,-36.2835\"/>\n</g>\n<!-- ARCURCO&#45;&gt;MATULI -->\n<g id=\"edge7\" class=\"edge\">\n<title>ARCURCO&#45;&gt;MATULI</title>\n<path fill=\"none\" stroke=\"#000000\" d=\"M1076.8417,-17.047C1010.7182,-10.2322 894.8507,0 795.2422,0 402.1707,0 402.1707,0 402.1707,0 295.3884,0 170.965,-10.4309 101.0884,-17.2436\"/>\n<polygon fill=\"#000000\" stroke=\"#000000\" points=\"100.3759,-13.7968 90.7681,-18.2623 101.0636,-20.763 100.3759,-13.7968\"/>\n</g>\n</g>\n</svg>\n"
          },
          "metadata": {
            "tags": []
          },
          "execution_count": 104
        }
      ]
    },
    {
      "cell_type": "markdown",
      "metadata": {
        "id": "0M6WQe-prvlT"
      },
      "source": [
        "#Dijkstra menor camino"
      ]
    },
    {
      "cell_type": "code",
      "metadata": {
        "id": "hD2_jtQwsVmT"
      },
      "source": [
        "\n",
        "cont_hop=[0]\n",
        "all_path=[]\n",
        "weights=[]\n",
        "def _dijkstra_for_shorter(G,s,q):\n",
        "  if len(q)!=0:\n",
        "    g_u, u = hq.heappop(q) \n",
        "    if not G.nodes[u]['visited']: \n",
        "      G.nodes[u]['visited'] = True \n",
        "      if cont_hop[0]==(len(G.nodes())-1):\n",
        "        G.nodes[0]['visited'] = False\n",
        "      for v in G.neighbors(u): \n",
        "        if not G.nodes[v]['visited']: \n",
        "          if G.nodes[v]['prime']==True and cont_hop[0]==(len(G.nodes())-1):\n",
        "            w_uv = G.edges[u, v]['weight']\n",
        "            f_v  = g_u + w_uv \n",
        "            weights.append(f_v)\n",
        "            G.nodes[v]['path'] = u \n",
        "            pathTotal=calculatePath(G)\n",
        "            all_path.append(pathTotal)\n",
        "            G.nodes[v]['path'] = -1\n",
        "            G.nodes[v]['cost'] = math.inf\n",
        "            G.nodes[v]['visited'] = True \n",
        "          \n",
        "          elif not G.nodes[v]['prime']:\n",
        "            cont_hop[0]=cont_hop[0]+1  \n",
        "            w_uv = G.edges[u, v]['weight'] \n",
        "            f_v  = g_u + w_uv \n",
        "            g_v  = G.nodes[v]['cost']\n",
        "            if f_v < g_v:         \n",
        "              G.nodes[v]['cost'] = f_v \n",
        "              G.nodes[v]['path'] = u \n",
        "              hq.heappush(q, (f_v, v)) \n",
        "              _dijkstra_for_shorter(G,s,q)\n",
        "              cont_hop[0]=cont_hop[0]-1\n",
        "              G.nodes[v]['path'] = -1\n",
        "              G.nodes[v]['cost'] = math.inf\n",
        "              G.nodes[v]['visited'] = False\n",
        "\n",
        "              \n",
        "      \n",
        "        \n",
        "  \n",
        "\n",
        "def dijkstra_for_shorter(G, s):\n",
        "  for u in G.nodes:\n",
        "    G.nodes[u]['visited'] = False      \n",
        "    G.nodes[u]['path']    = -1         \n",
        "    G.nodes[u]['cost']    = math.inf   \n",
        "    #\n",
        "    G.nodes[u]['prime'] = False\n",
        "\n",
        "  G.nodes[s]['cost'] = 0\n",
        "  G.nodes[s]['prime']= True \n",
        "  q = [(0, s)] \n",
        "  \n",
        "  _dijkstra(G,s,q)\n",
        "  return min(weights)\n",
        "\n"
      ],
      "execution_count": 105,
      "outputs": []
    },
    {
      "cell_type": "code",
      "metadata": {
        "id": "zLBBbe3CsJMf"
      },
      "source": [
        "cont_hop=[0]\n",
        "#all_path=[]\n",
        "paths_min=[]\n",
        "weights=[]\n",
        "def _dijkstraFindShorter(G,s,q,min_path):\n",
        "  if len(q)!=0:\n",
        "    g_u, u = hq.heappop(q) \n",
        "    if not G.nodes[u]['visited']: \n",
        "      G.nodes[u]['visited'] = True \n",
        "      if cont_hop[0]==(len(G.nodes())-1):\n",
        "        G.nodes[0]['visited'] = False\n",
        "      for v in G.neighbors(u): \n",
        "        if not G.nodes[v]['visited']: \n",
        "          if G.nodes[v]['prime']==True and cont_hop[0]==(len(G.nodes())-1):\n",
        "            w_uv = G.edges[u, v]['weight']\n",
        "            f_v  = g_u + w_uv \n",
        "            weights.append(f_v)\n",
        "            G.nodes[v]['path'] = u \n",
        "            pathTotal=calculatePath(G)\n",
        "            #all_path.append(pathTotal)\n",
        "            G.nodes[v]['path'] = -1\n",
        "            G.nodes[v]['cost'] = math.inf\n",
        "            G.nodes[v]['visited'] = True\n",
        "            if min_path == f_v:\n",
        "              print(\"EL PESO DE ESTE CAMINO ES \",min_path)\n",
        "              paths_min.append(pathTotal)\n",
        "\n",
        "          elif not G.nodes[v]['prime']:\n",
        "            cont_hop[0]=cont_hop[0]+1  \n",
        "            w_uv = G.edges[u, v]['weight'] \n",
        "            f_v  = g_u + w_uv \n",
        "            g_v  = G.nodes[v]['cost']\n",
        "            if f_v < g_v:         \n",
        "              G.nodes[v]['cost'] = f_v \n",
        "              G.nodes[v]['path'] = u \n",
        "              hq.heappush(q, (f_v, v)) \n",
        "              _dijkstraFindShorter(G,s,q,min_path)\n",
        "              cont_hop[0]=cont_hop[0]-1\n",
        "              G.nodes[v]['path'] = -1\n",
        "              G.nodes[v]['cost'] = math.inf\n",
        "              G.nodes[v]['visited'] = False\n",
        "\n",
        "              \n",
        "      \n",
        "        \n",
        "  \n",
        "\n",
        "def dijkstra2(G, s, min_path):\n",
        "  for u in G.nodes:\n",
        "    G.nodes[u]['visited'] = False      \n",
        "    G.nodes[u]['path']    = -1         \n",
        "    G.nodes[u]['cost']    = math.inf   \n",
        "    #\n",
        "    G.nodes[u]['prime'] = False\n",
        "\n",
        "  G.nodes[s]['cost'] = 0\n",
        "  G.nodes[s]['prime']= True \n",
        "  q = [(0, s)] \n",
        "  \n",
        "  _dijkstraFindShorter(G,s,q,min_path)\n",
        "  #print(\"hola\")\n",
        "  return paths_min"
      ],
      "execution_count": 106,
      "outputs": []
    },
    {
      "cell_type": "code",
      "metadata": {
        "id": "c6dvbMgEsK2S"
      },
      "source": [
        "def shorterPath(G,s):\n",
        "  #Para que mini se llene del minimo tiene que pasarle el minimo de la lista de pesos que esta en la funcion dijkstra\n",
        "  Mini=dijkstra_for_shorter(G, s)\n",
        "  return dijkstra2(G, s, Mini)\n"
      ],
      "execution_count": 107,
      "outputs": []
    },
    {
      "cell_type": "code",
      "metadata": {
        "colab": {
          "base_uri": "https://localhost:8080/"
        },
        "id": "C8DtV7YdA-ll",
        "outputId": "672a2bc2-6d0e-40e1-cf5c-aea396ac62fe"
      },
      "source": [
        "#Le pasamos a una lista el camino mas corto encontrado\n",
        "print(\"LOS CAMINOS MÁS CORTOS DEL GRAFO\")\n",
        "lstShort=shorterPath(G,0)"
      ],
      "execution_count": 108,
      "outputs": [
        {
          "output_type": "stream",
          "text": [
            "LOS CAMINOS MÁS CORTOS DEL GRAFO\n",
            "EL PESO DE ESTE CAMINO ES  0.6651169497726548\n",
            "EL PESO DE ESTE CAMINO ES  0.6651169497726548\n"
          ],
          "name": "stdout"
        }
      ]
    },
    {
      "cell_type": "code",
      "metadata": {
        "colab": {
          "base_uri": "https://localhost:8080/"
        },
        "id": "VUbcGJNoEt2j",
        "outputId": "e963b4d2-817a-438a-d068-d859e204ebaf"
      },
      "source": [
        "print(lstShort)"
      ],
      "execution_count": 109,
      "outputs": [
        {
          "output_type": "stream",
          "text": [
            "[[3, 0, 1, 4, 5, 6, 2], [1, 2, 6, 0, 3, 4, 5]]\n"
          ],
          "name": "stdout"
        }
      ]
    },
    {
      "cell_type": "code",
      "metadata": {
        "id": "ZBo2omBdsfS4"
      },
      "source": [
        "#Creamos una lista donde se almacenen los arcos\n",
        "lstTupla=[]\n",
        "for i,value in enumerate(lstShort[0]):#<---primer camino\n",
        "  lstTupla.append((value,i))"
      ],
      "execution_count": 110,
      "outputs": []
    },
    {
      "cell_type": "code",
      "metadata": {
        "colab": {
          "base_uri": "https://localhost:8080/"
        },
        "id": "sMVF2_iFxtNp",
        "outputId": "0e3c1bec-0b51-40f5-9415-beec7b8bf2cc"
      },
      "source": [
        "lstTupla"
      ],
      "execution_count": 111,
      "outputs": [
        {
          "output_type": "execute_result",
          "data": {
            "text/plain": [
              "[(3, 0), (0, 1), (1, 2), (4, 3), (5, 4), (6, 5), (2, 6)]"
            ]
          },
          "metadata": {
            "tags": []
          },
          "execution_count": 111
        }
      ]
    },
    {
      "cell_type": "code",
      "metadata": {
        "id": "0dnT_ltgkUdu"
      },
      "source": [
        "#Buscador de nombres de la consulta realizada\n",
        "def nameNode(value):\n",
        "  for i,j in nameQ:\n",
        "    if value == i:\n",
        "      return j"
      ],
      "execution_count": 112,
      "outputs": []
    },
    {
      "cell_type": "code",
      "metadata": {
        "id": "n9XcvvCtCuZZ"
      },
      "source": [
        "#Graficamos el punto más corto\n",
        "G_s = nx.DiGraph()\n",
        "for i,value in enumerate(lstShort[1]):\n",
        "  G_s.add_edge(nameNode(value) ,nameNode(i))"
      ],
      "execution_count": 113,
      "outputs": []
    },
    {
      "cell_type": "code",
      "metadata": {
        "colab": {
          "base_uri": "https://localhost:8080/",
          "height": 73
        },
        "id": "PY8Lsj9sGs9v",
        "outputId": "5ab1aaa6-b4a7-410c-84c9-236e11800e05"
      },
      "source": [
        "print(\"LA RUTA MÁS CORTA QUE SE PUEDE REALIZAR\")\n",
        "nx2gv(G_s)"
      ],
      "execution_count": 114,
      "outputs": [
        {
          "output_type": "stream",
          "text": [
            "LA RUTA MÁS CORTA QUE SE PUEDE REALIZAR\n"
          ],
          "name": "stdout"
        },
        {
          "output_type": "execute_result",
          "data": {
            "text/plain": [
              "<graphviz.dot.Digraph at 0x7fb51334bd50>"
            ],
            "image/svg+xml": "<?xml version=\"1.0\" encoding=\"UTF-8\" standalone=\"no\"?>\n<!DOCTYPE svg PUBLIC \"-//W3C//DTD SVG 1.1//EN\"\n \"http://www.w3.org/Graphics/SVG/1.1/DTD/svg11.dtd\">\n<!-- Generated by graphviz version 2.40.1 (20161225.0304)\n -->\n<!-- Title: G Pages: 1 -->\n<svg width=\"432pt\" height=\"26pt\"\n viewBox=\"0.00 0.00 432.00 26.03\" xmlns=\"http://www.w3.org/2000/svg\" xmlns:xlink=\"http://www.w3.org/1999/xlink\">\n<g id=\"graph0\" class=\"graph\" transform=\"scale(.3615 .3615) rotate(0) translate(4 68)\">\n<title>G</title>\n<polygon fill=\"#ffffff\" stroke=\"transparent\" points=\"-4,4 -4,-68 1191.0138,-68 1191.0138,4 -4,4\"/>\n<!-- NARANJITOS -->\n<g id=\"node1\" class=\"node\">\n<title>NARANJITOS</title>\n<ellipse fill=\"none\" stroke=\"#000000\" cx=\"68.8939\" cy=\"-23\" rx=\"68.7879\" ry=\"18\"/>\n<text text-anchor=\"middle\" x=\"68.8939\" y=\"-19.3\" font-family=\"Times,serif\" font-size=\"14.00\" fill=\"#000000\">NARANJITOS</text>\n</g>\n<!-- LONYA GRANDE -->\n<g id=\"node2\" class=\"node\">\n<title>LONYA GRANDE</title>\n<ellipse fill=\"none\" stroke=\"#000000\" cx=\"258.2803\" cy=\"-46\" rx=\"84.485\" ry=\"18\"/>\n<text text-anchor=\"middle\" x=\"258.2803\" y=\"-42.3\" font-family=\"Times,serif\" font-size=\"14.00\" fill=\"#000000\">LONYA GRANDE</text>\n</g>\n<!-- NARANJITOS&#45;&gt;LONYA GRANDE -->\n<g id=\"edge1\" class=\"edge\">\n<title>NARANJITOS&#45;&gt;LONYA GRANDE</title>\n<path fill=\"none\" stroke=\"#000000\" d=\"M131.4309,-30.5948C145.2624,-32.2746 160.1324,-34.0804 174.6507,-35.8436\"/>\n<polygon fill=\"#000000\" stroke=\"#000000\" points=\"174.2795,-39.3242 184.6286,-37.0554 175.1235,-32.3752 174.2795,-39.3242\"/>\n</g>\n<!-- MANCARRON -->\n<g id=\"node5\" class=\"node\">\n<title>MANCARRON</title>\n<ellipse fill=\"none\" stroke=\"#000000\" cx=\"450.9164\" cy=\"-46\" rx=\"72.2875\" ry=\"18\"/>\n<text text-anchor=\"middle\" x=\"450.9164\" y=\"-42.3\" font-family=\"Times,serif\" font-size=\"14.00\" fill=\"#000000\">MANCARRON</text>\n</g>\n<!-- LONYA GRANDE&#45;&gt;MANCARRON -->\n<g id=\"edge2\" class=\"edge\">\n<title>LONYA GRANDE&#45;&gt;MANCARRON</title>\n<path fill=\"none\" stroke=\"#000000\" d=\"M342.7733,-46C351.2539,-46 359.8587,-46 368.3193,-46\"/>\n<polygon fill=\"#000000\" stroke=\"#000000\" points=\"368.5499,-49.5001 378.5499,-46 368.5499,-42.5001 368.5499,-49.5001\"/>\n</g>\n<!-- PUERTO NARANJITOS -->\n<g id=\"node3\" class=\"node\">\n<title>PUERTO NARANJITOS</title>\n<ellipse fill=\"none\" stroke=\"#000000\" cx=\"1079.1234\" cy=\"-23\" rx=\"107.781\" ry=\"18\"/>\n<text text-anchor=\"middle\" x=\"1079.1234\" y=\"-19.3\" font-family=\"Times,serif\" font-size=\"14.00\" fill=\"#000000\">PUERTO NARANJITOS</text>\n</g>\n<!-- PUERTO NARANJITOS&#45;&gt;NARANJITOS -->\n<g id=\"edge3\" class=\"edge\">\n<title>PUERTO NARANJITOS&#45;&gt;NARANJITOS</title>\n<path fill=\"none\" stroke=\"#000000\" d=\"M987.4791,-13.4125C919.305,-7.1015 823.9408,0 739.9971,0 450.9164,0 450.9164,0 450.9164,0 344.0878,0 220.7586,-9.0723 143.7937,-15.8212\"/>\n<polygon fill=\"#000000\" stroke=\"#000000\" points=\"143.3647,-12.3454 133.713,-16.7151 143.9831,-19.318 143.3647,-12.3454\"/>\n</g>\n<!-- ARCURCO -->\n<g id=\"node4\" class=\"node\">\n<title>ARCURCO</title>\n<ellipse fill=\"none\" stroke=\"#000000\" cx=\"878.688\" cy=\"-46\" rx=\"56.59\" ry=\"18\"/>\n<text text-anchor=\"middle\" x=\"878.688\" y=\"-42.3\" font-family=\"Times,serif\" font-size=\"14.00\" fill=\"#000000\">ARCURCO</text>\n</g>\n<!-- ARCURCO&#45;&gt;PUERTO NARANJITOS -->\n<g id=\"edge4\" class=\"edge\">\n<title>ARCURCO&#45;&gt;PUERTO NARANJITOS</title>\n<path fill=\"none\" stroke=\"#000000\" d=\"M932.1377,-39.8666C946.9274,-38.1695 963.4687,-36.2714 979.9715,-34.3777\"/>\n<polygon fill=\"#000000\" stroke=\"#000000\" points=\"980.6901,-37.8183 990.2259,-33.201 979.892,-30.8639 980.6901,-37.8183\"/>\n</g>\n<!-- BOLIVIA -->\n<g id=\"node6\" class=\"node\">\n<title>BOLIVIA</title>\n<ellipse fill=\"none\" stroke=\"#000000\" cx=\"608.4556\" cy=\"-46\" rx=\"49.2915\" ry=\"18\"/>\n<text text-anchor=\"middle\" x=\"608.4556\" y=\"-42.3\" font-family=\"Times,serif\" font-size=\"14.00\" fill=\"#000000\">BOLIVIA</text>\n</g>\n<!-- MANCARRON&#45;&gt;BOLIVIA -->\n<g id=\"edge5\" class=\"edge\">\n<title>MANCARRON&#45;&gt;BOLIVIA</title>\n<path fill=\"none\" stroke=\"#000000\" d=\"M523.2309,-46C531.6482,-46 540.1646,-46 548.3919,-46\"/>\n<polygon fill=\"#000000\" stroke=\"#000000\" points=\"548.6295,-49.5001 558.6295,-46 548.6294,-42.5001 548.6295,-49.5001\"/>\n</g>\n<!-- MATULI -->\n<g id=\"node7\" class=\"node\">\n<title>MATULI</title>\n<ellipse fill=\"none\" stroke=\"#000000\" cx=\"739.9971\" cy=\"-46\" rx=\"46.2923\" ry=\"18\"/>\n<text text-anchor=\"middle\" x=\"739.9971\" y=\"-42.3\" font-family=\"Times,serif\" font-size=\"14.00\" fill=\"#000000\">MATULI</text>\n</g>\n<!-- BOLIVIA&#45;&gt;MATULI -->\n<g id=\"edge6\" class=\"edge\">\n<title>BOLIVIA&#45;&gt;MATULI</title>\n<path fill=\"none\" stroke=\"#000000\" d=\"M658.1858,-46C666.4616,-46 675.0983,-46 683.527,-46\"/>\n<polygon fill=\"#000000\" stroke=\"#000000\" points=\"683.6668,-49.5001 693.6668,-46 683.6667,-42.5001 683.6668,-49.5001\"/>\n</g>\n<!-- MATULI&#45;&gt;ARCURCO -->\n<g id=\"edge7\" class=\"edge\">\n<title>MATULI&#45;&gt;ARCURCO</title>\n<path fill=\"none\" stroke=\"#000000\" d=\"M786.1792,-46C794.4482,-46 803.2136,-46 811.9247,-46\"/>\n<polygon fill=\"#000000\" stroke=\"#000000\" points=\"812.0927,-49.5001 822.0927,-46 812.0927,-42.5001 812.0927,-49.5001\"/>\n</g>\n</g>\n</svg>\n"
          },
          "metadata": {
            "tags": []
          },
          "execution_count": 114
        }
      ]
    },
    {
      "cell_type": "code",
      "metadata": {
        "colab": {
          "base_uri": "https://localhost:8080/",
          "height": 730
        },
        "id": "HE3DWWoesFVU",
        "outputId": "62999950-8f6d-42f0-f7ea-3859182ab401"
      },
      "source": [
        "plt.figure(figsize=(12,12))\n",
        "\n",
        "\n",
        "plt.title(\"RUTA MÁS CORTA\")#Le damos un titulo al grafico\n",
        "plt.xlabel(\"LATITUD\")\n",
        "plt.ylabel(\"LONGITUD\")\n",
        "\n",
        "plt.scatter(cord_x,cord_y, color='green',zorder=1)\n",
        "\n",
        "for i,j in lstTupla:\n",
        "  plt.plot([cord_x[i],cord_x[j]],[cord_y[i],cord_y[j]],color='green',zorder=1)\n",
        "\n",
        "\n",
        "plt.show()\n",
        "\n",
        "\n",
        "#Mostramos el indice de las ciudades\n"
      ],
      "execution_count": 115,
      "outputs": [
        {
          "output_type": "display_data",
          "data": {
            "image/png": "[encoded data removed]",
            "text/plain": [
              "<Figure size 864x864 with 1 Axes>"
            ]
          },
          "metadata": {
            "tags": [],
            "needs_background": "light"
          }
        }
      ]
    },
    {
      "cell_type": "markdown",
      "metadata": {
        "id": "UW24exUxh8TN"
      },
      "source": [
        "#Apuntes BLOCK"
      ]
    },
    {
      "cell_type": "code",
      "metadata": {
        "id": "lqN0F6TxLTx8"
      },
      "source": [
        "#for i in range(len(df_Q2)):\n",
        "#  print(df_Q2[])"
      ],
      "execution_count": null,
      "outputs": []
    },
    {
      "cell_type": "code",
      "metadata": {
        "id": "00gkeDRgNgTa"
      },
      "source": [
        "#is_male = df.loc[3, 'LATITUD'] == -6.09637\n",
        "#is_male\n",
        "#h=df_2[df_2['DEPARTAMENTO'] == 'AMAZONAS']\n",
        "#h"
      ],
      "execution_count": null,
      "outputs": []
    },
    {
      "cell_type": "code",
      "metadata": {
        "id": "40rAOQEZg3am"
      },
      "source": [
        "lista=[-2.5,-40.5,-4.5]\n",
        "#Valor absoluto a la lista\n",
        "hola=[abs(float(x)) for x in lista ]"
      ],
      "execution_count": null,
      "outputs": []
    },
    {
      "cell_type": "code",
      "metadata": {
        "id": "sIaudRRJhe8-"
      },
      "source": [
        "hola"
      ],
      "execution_count": null,
      "outputs": []
    },
    {
      "cell_type": "code",
      "metadata": {
        "id": "z51Q-1H3gZzM"
      },
      "source": [
        "cord_y"
      ],
      "execution_count": null,
      "outputs": []
    },
    {
      "cell_type": "code",
      "metadata": {
        "id": "o50kxtA-Y9yG"
      },
      "source": [
        "df_2.dtypes"
      ],
      "execution_count": null,
      "outputs": []
    },
    {
      "cell_type": "code",
      "metadata": {
        "id": "7JrQ66vngOUp"
      },
      "source": [
        "type(Prueba)"
      ],
      "execution_count": null,
      "outputs": []
    },
    {
      "cell_type": "code",
      "metadata": {
        "id": "aBqX21NPgI-v"
      },
      "source": [
        "Prueba=[(i,j,np.hypot(cord_x[i]-cord_x[j],cord_y[i]-cord_y[j])) for i,j in arc]"
      ],
      "execution_count": null,
      "outputs": []
    },
    {
      "cell_type": "code",
      "metadata": {
        "id": "fwjVMdpEDOQ3"
      },
      "source": [
        "#Diccionario de datos\n",
        "DEucli={(i,j):np.hypot(cord_x[i]-cord_x[j],cord_y[i]-cord_y[j]) for i,j in arc}"
      ],
      "execution_count": null,
      "outputs": []
    },
    {
      "cell_type": "markdown",
      "metadata": {
        "id": "x9qGJFtQsjur"
      },
      "source": [
        "La idea es primero graficar en un plano cartesiano los puntos, luego al tenerlo, hacer la matriz de adyacencia para poder meterlo a la funcion USC del profesor previamente modificado para que nos retorne el menor viaje, luego que lo optenemos lo mostramos, y luego mostramos toda la lista de posibles viajes "
      ]
    }
  ]
}